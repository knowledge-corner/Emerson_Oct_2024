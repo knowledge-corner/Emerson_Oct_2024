{
 "cells": [
  {
   "cell_type": "markdown",
   "metadata": {},
   "source": [
    "# Functions in Python\n",
    "\n",
    "A function is set of statements that take input in the form of parameters, performs computation on the input and returns a result in the form of return statement\n",
    "\n",
    "#### Syntax – \n",
    "\n",
    "def `function-name` (`parameters if any`):\n",
    "\t\n",
    "&nbsp;&nbsp;&nbsp;&nbsp;&nbsp;&nbsp; *# function code*\n",
    "\t\n",
    "&nbsp;&nbsp;&nbsp;&nbsp;&nbsp;&nbsp; `return` statement\n",
    "    \n",
    "\n",
    "##### Note : It is a best practice to avoid usage of input() and print() functions in a function definition"
   ]
  },
  {
   "cell_type": "markdown",
   "metadata": {},
   "source": [
    "###### WAF to calculate factorial of a number"
   ]
  },
  {
   "cell_type": "code",
   "execution_count": 5,
   "metadata": {},
   "outputs": [],
   "source": [
    "# Function Definition\n",
    "def factorial(num): \n",
    "    fact = 1\n",
    "    for i in range(num, 1, -1):\n",
    "        fact *= i\n",
    "    return fact"
   ]
  },
  {
   "cell_type": "code",
   "execution_count": 3,
   "metadata": {},
   "outputs": [
    {
     "data": {
      "text/plain": [
       "120"
      ]
     },
     "execution_count": 3,
     "metadata": {},
     "output_type": "execute_result"
    }
   ],
   "source": [
    "factorial(5)  # Function call"
   ]
  },
  {
   "cell_type": "markdown",
   "metadata": {},
   "source": [
    "##### Note - Function attributes \n",
    "**Function Definition**\n",
    "1. def - keyword\n",
    "2. factorial() - name of function\n",
    "3. num - parameter defined in function, used to take input required for algorithm\n",
    "4. function implementation - algorithm/code\n",
    "5. return statement - the value that has to returned back\n",
    "   \n",
    "**Function Definition**\n",
    "1. function name ()\n",
    "2. 5 - argument - object passed to the parameters"
   ]
  },
  {
   "cell_type": "code",
   "execution_count": 9,
   "metadata": {},
   "outputs": [],
   "source": [
    "# Function Definition\n",
    "def factorial(num): \n",
    "    if type(num) == int :\n",
    "        fact = 1\n",
    "        for i in range(num, 1, -1):\n",
    "            fact *= i\n",
    "        return fact"
   ]
  },
  {
   "cell_type": "code",
   "execution_count": 10,
   "metadata": {},
   "outputs": [
    {
     "name": "stdout",
     "output_type": "stream",
     "text": [
      "None\n"
     ]
    }
   ],
   "source": [
    "print(factorial(\"abcd\"))"
   ]
  },
  {
   "cell_type": "markdown",
   "metadata": {},
   "source": [
    "##### Note - If a function has no return statement it will return None as default"
   ]
  },
  {
   "cell_type": "code",
   "execution_count": 7,
   "metadata": {},
   "outputs": [
    {
     "name": "stdout",
     "output_type": "stream",
     "text": [
      "25 125\n"
     ]
    }
   ],
   "source": [
    "# Function returning multiple values\n",
    "def func(num) :\n",
    "    return num**2, num**3  # returns multiple values in a single tuple object\n",
    "\n",
    "square, cube = func(5)  # storing the returned values into variable - unpacking of tuples\n",
    "print(square, cube)"
   ]
  },
  {
   "cell_type": "code",
   "execution_count": 13,
   "metadata": {},
   "outputs": [
    {
     "data": {
      "image/png": "[encoded data removed]",
      "text/plain": [
       "<Figure size 640x480 with 2 Axes>"
      ]
     },
     "metadata": {},
     "output_type": "display_data"
    }
   ],
   "source": [
    "import matplotlib.pyplot as plt\n",
    "\n",
    "fig, ax = plt.subplots(nrows=2)  # examples of unpacking of tuples"
   ]
  },
  {
   "cell_type": "markdown",
   "metadata": {},
   "source": [
    "### Function Arguments\n",
    "\n",
    "- Required Positional Arguments \n",
    "- Default Arguments \n",
    "- Variable length Arguments\n",
    "- Key-word Arguments \n",
    "- Variable-length Keyword Arguments\n"
   ]
  },
  {
   "cell_type": "markdown",
   "metadata": {},
   "source": [
    "#### Required Positional Argument"
   ]
  },
  {
   "cell_type": "code",
   "execution_count": 12,
   "metadata": {},
   "outputs": [
    {
     "name": "stdout",
     "output_type": "stream",
     "text": [
      "Name - Jane | Age - 30\n",
      "Name - 30 | Age - Jane\n"
     ]
    },
    {
     "ename": "TypeError",
     "evalue": "demo() missing 1 required positional argument: 'age'",
     "output_type": "error",
     "traceback": [
      "\u001b[1;31m---------------------------------------------------------------------------\u001b[0m",
      "\u001b[1;31mTypeError\u001b[0m                                 Traceback (most recent call last)",
      "Cell \u001b[1;32mIn[12], line 6\u001b[0m\n\u001b[0;32m      4\u001b[0m demo(\u001b[38;5;124m\"\u001b[39m\u001b[38;5;124mJane\u001b[39m\u001b[38;5;124m\"\u001b[39m, \u001b[38;5;241m30\u001b[39m)\n\u001b[0;32m      5\u001b[0m demo(\u001b[38;5;241m30\u001b[39m, \u001b[38;5;124m\"\u001b[39m\u001b[38;5;124mJane\u001b[39m\u001b[38;5;124m\"\u001b[39m)\n\u001b[1;32m----> 6\u001b[0m \u001b[43mdemo\u001b[49m\u001b[43m(\u001b[49m\u001b[38;5;124;43m\"\u001b[39;49m\u001b[38;5;124;43mJane\u001b[39;49m\u001b[38;5;124;43m\"\u001b[39;49m\u001b[43m)\u001b[49m\n",
      "\u001b[1;31mTypeError\u001b[0m: demo() missing 1 required positional argument: 'age'"
     ]
    }
   ],
   "source": [
    "def demo(name, age):\n",
    "    print(f\"Name - {name} | Age - {age}\")\n",
    "\n",
    "demo(\"Jane\", 30)\n",
    "demo(30, \"Jane\")  # Position of arguments must be same as parameters\n",
    "demo(\"Jane\")  # No of arguments = No of Parameters"
   ]
  },
  {
   "cell_type": "markdown",
   "metadata": {},
   "source": [
    "###### Examples"
   ]
  },
  {
   "cell_type": "code",
   "execution_count": 14,
   "metadata": {},
   "outputs": [
    {
     "ename": "TypeError",
     "evalue": "insert expected 2 arguments, got 1",
     "output_type": "error",
     "traceback": [
      "\u001b[1;31m---------------------------------------------------------------------------\u001b[0m",
      "\u001b[1;31mTypeError\u001b[0m                                 Traceback (most recent call last)",
      "Cell \u001b[1;32mIn[14], line 3\u001b[0m\n\u001b[0;32m      1\u001b[0m lst \u001b[38;5;241m=\u001b[39m [\u001b[38;5;241m1\u001b[39m, \u001b[38;5;241m2\u001b[39m, \u001b[38;5;241m3\u001b[39m, \u001b[38;5;241m4\u001b[39m]\n\u001b[0;32m      2\u001b[0m lst\u001b[38;5;241m.\u001b[39minsert(\u001b[38;5;241m5\u001b[39m, \u001b[38;5;241m2\u001b[39m)  \u001b[38;5;66;03m# 2 is inserted at index 5 - positional argument\u001b[39;00m\n\u001b[1;32m----> 3\u001b[0m \u001b[43mlst\u001b[49m\u001b[38;5;241;43m.\u001b[39;49m\u001b[43minsert\u001b[49m\u001b[43m(\u001b[49m\u001b[38;5;241;43m5\u001b[39;49m\u001b[43m)\u001b[49m  \u001b[38;5;66;03m# 2 is inserted at index 5\u001b[39;00m\n\u001b[0;32m      5\u001b[0m lst\n",
      "\u001b[1;31mTypeError\u001b[0m: insert expected 2 arguments, got 1"
     ]
    }
   ],
   "source": [
    "lst = [1, 2, 3, 4]\n",
    "lst.insert(5, 2)  # 2 is inserted at index 5 - positional argument\n",
    "lst.insert(5)  # Required Argument\n",
    "lst"
   ]
  },
  {
   "cell_type": "code",
   "execution_count": 15,
   "metadata": {},
   "outputs": [
    {
     "name": "stdout",
     "output_type": "stream",
     "text": [
      "Help on built-in function insert:\n",
      "\n",
      "insert(index, object, /) method of builtins.list instance\n",
      "    Insert object before index.\n",
      "\n"
     ]
    }
   ],
   "source": [
    "help(lst.insert)"
   ]
  },
  {
   "cell_type": "markdown",
   "metadata": {},
   "source": [
    "###### Example - 2"
   ]
  },
  {
   "cell_type": "code",
   "execution_count": 18,
   "metadata": {},
   "outputs": [
    {
     "ename": "TypeError",
     "evalue": "replace expected at least 2 arguments, got 1",
     "output_type": "error",
     "traceback": [
      "\u001b[1;31m---------------------------------------------------------------------------\u001b[0m",
      "\u001b[1;31mTypeError\u001b[0m                                 Traceback (most recent call last)",
      "Cell \u001b[1;32mIn[18], line 4\u001b[0m\n\u001b[0;32m      2\u001b[0m strg\u001b[38;5;241m.\u001b[39mreplace(\u001b[38;5;124m\"\u001b[39m\u001b[38;5;124mi\u001b[39m\u001b[38;5;124m\"\u001b[39m, \u001b[38;5;124m\"\u001b[39m\u001b[38;5;124m*\u001b[39m\u001b[38;5;124m\"\u001b[39m)\n\u001b[0;32m      3\u001b[0m strg\u001b[38;5;241m.\u001b[39mreplace(\u001b[38;5;124m\"\u001b[39m\u001b[38;5;124m*\u001b[39m\u001b[38;5;124m\"\u001b[39m, \u001b[38;5;124m\"\u001b[39m\u001b[38;5;124mi\u001b[39m\u001b[38;5;124m\"\u001b[39m)  \u001b[38;5;66;03m# Positional argumnent\u001b[39;00m\n\u001b[1;32m----> 4\u001b[0m \u001b[43mstrg\u001b[49m\u001b[38;5;241;43m.\u001b[39;49m\u001b[43mreplace\u001b[49m\u001b[43m(\u001b[49m\u001b[38;5;124;43m\"\u001b[39;49m\u001b[38;5;124;43mi\u001b[39;49m\u001b[38;5;124;43m\"\u001b[39;49m\u001b[43m)\u001b[49m\n",
      "\u001b[1;31mTypeError\u001b[0m: replace expected at least 2 arguments, got 1"
     ]
    }
   ],
   "source": [
    "strg = \"mississippi\"\n",
    "strg.replace(\"i\", \"*\")\n",
    "strg.replace(\"*\", \"i\")  # Positional argumnent\n",
    "strg.replace(\"i\")  # Missing argument"
   ]
  },
  {
   "cell_type": "code",
   "execution_count": 19,
   "metadata": {},
   "outputs": [
    {
     "name": "stdout",
     "output_type": "stream",
     "text": [
      "Help on built-in function replace:\n",
      "\n",
      "replace(old, new, count=-1, /) method of builtins.str instance\n",
      "    Return a copy with all occurrences of substring old replaced by new.\n",
      "\n",
      "      count\n",
      "        Maximum number of occurrences to replace.\n",
      "        -1 (the default value) means replace all occurrences.\n",
      "\n",
      "    If the optional argument count is given, only the first count occurrences are\n",
      "    replaced.\n",
      "\n"
     ]
    }
   ],
   "source": [
    "help(strg.replace)"
   ]
  },
  {
   "cell_type": "markdown",
   "metadata": {},
   "source": [
    "#### Default Argument"
   ]
  },
  {
   "cell_type": "code",
   "execution_count": 20,
   "metadata": {},
   "outputs": [
    {
     "data": {
      "text/plain": [
       "'m*ss*ssippi'"
      ]
     },
     "execution_count": 20,
     "metadata": {},
     "output_type": "execute_result"
    }
   ],
   "source": [
    "strg = \"mississippi\"\n",
    "strg.replace(\"i\", \"*\")  # count = -1 default, replacing all occurences\n",
    "strg.replace(\"i\", \"*\", 2)  # count = 2, replacing first 2 occurences"
   ]
  },
  {
   "cell_type": "markdown",
   "metadata": {},
   "source": [
    "###### Example"
   ]
  },
  {
   "cell_type": "code",
   "execution_count": 21,
   "metadata": {},
   "outputs": [
    {
     "data": {
      "text/plain": [
       "[(0, 'Jack'), (1, 'Jane'), (2, 'Rosie')]"
      ]
     },
     "execution_count": 21,
     "metadata": {},
     "output_type": "execute_result"
    }
   ],
   "source": [
    "list(enumerate([\"Jack\", \"Jane\", \"Rosie\"])) # default start = 0 "
   ]
  },
  {
   "cell_type": "code",
   "execution_count": 22,
   "metadata": {},
   "outputs": [
    {
     "data": {
      "text/plain": [
       "[(101, 'Jack'), (102, 'Jane'), (103, 'Rosie')]"
      ]
     },
     "execution_count": 22,
     "metadata": {},
     "output_type": "execute_result"
    }
   ],
   "source": [
    "list(enumerate([\"Jack\", \"Jane\", \"Rosie\"], start = 101)) # start = 101"
   ]
  },
  {
   "cell_type": "code",
   "execution_count": 24,
   "metadata": {},
   "outputs": [
    {
     "name": "stdout",
     "output_type": "stream",
     "text": [
      "<class 'enumerate'>\n"
     ]
    }
   ],
   "source": [
    "result = enumerate([\"Jack\", \"Jane\", \"Rosie\"], start = 101)\n",
    "print(type(result))"
   ]
  },
  {
   "cell_type": "code",
   "execution_count": 23,
   "metadata": {},
   "outputs": [
    {
     "name": "stdout",
     "output_type": "stream",
     "text": [
      "Help on class enumerate in module builtins:\n",
      "\n",
      "class enumerate(object)\n",
      " |  enumerate(iterable, start=0)\n",
      " |\n",
      " |  Return an enumerate object.\n",
      " |\n",
      " |    iterable\n",
      " |      an object supporting iteration\n",
      " |\n",
      " |  The enumerate object yields pairs containing a count (from start, which\n",
      " |  defaults to zero) and a value yielded by the iterable argument.\n",
      " |\n",
      " |  enumerate is useful for obtaining an indexed list:\n",
      " |      (0, seq[0]), (1, seq[1]), (2, seq[2]), ...\n",
      " |\n",
      " |  Methods defined here:\n",
      " |\n",
      " |  __getattribute__(self, name, /)\n",
      " |      Return getattr(self, name).\n",
      " |\n",
      " |  __iter__(self, /)\n",
      " |      Implement iter(self).\n",
      " |\n",
      " |  __next__(self, /)\n",
      " |      Implement next(self).\n",
      " |\n",
      " |  __reduce__(...)\n",
      " |      Return state information for pickling.\n",
      " |\n",
      " |  ----------------------------------------------------------------------\n",
      " |  Class methods defined here:\n",
      " |\n",
      " |  __class_getitem__(...)\n",
      " |      See PEP 585\n",
      " |\n",
      " |  ----------------------------------------------------------------------\n",
      " |  Static methods defined here:\n",
      " |\n",
      " |  __new__(*args, **kwargs)\n",
      " |      Create and return a new object.  See help(type) for accurate signature.\n",
      "\n"
     ]
    }
   ],
   "source": [
    "help(enumerate)"
   ]
  },
  {
   "cell_type": "markdown",
   "metadata": {},
   "source": [
    "#### Variable-length Argument"
   ]
  },
  {
   "cell_type": "code",
   "execution_count": 29,
   "metadata": {},
   "outputs": [
    {
     "name": "stdout",
     "output_type": "stream",
     "text": [
      "Name - Jane | Age - 18 | ARGS - ('abcd', 70, 80, 90, 19)\n"
     ]
    }
   ],
   "source": [
    "def demo(name, *args, age = 18):\n",
    "    print(f\"Name - {name} | Age - {age} | ARGS - {args}\")\n",
    "\n",
    "demo(\"Jane\", \"abcd\", 70, 80, 90, 19)"
   ]
  },
  {
   "cell_type": "markdown",
   "metadata": {},
   "source": [
    "###### Example"
   ]
  },
  {
   "cell_type": "code",
   "execution_count": 30,
   "metadata": {},
   "outputs": [
    {
     "name": "stdout",
     "output_type": "stream",
     "text": [
      "Help on built-in function print in module builtins:\n",
      "\n",
      "print(*args, sep=' ', end='\\n', file=None, flush=False)\n",
      "    Prints the values to a stream, or to sys.stdout by default.\n",
      "\n",
      "    sep\n",
      "      string inserted between values, default a space.\n",
      "    end\n",
      "      string appended after the last value, default a newline.\n",
      "    file\n",
      "      a file-like object (stream); defaults to the current sys.stdout.\n",
      "    flush\n",
      "      whether to forcibly flush the stream.\n",
      "\n"
     ]
    }
   ],
   "source": [
    "help(print)"
   ]
  },
  {
   "cell_type": "markdown",
   "metadata": {},
   "source": [
    "#### Key-word Argument"
   ]
  },
  {
   "cell_type": "code",
   "execution_count": 27,
   "metadata": {},
   "outputs": [
    {
     "name": "stdout",
     "output_type": "stream",
     "text": [
      "Name - Jane | Age - 19 | ARGS - (60, 70, 80, 90)\n"
     ]
    }
   ],
   "source": [
    "demo(\"Jane\", 60, 70, 80, 90, age = 19)"
   ]
  },
  {
   "cell_type": "code",
   "execution_count": 32,
   "metadata": {},
   "outputs": [
    {
     "name": "stdout",
     "output_type": "stream",
     "text": [
      "Welcome_Anna_. How are you?\n"
     ]
    }
   ],
   "source": [
    "name = \"Anna\"\n",
    "print(\"Welcome\", name, \". How are you?\", sep = \"_\")"
   ]
  },
  {
   "cell_type": "markdown",
   "metadata": {},
   "source": [
    "#### Variable-length Keyword Argument"
   ]
  },
  {
   "cell_type": "code",
   "execution_count": 45,
   "metadata": {},
   "outputs": [
    {
     "name": "stdout",
     "output_type": "stream",
     "text": [
      "Name - Jane | Age - 19 | ARGS - ('abcd', 70, 80, 90) | KWARGS - {'mob': 9876543, 'gender': 'F'} | Gender - F\n"
     ]
    }
   ],
   "source": [
    "def demo(name, *args, age = 18, **kwargs):\n",
    "    print(f\"Name - {name} | Age - {age} | ARGS - {args} | KWARGS - {kwargs} | Gender - {kwargs['gender']}\")\n",
    "\n",
    "demo(\"Jane\", \"abcd\", 70, 80, 90, age = 19, mob = 9876543, gender = \"F\")"
   ]
  },
  {
   "cell_type": "markdown",
   "metadata": {},
   "source": [
    "###### Example"
   ]
  },
  {
   "cell_type": "code",
   "execution_count": 38,
   "metadata": {},
   "outputs": [
    {
     "data": {
      "text/plain": [
       "<BarContainer object of 5 artists>"
      ]
     },
     "execution_count": 38,
     "metadata": {},
     "output_type": "execute_result"
    },
    {
     "data": {
      "image/png": "[encoded data removed]",
      "text/plain": [
       "<Figure size 300x200 with 1 Axes>"
      ]
     },
     "metadata": {},
     "output_type": "display_data"
    }
   ],
   "source": [
    "import matplotlib.pyplot as plt\n",
    "import random as r\n",
    "\n",
    "products = [\"P1\", \"P2\", \"P3\", \"P4\", \"P5\"]\n",
    "sales = [r.randint(1000, 50000) for i in range(5)]\n",
    "plt.figure(figsize=(3, 2))\n",
    "plt.bar(products, sales, width=0.6, color = \"cyan\", edgecolor = \"black\")"
   ]
  },
  {
   "cell_type": "markdown",
   "metadata": {},
   "source": [
    "#### Application of packing and unpacking of tuple wrt functions"
   ]
  },
  {
   "cell_type": "markdown",
   "metadata": {},
   "source": [
    "###### Ex. packing and unpacking wrt return statement"
   ]
  },
  {
   "cell_type": "code",
   "execution_count": 48,
   "metadata": {},
   "outputs": [],
   "source": [
    "def func(num) :\n",
    "    return num**2, num**3  # packing\n",
    "sq, cu = func(5)  # unpacking"
   ]
  },
  {
   "cell_type": "markdown",
   "metadata": {},
   "source": [
    "###### Ex. packing of tuples wrt function arguments"
   ]
  },
  {
   "cell_type": "code",
   "execution_count": 46,
   "metadata": {},
   "outputs": [
    {
     "name": "stdout",
     "output_type": "stream",
     "text": [
      "(10, 20, 30, 40, 50)\n"
     ]
    }
   ],
   "source": [
    "def demo(*args):\n",
    "    print(args)  # args - tuple object\n",
    "\n",
    "demo(10, 20, 30, 40, 50)  # packing of tuples"
   ]
  },
  {
   "cell_type": "code",
   "execution_count": 56,
   "metadata": {},
   "outputs": [],
   "source": [
    "# Function to write data to a file\n",
    "def write_to_file(name, age, gender):\n",
    "    with open(\"data.txt\", \"a\") as file :\n",
    "        file.write(f\"Name - {name} | Age - {age} | Gender - {gender}\\n\")\n",
    "        print(f\"Data for {name} added to the file.\")"
   ]
  },
  {
   "cell_type": "markdown",
   "metadata": {},
   "source": [
    "###### Ex. unpacking of tuples wrt function arguments"
   ]
  },
  {
   "cell_type": "code",
   "execution_count": 54,
   "metadata": {},
   "outputs": [
    {
     "name": "stdout",
     "output_type": "stream",
     "text": [
      "Data for Jane added to the file.\n",
      "Data for George added to the file.\n",
      "Data for Jack added to the file.\n"
     ]
    }
   ],
   "source": [
    "data = [[\"Jane\", 30, \"F\"], [\"George\", 25, \"M\",], [\"Jack\", 35, \"M\"]]\n",
    "for lst in data :\n",
    "    write_to_file(*lst)  # *lst is using unpacking of tuples to pass the values in the list to the variables"
   ]
  },
  {
   "cell_type": "markdown",
   "metadata": {},
   "source": [
    "###### Ex. packing of key-value pairs to a dict "
   ]
  },
  {
   "cell_type": "code",
   "execution_count": 47,
   "metadata": {},
   "outputs": [
    {
     "name": "stdout",
     "output_type": "stream",
     "text": [
      "{'name': 'Jane', 'age': '30'}\n"
     ]
    }
   ],
   "source": [
    "def demo(**kwargs):\n",
    "    print(kwargs)  # kwargs - dict object\n",
    "\n",
    "demo(name = \"Jane\", age = \"30\")  # packing of dict "
   ]
  },
  {
   "cell_type": "markdown",
   "metadata": {},
   "source": [
    "###### Ex. unpacking of elements in a dict"
   ]
  },
  {
   "cell_type": "code",
   "execution_count": 59,
   "metadata": {},
   "outputs": [
    {
     "name": "stdout",
     "output_type": "stream",
     "text": [
      "Data for Jane added to the file.\n",
      "Data for Jack added to the file.\n"
     ]
    }
   ],
   "source": [
    "data = [{\"name\" : \"Jane\", \"gender\" : \"F\", \"age\" : 30}, {\"age\" :25, \"gender\" : \"M\", \"name\": \"Jack\"}]\n",
    "for i in data :\n",
    "    write_to_file(**i)"
   ]
  },
  {
   "cell_type": "markdown",
   "metadata": {},
   "source": [
    "##### Note - Brackets\n",
    "\n",
    "1. `()` - tuples, parenthesis, function call\n",
    "2. `[]` - lists, indexing in lists/tuples/dict\n",
    "3. `{}` - sets, dict, inserting variables in formatted string"
   ]
  },
  {
   "cell_type": "markdown",
   "metadata": {},
   "source": [
    "#### Purpose of `/` and `*` in a function definition\n",
    "\n",
    "- **`*`** - Arguments defined `after` * must be keyword only\n",
    "- **`/`** - Arguments defined `before` / must be positional only"
   ]
  },
  {
   "cell_type": "code",
   "execution_count": 63,
   "metadata": {},
   "outputs": [
    {
     "name": "stdout",
     "output_type": "stream",
     "text": [
      "Name - Jane | Age - 30\n",
      "Name - Jane | Age - 30\n"
     ]
    }
   ],
   "source": [
    "def demo(name, age):\n",
    "    print(f\"Name - {name} | Age - {age}\")\n",
    "\n",
    "demo(\"Jane\", 30) # Positional only\n",
    "demo (age = 30, name = \"Jane\") # keyword-only"
   ]
  },
  {
   "cell_type": "code",
   "execution_count": 64,
   "metadata": {},
   "outputs": [
    {
     "name": "stdout",
     "output_type": "stream",
     "text": [
      "Name - Jane | Age - 30\n",
      "Name - Jane | Age - 30\n"
     ]
    },
    {
     "ename": "TypeError",
     "evalue": "demo() got some positional-only arguments passed as keyword arguments: 'name'",
     "output_type": "error",
     "traceback": [
      "\u001b[1;31m---------------------------------------------------------------------------\u001b[0m",
      "\u001b[1;31mTypeError\u001b[0m                                 Traceback (most recent call last)",
      "Cell \u001b[1;32mIn[64], line 6\u001b[0m\n\u001b[0;32m      4\u001b[0m demo(\u001b[38;5;124m\"\u001b[39m\u001b[38;5;124mJane\u001b[39m\u001b[38;5;124m\"\u001b[39m, \u001b[38;5;241m30\u001b[39m) \n\u001b[0;32m      5\u001b[0m demo(\u001b[38;5;124m\"\u001b[39m\u001b[38;5;124mJane\u001b[39m\u001b[38;5;124m\"\u001b[39m, age \u001b[38;5;241m=\u001b[39m \u001b[38;5;241m30\u001b[39m)\n\u001b[1;32m----> 6\u001b[0m \u001b[43mdemo\u001b[49m\u001b[43m(\u001b[49m\u001b[43mname\u001b[49m\u001b[43m \u001b[49m\u001b[38;5;241;43m=\u001b[39;49m\u001b[43m \u001b[49m\u001b[38;5;124;43m\"\u001b[39;49m\u001b[38;5;124;43mJane\u001b[39;49m\u001b[38;5;124;43m\"\u001b[39;49m\u001b[43m,\u001b[49m\u001b[43m \u001b[49m\u001b[43mage\u001b[49m\u001b[43m \u001b[49m\u001b[38;5;241;43m=\u001b[39;49m\u001b[43m \u001b[49m\u001b[38;5;241;43m30\u001b[39;49m\u001b[43m)\u001b[49m\n",
      "\u001b[1;31mTypeError\u001b[0m: demo() got some positional-only arguments passed as keyword arguments: 'name'"
     ]
    }
   ],
   "source": [
    "def demo(name, /, age):\n",
    "    print(f\"Name - {name} | Age - {age}\")\n",
    "\n",
    "demo(\"Jane\", 30) \n",
    "demo(\"Jane\", age = 30)\n",
    "demo(name = \"Jane\", age = 30)  # Error - name must be positional only"
   ]
  },
  {
   "cell_type": "markdown",
   "metadata": {},
   "source": [
    "###### Example - strg.replace()"
   ]
  },
  {
   "cell_type": "code",
   "execution_count": 65,
   "metadata": {},
   "outputs": [
    {
     "data": {
      "text/plain": [
       "'m*ss*ssippi'"
      ]
     },
     "execution_count": 65,
     "metadata": {},
     "output_type": "execute_result"
    }
   ],
   "source": [
    "strg = \"mississippi\"\n",
    "strg.replace(\"i\", \"*\", 2)"
   ]
  },
  {
   "cell_type": "code",
   "execution_count": 67,
   "metadata": {},
   "outputs": [
    {
     "ename": "TypeError",
     "evalue": "str.replace() takes no keyword arguments",
     "output_type": "error",
     "traceback": [
      "\u001b[1;31m---------------------------------------------------------------------------\u001b[0m",
      "\u001b[1;31mTypeError\u001b[0m                                 Traceback (most recent call last)",
      "Cell \u001b[1;32mIn[67], line 2\u001b[0m\n\u001b[0;32m      1\u001b[0m strg \u001b[38;5;241m=\u001b[39m \u001b[38;5;124m\"\u001b[39m\u001b[38;5;124mmississippi\u001b[39m\u001b[38;5;124m\"\u001b[39m\n\u001b[1;32m----> 2\u001b[0m \u001b[43mstrg\u001b[49m\u001b[38;5;241;43m.\u001b[39;49m\u001b[43mreplace\u001b[49m\u001b[43m(\u001b[49m\u001b[38;5;124;43m\"\u001b[39;49m\u001b[38;5;124;43mi\u001b[39;49m\u001b[38;5;124;43m\"\u001b[39;49m\u001b[43m,\u001b[49m\u001b[43m \u001b[49m\u001b[38;5;124;43m\"\u001b[39;49m\u001b[38;5;124;43m*\u001b[39;49m\u001b[38;5;124;43m\"\u001b[39;49m\u001b[43m,\u001b[49m\u001b[43m \u001b[49m\u001b[43mcount\u001b[49m\u001b[43m \u001b[49m\u001b[38;5;241;43m=\u001b[39;49m\u001b[43m \u001b[49m\u001b[38;5;241;43m2\u001b[39;49m\u001b[43m)\u001b[49m\n",
      "\u001b[1;31mTypeError\u001b[0m: str.replace() takes no keyword arguments"
     ]
    }
   ],
   "source": [
    "strg = \"mississippi\"\n",
    "strg.replace(\"i\", \"*\", count = 2)"
   ]
  },
  {
   "cell_type": "code",
   "execution_count": 66,
   "metadata": {},
   "outputs": [
    {
     "name": "stdout",
     "output_type": "stream",
     "text": [
      "Help on built-in function replace:\n",
      "\n",
      "replace(old, new, count=-1, /) method of builtins.str instance\n",
      "    Return a copy with all occurrences of substring old replaced by new.\n",
      "\n",
      "      count\n",
      "        Maximum number of occurrences to replace.\n",
      "        -1 (the default value) means replace all occurrences.\n",
      "\n",
      "    If the optional argument count is given, only the first count occurrences are\n",
      "    replaced.\n",
      "\n"
     ]
    }
   ],
   "source": [
    "help(strg.replace)"
   ]
  },
  {
   "cell_type": "code",
   "execution_count": 69,
   "metadata": {},
   "outputs": [
    {
     "name": "stdout",
     "output_type": "stream",
     "text": [
      "Name - Jane | Age - 30\n",
      "Name - Jane | Age - 30\n"
     ]
    },
    {
     "ename": "TypeError",
     "evalue": "demo() takes 1 positional argument but 2 were given",
     "output_type": "error",
     "traceback": [
      "\u001b[1;31m---------------------------------------------------------------------------\u001b[0m",
      "\u001b[1;31mTypeError\u001b[0m                                 Traceback (most recent call last)",
      "Cell \u001b[1;32mIn[69], line 6\u001b[0m\n\u001b[0;32m      4\u001b[0m demo(\u001b[38;5;124m\"\u001b[39m\u001b[38;5;124mJane\u001b[39m\u001b[38;5;124m\"\u001b[39m, age \u001b[38;5;241m=\u001b[39m \u001b[38;5;241m30\u001b[39m)\n\u001b[0;32m      5\u001b[0m demo(name \u001b[38;5;241m=\u001b[39m \u001b[38;5;124m\"\u001b[39m\u001b[38;5;124mJane\u001b[39m\u001b[38;5;124m\"\u001b[39m, age \u001b[38;5;241m=\u001b[39m \u001b[38;5;241m30\u001b[39m)  \n\u001b[1;32m----> 6\u001b[0m \u001b[43mdemo\u001b[49m\u001b[43m(\u001b[49m\u001b[38;5;124;43m\"\u001b[39;49m\u001b[38;5;124;43mJane\u001b[39;49m\u001b[38;5;124;43m\"\u001b[39;49m\u001b[43m,\u001b[49m\u001b[43m \u001b[49m\u001b[38;5;241;43m30\u001b[39;49m\u001b[43m)\u001b[49m  \u001b[38;5;66;03m# Error - age must be keyword only as it is after *\u001b[39;00m\n",
      "\u001b[1;31mTypeError\u001b[0m: demo() takes 1 positional argument but 2 were given"
     ]
    }
   ],
   "source": [
    "def demo(name, *, age):\n",
    "    print(f\"Name - {name} | Age - {age}\")\n",
    " \n",
    "demo(\"Jane\", age = 30)\n",
    "demo(name = \"Jane\", age = 30)  \n",
    "demo(\"Jane\", 30)  # Error - age must be keyword only as it is after *"
   ]
  },
  {
   "cell_type": "markdown",
   "metadata": {},
   "source": [
    "###### Example - sorted()"
   ]
  },
  {
   "cell_type": "code",
   "execution_count": 70,
   "metadata": {},
   "outputs": [
    {
     "name": "stdout",
     "output_type": "stream",
     "text": [
      "Help on built-in function sorted in module builtins:\n",
      "\n",
      "sorted(iterable, /, *, key=None, reverse=False)\n",
      "    Return a new list containing all items from the iterable in ascending order.\n",
      "\n",
      "    A custom key function can be supplied to customize the sort order, and the\n",
      "    reverse flag can be set to request the result in descending order.\n",
      "\n"
     ]
    }
   ],
   "source": [
    "help(sorted)"
   ]
  },
  {
   "cell_type": "markdown",
   "metadata": {},
   "source": [
    "sorted(iterable, /, *, key=None, reverse=False)\n",
    "\n",
    "- iterable - must be positional only\n",
    "- key and reverse - must be keyword only"
   ]
  },
  {
   "cell_type": "markdown",
   "metadata": {
    "id": "Z4O1E52lSLyq"
   },
   "source": [
    "### Variable Scope\n",
    "\n",
    "- A namespace is a Container where names are mapped to variables\n",
    "- A scope defines the hierarchical order in which the namespaces need to be\n",
    "- searched in order to obtain the name-to-object mapping\n",
    "- Scope defined the accessibility and lifetime of a variable"
   ]
  },
  {
   "cell_type": "markdown",
   "metadata": {
    "id": "1kWBTbQLSLy3"
   },
   "source": [
    "#### The LEGB rule\n",
    "`The LEGB` rule decides the order in which the namespaces are to be searched for variable scoping\n",
    "\n",
    "Variable scope hierarchy:\n",
    "\n",
    "1. Built-ln (B): Reserved names in Python\n",
    "2. Global Variable (G): Defined at the uppermost level\n",
    "3. Enclosed (E): Defined inside enclosing or nested functions\n",
    "4. Local Variable (L): Defined inside a function"
   ]
  },
  {
   "cell_type": "code",
   "execution_count": 82,
   "metadata": {
    "id": "5f-cAwmfSLy4"
   },
   "outputs": [
    {
     "name": "stdout",
     "output_type": "stream",
     "text": [
      "3.141592653589793\n"
     ]
    }
   ],
   "source": [
    "from math import pi   # built-in scope\n",
    "def outer() :\n",
    "    # pi = 10  # enclosed scope\n",
    "    def inner():\n",
    "        # pi = 5   # local scope\n",
    "        print(pi)\n",
    "    inner()\n",
    "\n",
    "# pi = 15   # Global scope\n",
    "outer()"
   ]
  },
  {
   "cell_type": "markdown",
   "metadata": {
    "id": "kmaCWVo_SLy5"
   },
   "source": [
    "## Lambda Function\n",
    "\n",
    "- A lambda function is also called as an anonymous function as it is a function that is defined without a name.\n",
    "- A lambda function behaves similar to a standard function except it is defined in one-line.\n",
    "- It is defined using a lambda key-word.\n",
    "- Lambda functions can have any number of arguments but only one expression. The expression is evaluated and returned.\n",
    "- Lambda functions can be used wherever function objects are required.\n",
    "- Syntax of Lambda Function –\n",
    "\n",
    "  <b>lambda *parameters* : *expression*</b>\n"
   ]
  },
  {
   "cell_type": "markdown",
   "metadata": {
    "id": "4cE13fbuSLy6"
   },
   "source": [
    "###### Write a lambda function to return addition of 2 numbers"
   ]
  },
  {
   "cell_type": "code",
   "execution_count": 84,
   "metadata": {
    "id": "hIHpUqvFSLy_"
   },
   "outputs": [
    {
     "data": {
      "text/plain": [
       "5"
      ]
     },
     "execution_count": 84,
     "metadata": {},
     "output_type": "execute_result"
    }
   ],
   "source": [
    "add = lambda x, y : x + y\n",
    "add(2, 3)"
   ]
  },
  {
   "cell_type": "markdown",
   "metadata": {
    "id": "yR6wj3vjSLzC"
   },
   "source": [
    "###### Write a lambda function to return square of the number"
   ]
  },
  {
   "cell_type": "code",
   "execution_count": 85,
   "metadata": {
    "id": "HKcJf7aLSLzF"
   },
   "outputs": [
    {
     "data": {
      "text/plain": [
       "25"
      ]
     },
     "execution_count": 85,
     "metadata": {},
     "output_type": "execute_result"
    }
   ],
   "source": [
    "sq = lambda x : x** 2\n",
    "sq(5)"
   ]
  },
  {
   "cell_type": "markdown",
   "metadata": {
    "id": "7mE1pwK-SLzI"
   },
   "source": [
    "### Function Object\n",
    "\n",
    "- Everything in Python is an object, including functions.\n",
    "- You can assign them to variables, store them in data structures, and pass or return them to and from other functions\n",
    "- Functions in Python can be passed as arguments to other functions, assigned to variables or even stored as elements in various data structures.\n"
   ]
  },
  {
   "cell_type": "markdown",
   "metadata": {
    "id": "EJ2EsVFhSLzJ"
   },
   "source": [
    "#### function definition/implemenation\n"
   ]
  },
  {
   "cell_type": "code",
   "execution_count": 86,
   "metadata": {
    "id": "0vDW8j3_SLzJ"
   },
   "outputs": [],
   "source": [
    "def func(a, b):  # -> function definition\n",
    "    if a < b :\n",
    "        return a\n",
    "    else:\n",
    "        return b"
   ]
  },
  {
   "cell_type": "markdown",
   "metadata": {
    "id": "sS3UmL5jSLz6"
   },
   "source": [
    "#### function call"
   ]
  },
  {
   "cell_type": "code",
   "execution_count": 87,
   "metadata": {
    "id": "un1nlPLgSLz7"
   },
   "outputs": [
    {
     "data": {
      "text/plain": [
       "3"
      ]
     },
     "execution_count": 87,
     "metadata": {},
     "output_type": "execute_result"
    }
   ],
   "source": [
    "# function call\n",
    "var = func(3, 4)\n",
    "var"
   ]
  },
  {
   "cell_type": "markdown",
   "metadata": {
    "id": "aO3J1M-mSLz8"
   },
   "source": [
    "#### function object"
   ]
  },
  {
   "cell_type": "code",
   "execution_count": 88,
   "metadata": {
    "id": "pga_W2HsSLz8"
   },
   "outputs": [
    {
     "data": {
      "text/plain": [
       "<function __main__.func(a, b)>"
      ]
     },
     "execution_count": 88,
     "metadata": {},
     "output_type": "execute_result"
    }
   ],
   "source": [
    "# function object\n",
    "var = func\n",
    "var"
   ]
  },
  {
   "cell_type": "code",
   "execution_count": 89,
   "metadata": {
    "id": "9Yuag_4wSLz9"
   },
   "outputs": [
    {
     "data": {
      "text/plain": [
       "function"
      ]
     },
     "execution_count": 89,
     "metadata": {},
     "output_type": "execute_result"
    }
   ],
   "source": [
    "type(var)"
   ]
  },
  {
   "cell_type": "code",
   "execution_count": 90,
   "metadata": {},
   "outputs": [
    {
     "data": {
      "text/plain": [
       "3"
      ]
     },
     "execution_count": 90,
     "metadata": {},
     "output_type": "execute_result"
    }
   ],
   "source": [
    "var(3, 4)"
   ]
  },
  {
   "cell_type": "code",
   "execution_count": 91,
   "metadata": {},
   "outputs": [
    {
     "data": {
      "text/plain": [
       "4"
      ]
     },
     "execution_count": 91,
     "metadata": {},
     "output_type": "execute_result"
    }
   ],
   "source": [
    "var = len  # var varible can now access the len func\n",
    "var(\"abcd\")"
   ]
  },
  {
   "cell_type": "markdown",
   "metadata": {
    "id": "2sNNlLTpSLz_"
   },
   "source": [
    "### Applilcations of Function Object"
   ]
  },
  {
   "cell_type": "markdown",
   "metadata": {
    "id": "4T0SCa8LSLz_"
   },
   "source": [
    "###### Ex. WAP to sort a list of strings as per the last character."
   ]
  },
  {
   "cell_type": "code",
   "execution_count": 94,
   "metadata": {
    "id": "kHYPxKNpSLz_"
   },
   "outputs": [
    {
     "data": {
      "text/plain": [
       "['bike', 'car', 'flight', 'train']"
      ]
     },
     "execution_count": 94,
     "metadata": {},
     "output_type": "execute_result"
    }
   ],
   "source": [
    "lst = [\"flight\", \"car\", \"train\", \"bike\"]\n",
    "sorted(lst) # alphabetically sort"
   ]
  },
  {
   "cell_type": "code",
   "execution_count": 96,
   "metadata": {
    "id": "kHYPxKNpSLz_"
   },
   "outputs": [
    {
     "data": {
      "text/plain": [
       "['flight', 'train', 'bike', 'car']"
      ]
     },
     "execution_count": 96,
     "metadata": {},
     "output_type": "execute_result"
    }
   ],
   "source": [
    "lst = [\"flight\", \"car\", \"train\", \"bike\"]\n",
    "sorted(lst, key = len, reverse = True) # no of characters in each word sort"
   ]
  },
  {
   "cell_type": "code",
   "execution_count": 97,
   "metadata": {
    "id": "kHYPxKNpSLz_"
   },
   "outputs": [
    {
     "data": {
      "text/plain": [
       "['bike', 'train', 'car', 'flight']"
      ]
     },
     "execution_count": 97,
     "metadata": {},
     "output_type": "execute_result"
    }
   ],
   "source": [
    "lst = [\"flight\", \"car\", \"train\", \"bike\"]\n",
    "sorted(lst, key = lambda x : x[-1]) # sort by last character of each word"
   ]
  },
  {
   "cell_type": "code",
   "execution_count": 98,
   "metadata": {},
   "outputs": [
    {
     "data": {
      "text/plain": [
       "'train'"
      ]
     },
     "execution_count": 98,
     "metadata": {},
     "output_type": "execute_result"
    }
   ],
   "source": [
    "max(lst)"
   ]
  },
  {
   "cell_type": "code",
   "execution_count": 100,
   "metadata": {},
   "outputs": [
    {
     "data": {
      "text/plain": [
       "'flight'"
      ]
     },
     "execution_count": 100,
     "metadata": {},
     "output_type": "execute_result"
    }
   ],
   "source": [
    "max(lst, key = len)"
   ]
  },
  {
   "cell_type": "code",
   "execution_count": 102,
   "metadata": {},
   "outputs": [
    {
     "data": {
      "text/plain": [
       "'flight'"
      ]
     },
     "execution_count": 102,
     "metadata": {},
     "output_type": "execute_result"
    }
   ],
   "source": [
    "max(lst, key = min)"
   ]
  },
  {
   "cell_type": "markdown",
   "metadata": {
    "id": "O4Za8GFDSL0A"
   },
   "source": [
    "##### Note -\n",
    "- There are many functions like sorted which take function object as an argument.\n",
    "- Use a built-in function if available, else defined a custom function.\n",
    "- If the logic for custom function is one-liner use lambda function else use standard user-defined function"
   ]
  },
  {
   "cell_type": "markdown",
   "metadata": {
    "id": "lJGW-MOCSL0M"
   },
   "source": [
    "###### Ex. WAP to display the student details in sorted order DESC of their marks."
   ]
  },
  {
   "cell_type": "code",
   "execution_count": 103,
   "metadata": {
    "id": "RqKeBNmKSL0N"
   },
   "outputs": [
    {
     "data": {
      "text/plain": [
       "['Jane', 'Mary', 'Max', 'Sam']"
      ]
     },
     "execution_count": 103,
     "metadata": {},
     "output_type": "execute_result"
    }
   ],
   "source": [
    "students = {\"Jane\" : 40, \"Max\" : 50, \"Sam\" : 45, \"Mary\" : 70}\n",
    "sorted(students)  # list of keys sorted alphabetically"
   ]
  },
  {
   "cell_type": "code",
   "execution_count": 106,
   "metadata": {
    "id": "RqKeBNmKSL0N"
   },
   "outputs": [
    {
     "data": {
      "text/plain": [
       "{'Jane': 40, 'Mary': 70, 'Max': 50, 'Sam': 45}"
      ]
     },
     "execution_count": 106,
     "metadata": {},
     "output_type": "execute_result"
    }
   ],
   "source": [
    "students = {\"Jane\" : 40, \"Max\" : 50, \"Sam\" : 45, \"Mary\" : 70}\n",
    "dict(sorted(students.items()))  # dict sorted alphabetically wrt keys"
   ]
  },
  {
   "cell_type": "code",
   "execution_count": 112,
   "metadata": {
    "id": "RqKeBNmKSL0N"
   },
   "outputs": [
    {
     "data": {
      "text/plain": [
       "{'Mary': 70, 'Max': 50, 'Sam': 45, 'Jane': 40}"
      ]
     },
     "execution_count": 112,
     "metadata": {},
     "output_type": "execute_result"
    }
   ],
   "source": [
    "students = {\"Jane\" : 40, \"Max\" : 50, \"Sam\" : 45, \"Mary\" : 70}\n",
    "dict(sorted(students.items(), key = lambda tup : tup[1], reverse = True))"
   ]
  },
  {
   "cell_type": "markdown",
   "metadata": {
    "id": "V8k38JyTSL0F"
   },
   "source": [
    "### map() - filter() - reduce()"
   ]
  },
  {
   "cell_type": "markdown",
   "metadata": {
    "id": "tqETvoMUSL0G"
   },
   "source": [
    "#### map(func_obj, sequence)\n",
    "- func_obj : It is a function object to which map passes each element of given sequence.\n",
    "- sequence : It is a sequence which is to be mapped.\n",
    "- Returns  a sequence of the results after applying the given function\n",
    "to each item of a given iterable.\n"
   ]
  },
  {
   "cell_type": "markdown",
   "metadata": {
    "id": "pbSbVIqkSL0H"
   },
   "source": [
    "###### Ex. WAP to map the given list to list of squares"
   ]
  },
  {
   "cell_type": "code",
   "execution_count": 114,
   "metadata": {
    "id": "g-53hrskSL0H"
   },
   "outputs": [
    {
     "data": {
      "text/plain": [
       "[1, 4, 9, 16]"
      ]
     },
     "execution_count": 114,
     "metadata": {},
     "output_type": "execute_result"
    }
   ],
   "source": [
    "lst = [1, 2, 3, 4]\n",
    "list(map(lambda x : x**2, lst))"
   ]
  },
  {
   "cell_type": "markdown",
   "metadata": {
    "id": "n2K4SPZMSL0I"
   },
   "source": [
    "###### Ex. WAP to generate a list of square roots of the given list using map"
   ]
  },
  {
   "cell_type": "code",
   "execution_count": 117,
   "metadata": {
    "id": "HVaSlMXZSL0I"
   },
   "outputs": [
    {
     "data": {
      "text/plain": [
       "[1.0, 2.0, 3.0, 4.0]"
      ]
     },
     "execution_count": 117,
     "metadata": {},
     "output_type": "execute_result"
    }
   ],
   "source": [
    "import math\n",
    "lst = [1, 4, 9, 16]\n",
    "list(map(math.sqrt, lst))"
   ]
  },
  {
   "cell_type": "markdown",
   "metadata": {
    "id": "bgrmIvUTSL0J"
   },
   "source": [
    "#### filter(func_obj, sequence)\n",
    "- func_obj : function that tests if each element of a sequence true or not. It should always be a Boolean function.\n",
    "- sequence : It is a sequence which is to be filtered.\n",
    "- Returns a sequence of filtered elements.\n"
   ]
  },
  {
   "cell_type": "markdown",
   "metadata": {
    "id": "NKxk1X0JSL0J"
   },
   "source": [
    "###### Ex. WAP to filter all the even numbers from the given list of numbers."
   ]
  },
  {
   "cell_type": "code",
   "execution_count": 118,
   "metadata": {
    "id": "Eg0eiu32SL0J"
   },
   "outputs": [
    {
     "data": {
      "text/plain": [
       "[2, 4, 6]"
      ]
     },
     "execution_count": 118,
     "metadata": {},
     "output_type": "execute_result"
    }
   ],
   "source": [
    "lst = [1, 2, 3, 4, 5, 6]\n",
    "list(filter(lambda x : x % 2 == 0 ,lst))"
   ]
  },
  {
   "cell_type": "markdown",
   "metadata": {
    "id": "CcWfnFZoSL0J"
   },
   "source": [
    "#### reduce(func_obj, seq)\n",
    "- The reduce(func_obj, seq) function is used to apply a particular function passed in its argument to all of the list elements mentioned in the sequence passed along. This function is defined in “functools” module. <br>\n",
    "<b style = \"color : Red\">Note: func_obj will always take two parameters</b>\n",
    "\n",
    "Working :\n",
    "- At first step, first two elements of sequence are picked and the result is obtained.\n",
    "- Next step is to apply the same function to the previously attained result and\n",
    "the number just succeeding the second element and the result is again stored.\n",
    "- This process continues till no more elements are left in the container.\n",
    "- The final returned result is returned and printed on console.\n"
   ]
  },
  {
   "cell_type": "markdown",
   "metadata": {
    "id": "4PXLk3jwSL0K"
   },
   "source": [
    "###### Ex. Reduce the list to summation of all numbers"
   ]
  },
  {
   "cell_type": "code",
   "execution_count": 119,
   "metadata": {
    "id": "0Jle6NC4SL0L"
   },
   "outputs": [
    {
     "data": {
      "text/plain": [
       "55"
      ]
     },
     "execution_count": 119,
     "metadata": {},
     "output_type": "execute_result"
    }
   ],
   "source": [
    "from functools import reduce\n",
    "reduce(lambda x, y : x + y ,range(1, 11))"
   ]
  },
  {
   "cell_type": "code",
   "execution_count": 120,
   "metadata": {
    "id": "0Jle6NC4SL0L"
   },
   "outputs": [
    {
     "data": {
      "text/plain": [
       "65"
      ]
     },
     "execution_count": 120,
     "metadata": {},
     "output_type": "execute_result"
    }
   ],
   "source": [
    "from functools import reduce\n",
    "reduce(lambda x, y : x + y ,range(1, 11), 10)"
   ]
  },
  {
   "cell_type": "markdown",
   "metadata": {
    "id": "vKcPn0u7SL0M"
   },
   "source": [
    "### Additional Examples"
   ]
  },
  {
   "cell_type": "markdown",
   "metadata": {
    "id": "Oa-xrBy5SL0N"
   },
   "source": [
    "###### Ex. WAP to extract all digits from a string (using filter)"
   ]
  },
  {
   "cell_type": "code",
   "execution_count": 125,
   "metadata": {
    "id": "pQypizKfSL0T"
   },
   "outputs": [
    {
     "data": {
      "text/plain": [
       "['1', '2', '3', '4', '5']"
      ]
     },
     "execution_count": 125,
     "metadata": {},
     "output_type": "execute_result"
    }
   ],
   "source": [
    "strg = \"abcd12345\"\n",
    "list(filter(lambda st : st.isdigit(), strg))  # method call"
   ]
  },
  {
   "cell_type": "code",
   "execution_count": 129,
   "metadata": {
    "id": "pQypizKfSL0T"
   },
   "outputs": [
    {
     "data": {
      "text/plain": [
       "['1', '2', '3', '4', '5']"
      ]
     },
     "execution_count": 129,
     "metadata": {},
     "output_type": "execute_result"
    }
   ],
   "source": [
    "strg = \"abcd12345\"\n",
    "list(filter(str.isdigit, strg))  # method call"
   ]
  },
  {
   "cell_type": "code",
   "execution_count": 123,
   "metadata": {},
   "outputs": [
    {
     "data": {
      "text/plain": [
       "False"
      ]
     },
     "execution_count": 123,
     "metadata": {},
     "output_type": "execute_result"
    }
   ],
   "source": [
    "strg.isdigit()  # method called on strg object"
   ]
  },
  {
   "cell_type": "code",
   "execution_count": 126,
   "metadata": {},
   "outputs": [
    {
     "data": {
      "text/plain": [
       "False"
      ]
     },
     "execution_count": 126,
     "metadata": {},
     "output_type": "execute_result"
    }
   ],
   "source": [
    "str.isdigit(strg)   # function called by class name"
   ]
  },
  {
   "cell_type": "markdown",
   "metadata": {
    "id": "D38bJNm8SL0T"
   },
   "source": [
    "###### Ex. use reduce() to extract sum of all digits in a string"
   ]
  },
  {
   "cell_type": "code",
   "execution_count": 130,
   "metadata": {
    "id": "Blw3bwdWSL0U"
   },
   "outputs": [
    {
     "data": {
      "text/plain": [
       "15"
      ]
     },
     "execution_count": 130,
     "metadata": {},
     "output_type": "execute_result"
    }
   ],
   "source": [
    "from functools import reduce\n",
    "strg = \"abcd12345\"\n",
    "\n",
    "reduce(lambda x, y : x + int(y) if y.isdigit() else 0 ,strg, 0)"
   ]
  },
  {
   "cell_type": "markdown",
   "metadata": {
    "id": "dB7ZoW_GSL0X"
   },
   "source": [
    "###### Ex. Combine all elements in the list into a single string object.\n",
    "Capitalize first character of the string while concatenating"
   ]
  },
  {
   "cell_type": "code",
   "execution_count": 136,
   "metadata": {
    "id": "PCxQLlGNSL0Y"
   },
   "outputs": [
    {
     "data": {
      "text/plain": [
       "'Liontigerhorse'"
      ]
     },
     "execution_count": 136,
     "metadata": {},
     "output_type": "execute_result"
    }
   ],
   "source": [
    "strg = [\"lion\", \"tiger\", \"horse\"]\n",
    "\"\".join(strg).title()\n",
    "# o/p - LionTigerHorse"
   ]
  },
  {
   "cell_type": "code",
   "execution_count": 138,
   "metadata": {
    "id": "PCxQLlGNSL0Y"
   },
   "outputs": [
    {
     "data": {
      "text/plain": [
       "'LionTigerHorse'"
      ]
     },
     "execution_count": 138,
     "metadata": {},
     "output_type": "execute_result"
    }
   ],
   "source": [
    "strg = [\"lion\", \"tiger\", \"horse\"]\n",
    "reduce(lambda x, y : x + y.title(), strg, \"\")"
   ]
  },
  {
   "cell_type": "markdown",
   "metadata": {
    "id": "_0q3IZAtSL0W"
   },
   "source": [
    "###### Ex. Using map() multiply the two lists"
   ]
  },
  {
   "cell_type": "code",
   "execution_count": 140,
   "metadata": {
    "id": "cypPgyLsSL0X"
   },
   "outputs": [
    {
     "data": {
      "text/plain": [
       "[5, 12, 21, 32]"
      ]
     },
     "execution_count": 140,
     "metadata": {},
     "output_type": "execute_result"
    }
   ],
   "source": [
    "lst1 = [1, 2, 3, 4]\n",
    "lst2 = [5, 6, 7, 8]\n",
    "\n",
    "list(map(lambda x1, x2 : x1 * x2, lst1, lst2))"
   ]
  },
  {
   "cell_type": "markdown",
   "metadata": {
    "id": "g_rkzfJiSL0Z"
   },
   "source": [
    "<hr>"
   ]
  },
  {
   "cell_type": "markdown",
   "metadata": {
    "id": "5zr43sRSSL0a"
   },
   "source": [
    "# Exception Handling\n",
    "\n",
    "It may be convenient to recognize the problems in your python code before you put it to real use. But that does not always happen. Sometimes, problems show up when you run the code; sometimes, midway of that. A Python exception is an error that's detected during execution.\n",
    "\n",
    "##### Python does not provide any compile time Exception Handling. Developer has to proactively recognize the need for exception handling.\n",
    "\n",
    "- What are Errors and Exceptions\n",
    "- Handling Exceptions\n",
    "- Defining Clean-up Actions\n",
    "- Predefined Clean-up Actions\n",
    "- Raising Exceptions"
   ]
  },
  {
   "cell_type": "markdown",
   "metadata": {
    "id": "vHaasN7-SL0a"
   },
   "source": [
    "## Syntax Error"
   ]
  },
  {
   "cell_type": "code",
   "execution_count": 141,
   "metadata": {
    "id": "xfUtgZ5sSL0a"
   },
   "outputs": [
    {
     "ename": "SyntaxError",
     "evalue": "expected ':' (694265647.py, line 1)",
     "output_type": "error",
     "traceback": [
      "\u001b[1;36m  Cell \u001b[1;32mIn[141], line 1\u001b[1;36m\u001b[0m\n\u001b[1;33m    for i in range(5)\u001b[0m\n\u001b[1;37m                     ^\u001b[0m\n\u001b[1;31mSyntaxError\u001b[0m\u001b[1;31m:\u001b[0m expected ':'\n"
     ]
    }
   ],
   "source": [
    "for i in range(5)\n",
    "   print(i)"
   ]
  },
  {
   "cell_type": "markdown",
   "metadata": {
    "id": "-d59K2OoSL0b"
   },
   "source": [
    "## Exception\n",
    "Even if a statement or expression is syntactically correct, it may cause an error when an attempt is made to execute it. Errors detected during execution are called exceptions and are not unconditionally fatal"
   ]
  },
  {
   "cell_type": "markdown",
   "metadata": {
    "id": "9I5GYLOFSL0b"
   },
   "source": [
    "#### ZeroDivisionError"
   ]
  },
  {
   "cell_type": "code",
   "execution_count": 142,
   "metadata": {
    "id": "8c4raz09SL0b"
   },
   "outputs": [
    {
     "ename": "ZeroDivisionError",
     "evalue": "division by zero",
     "output_type": "error",
     "traceback": [
      "\u001b[1;31m---------------------------------------------------------------------------\u001b[0m",
      "\u001b[1;31mZeroDivisionError\u001b[0m                         Traceback (most recent call last)",
      "Cell \u001b[1;32mIn[142], line 2\u001b[0m\n\u001b[0;32m      1\u001b[0m a, b \u001b[38;5;241m=\u001b[39m \u001b[38;5;241m1\u001b[39m, \u001b[38;5;241m0\u001b[39m\n\u001b[1;32m----> 2\u001b[0m \u001b[38;5;28mprint\u001b[39m(\u001b[43ma\u001b[49m\u001b[38;5;241;43m/\u001b[39;49m\u001b[43mb\u001b[49m)\n",
      "\u001b[1;31mZeroDivisionError\u001b[0m: division by zero"
     ]
    }
   ],
   "source": [
    "a, b = 1, 0\n",
    "print(a/b)"
   ]
  },
  {
   "cell_type": "markdown",
   "metadata": {
    "id": "weGt8ZV1SL0b"
   },
   "source": [
    "#### ValueError"
   ]
  },
  {
   "cell_type": "code",
   "execution_count": 143,
   "metadata": {
    "id": "RzHENWxRSL0b"
   },
   "outputs": [
    {
     "ename": "ValueError",
     "evalue": "invalid literal for int() with base 10: 'abcd'",
     "output_type": "error",
     "traceback": [
      "\u001b[1;31m---------------------------------------------------------------------------\u001b[0m",
      "\u001b[1;31mValueError\u001b[0m                                Traceback (most recent call last)",
      "Cell \u001b[1;32mIn[143], line 1\u001b[0m\n\u001b[1;32m----> 1\u001b[0m \u001b[38;5;28;43mint\u001b[39;49m\u001b[43m(\u001b[49m\u001b[38;5;124;43m\"\u001b[39;49m\u001b[38;5;124;43mabcd\u001b[39;49m\u001b[38;5;124;43m\"\u001b[39;49m\u001b[43m)\u001b[49m\n",
      "\u001b[1;31mValueError\u001b[0m: invalid literal for int() with base 10: 'abcd'"
     ]
    }
   ],
   "source": [
    "int(\"abcd\")"
   ]
  },
  {
   "cell_type": "markdown",
   "metadata": {
    "id": "Xp4wNqKPSL0c"
   },
   "source": [
    "#### NameError"
   ]
  },
  {
   "cell_type": "code",
   "execution_count": 144,
   "metadata": {
    "id": "l8ToS_7MSL0c"
   },
   "outputs": [
    {
     "ename": "NameError",
     "evalue": "name 'z' is not defined",
     "output_type": "error",
     "traceback": [
      "\u001b[1;31m---------------------------------------------------------------------------\u001b[0m",
      "\u001b[1;31mNameError\u001b[0m                                 Traceback (most recent call last)",
      "Cell \u001b[1;32mIn[144], line 1\u001b[0m\n\u001b[1;32m----> 1\u001b[0m \u001b[38;5;28mprint\u001b[39m(\u001b[43mz\u001b[49m)\n",
      "\u001b[1;31mNameError\u001b[0m: name 'z' is not defined"
     ]
    }
   ],
   "source": [
    "print(z)"
   ]
  },
  {
   "cell_type": "markdown",
   "metadata": {
    "id": "Dn1mfAfqSL0c"
   },
   "source": [
    "#### FileNotFoundError"
   ]
  },
  {
   "cell_type": "code",
   "execution_count": 145,
   "metadata": {
    "id": "F0tEcptzSL0c"
   },
   "outputs": [
    {
     "ename": "FileNotFoundError",
     "evalue": "[Errno 2] No such file or directory: 'abc.txt'",
     "output_type": "error",
     "traceback": [
      "\u001b[1;31m---------------------------------------------------------------------------\u001b[0m",
      "\u001b[1;31mFileNotFoundError\u001b[0m                         Traceback (most recent call last)",
      "Cell \u001b[1;32mIn[145], line 1\u001b[0m\n\u001b[1;32m----> 1\u001b[0m \u001b[38;5;28;43mopen\u001b[39;49m\u001b[43m(\u001b[49m\u001b[38;5;124;43m\"\u001b[39;49m\u001b[38;5;124;43mabc.txt\u001b[39;49m\u001b[38;5;124;43m\"\u001b[39;49m\u001b[43m)\u001b[49m\n",
      "File \u001b[1;32m~\\AppData\\Local\\Programs\\Python\\Python312\\Lib\\site-packages\\IPython\\core\\interactiveshell.py:324\u001b[0m, in \u001b[0;36m_modified_open\u001b[1;34m(file, *args, **kwargs)\u001b[0m\n\u001b[0;32m    317\u001b[0m \u001b[38;5;28;01mif\u001b[39;00m file \u001b[38;5;129;01min\u001b[39;00m {\u001b[38;5;241m0\u001b[39m, \u001b[38;5;241m1\u001b[39m, \u001b[38;5;241m2\u001b[39m}:\n\u001b[0;32m    318\u001b[0m     \u001b[38;5;28;01mraise\u001b[39;00m \u001b[38;5;167;01mValueError\u001b[39;00m(\n\u001b[0;32m    319\u001b[0m         \u001b[38;5;124mf\u001b[39m\u001b[38;5;124m\"\u001b[39m\u001b[38;5;124mIPython won\u001b[39m\u001b[38;5;124m'\u001b[39m\u001b[38;5;124mt let you open fd=\u001b[39m\u001b[38;5;132;01m{\u001b[39;00mfile\u001b[38;5;132;01m}\u001b[39;00m\u001b[38;5;124m by default \u001b[39m\u001b[38;5;124m\"\u001b[39m\n\u001b[0;32m    320\u001b[0m         \u001b[38;5;124m\"\u001b[39m\u001b[38;5;124mas it is likely to crash IPython. If you know what you are doing, \u001b[39m\u001b[38;5;124m\"\u001b[39m\n\u001b[0;32m    321\u001b[0m         \u001b[38;5;124m\"\u001b[39m\u001b[38;5;124myou can use builtins\u001b[39m\u001b[38;5;124m'\u001b[39m\u001b[38;5;124m open.\u001b[39m\u001b[38;5;124m\"\u001b[39m\n\u001b[0;32m    322\u001b[0m     )\n\u001b[1;32m--> 324\u001b[0m \u001b[38;5;28;01mreturn\u001b[39;00m \u001b[43mio_open\u001b[49m\u001b[43m(\u001b[49m\u001b[43mfile\u001b[49m\u001b[43m,\u001b[49m\u001b[43m \u001b[49m\u001b[38;5;241;43m*\u001b[39;49m\u001b[43margs\u001b[49m\u001b[43m,\u001b[49m\u001b[43m \u001b[49m\u001b[38;5;241;43m*\u001b[39;49m\u001b[38;5;241;43m*\u001b[39;49m\u001b[43mkwargs\u001b[49m\u001b[43m)\u001b[49m\n",
      "\u001b[1;31mFileNotFoundError\u001b[0m: [Errno 2] No such file or directory: 'abc.txt'"
     ]
    }
   ],
   "source": [
    "open(\"abc.txt\")"
   ]
  },
  {
   "cell_type": "markdown",
   "metadata": {
    "id": "ieQJyDXESL0d"
   },
   "source": [
    "#### TypeError"
   ]
  },
  {
   "cell_type": "code",
   "execution_count": 146,
   "metadata": {
    "id": "btHn0e6NSL0d"
   },
   "outputs": [
    {
     "ename": "TypeError",
     "evalue": "can only concatenate str (not \"int\") to str",
     "output_type": "error",
     "traceback": [
      "\u001b[1;31m---------------------------------------------------------------------------\u001b[0m",
      "\u001b[1;31mTypeError\u001b[0m                                 Traceback (most recent call last)",
      "Cell \u001b[1;32mIn[146], line 1\u001b[0m\n\u001b[1;32m----> 1\u001b[0m \u001b[38;5;124;43m\"\u001b[39;49m\u001b[38;5;124;43m2\u001b[39;49m\u001b[38;5;124;43m\"\u001b[39;49m\u001b[43m \u001b[49m\u001b[38;5;241;43m+\u001b[39;49m\u001b[43m \u001b[49m\u001b[38;5;241;43m2\u001b[39;49m\n",
      "\u001b[1;31mTypeError\u001b[0m: can only concatenate str (not \"int\") to str"
     ]
    }
   ],
   "source": [
    "\"2\" + 2"
   ]
  },
  {
   "cell_type": "code",
   "execution_count": 147,
   "metadata": {
    "id": "6WU4wpJ5SL0d"
   },
   "outputs": [
    {
     "ename": "TypeError",
     "evalue": "func() missing 1 required positional argument: 'a'",
     "output_type": "error",
     "traceback": [
      "\u001b[1;31m---------------------------------------------------------------------------\u001b[0m",
      "\u001b[1;31mTypeError\u001b[0m                                 Traceback (most recent call last)",
      "Cell \u001b[1;32mIn[147], line 4\u001b[0m\n\u001b[0;32m      1\u001b[0m \u001b[38;5;28;01mdef\u001b[39;00m \u001b[38;5;21mfunc\u001b[39m(a):\n\u001b[0;32m      2\u001b[0m     \u001b[38;5;28;01mpass\u001b[39;00m\n\u001b[1;32m----> 4\u001b[0m \u001b[43mfunc\u001b[49m\u001b[43m(\u001b[49m\u001b[43m)\u001b[49m\n",
      "\u001b[1;31mTypeError\u001b[0m: func() missing 1 required positional argument: 'a'"
     ]
    }
   ],
   "source": [
    "def func(a):\n",
    "    pass\n",
    "\n",
    "func()"
   ]
  },
  {
   "cell_type": "markdown",
   "metadata": {
    "id": "9Obf0tw9SL0d"
   },
   "source": [
    "#### IndexError"
   ]
  },
  {
   "cell_type": "code",
   "execution_count": 148,
   "metadata": {
    "id": "BpqoqynPSL0d"
   },
   "outputs": [
    {
     "ename": "IndexError",
     "evalue": "list index out of range",
     "output_type": "error",
     "traceback": [
      "\u001b[1;31m---------------------------------------------------------------------------\u001b[0m",
      "\u001b[1;31mIndexError\u001b[0m                                Traceback (most recent call last)",
      "Cell \u001b[1;32mIn[148], line 2\u001b[0m\n\u001b[0;32m      1\u001b[0m l \u001b[38;5;241m=\u001b[39m [\u001b[38;5;241m1\u001b[39m,\u001b[38;5;241m2\u001b[39m,\u001b[38;5;241m3\u001b[39m]\n\u001b[1;32m----> 2\u001b[0m \u001b[43ml\u001b[49m\u001b[43m[\u001b[49m\u001b[38;5;241;43m10\u001b[39;49m\u001b[43m]\u001b[49m\n",
      "\u001b[1;31mIndexError\u001b[0m: list index out of range"
     ]
    }
   ],
   "source": [
    "l = [1,2,3]\n",
    "l[10]"
   ]
  },
  {
   "cell_type": "markdown",
   "metadata": {
    "id": "fFsgJSsgSL0e"
   },
   "source": [
    "#### KeyError"
   ]
  },
  {
   "cell_type": "code",
   "execution_count": 149,
   "metadata": {
    "id": "FyyfOcQRSL0e"
   },
   "outputs": [
    {
     "ename": "KeyError",
     "evalue": "'abc'",
     "output_type": "error",
     "traceback": [
      "\u001b[1;31m---------------------------------------------------------------------------\u001b[0m",
      "\u001b[1;31mKeyError\u001b[0m                                  Traceback (most recent call last)",
      "Cell \u001b[1;32mIn[149], line 3\u001b[0m\n\u001b[0;32m      1\u001b[0m d \u001b[38;5;241m=\u001b[39m {\u001b[38;5;241m1\u001b[39m:\u001b[38;5;241m2\u001b[39m, \u001b[38;5;241m3\u001b[39m:\u001b[38;5;241m4\u001b[39m}\n\u001b[1;32m----> 3\u001b[0m \u001b[43md\u001b[49m\u001b[43m[\u001b[49m\u001b[38;5;124;43m\"\u001b[39;49m\u001b[38;5;124;43mabc\u001b[39;49m\u001b[38;5;124;43m\"\u001b[39;49m\u001b[43m]\u001b[49m\n",
      "\u001b[1;31mKeyError\u001b[0m: 'abc'"
     ]
    }
   ],
   "source": [
    "d = {1:2, 3:4}\n",
    "\n",
    "d[\"abc\"]"
   ]
  },
  {
   "cell_type": "markdown",
   "metadata": {
    "id": "AATnIEFISL0f"
   },
   "source": [
    "#### ModuleNotFoundError"
   ]
  },
  {
   "cell_type": "code",
   "execution_count": 150,
   "metadata": {
    "id": "9jQuVK3aSL0f"
   },
   "outputs": [
    {
     "ename": "ModuleNotFoundError",
     "evalue": "No module named 'math1'",
     "output_type": "error",
     "traceback": [
      "\u001b[1;31m---------------------------------------------------------------------------\u001b[0m",
      "\u001b[1;31mModuleNotFoundError\u001b[0m                       Traceback (most recent call last)",
      "Cell \u001b[1;32mIn[150], line 1\u001b[0m\n\u001b[1;32m----> 1\u001b[0m \u001b[38;5;28;01mimport\u001b[39;00m \u001b[38;5;21;01mmath1\u001b[39;00m\n",
      "\u001b[1;31mModuleNotFoundError\u001b[0m: No module named 'math1'"
     ]
    }
   ],
   "source": [
    "import math1"
   ]
  },
  {
   "cell_type": "markdown",
   "metadata": {
    "id": "lqoeCstiSL0f"
   },
   "source": [
    "#### AttributeError"
   ]
  },
  {
   "cell_type": "code",
   "execution_count": 151,
   "metadata": {
    "id": "k2HRrUzDSL0g"
   },
   "outputs": [
    {
     "ename": "AttributeError",
     "evalue": "module 'math' has no attribute 'sq1'",
     "output_type": "error",
     "traceback": [
      "\u001b[1;31m---------------------------------------------------------------------------\u001b[0m",
      "\u001b[1;31mAttributeError\u001b[0m                            Traceback (most recent call last)",
      "Cell \u001b[1;32mIn[151], line 2\u001b[0m\n\u001b[0;32m      1\u001b[0m \u001b[38;5;28;01mimport\u001b[39;00m \u001b[38;5;21;01mmath\u001b[39;00m\n\u001b[1;32m----> 2\u001b[0m \u001b[43mmath\u001b[49m\u001b[38;5;241;43m.\u001b[39;49m\u001b[43msq1\u001b[49m()\n",
      "\u001b[1;31mAttributeError\u001b[0m: module 'math' has no attribute 'sq1'"
     ]
    }
   ],
   "source": [
    "import math\n",
    "math.sq1()"
   ]
  },
  {
   "cell_type": "code",
   "execution_count": 152,
   "metadata": {
    "id": "2KXKWTYiSL0g"
   },
   "outputs": [
    {
     "ename": "AttributeError",
     "evalue": "'str' object has no attribute 'UPPER'",
     "output_type": "error",
     "traceback": [
      "\u001b[1;31m---------------------------------------------------------------------------\u001b[0m",
      "\u001b[1;31mAttributeError\u001b[0m                            Traceback (most recent call last)",
      "Cell \u001b[1;32mIn[152], line 3\u001b[0m\n\u001b[0;32m      1\u001b[0m string \u001b[38;5;241m=\u001b[39m \u001b[38;5;124m\"\u001b[39m\u001b[38;5;124mabcd\u001b[39m\u001b[38;5;124m\"\u001b[39m\n\u001b[1;32m----> 3\u001b[0m \u001b[43mstring\u001b[49m\u001b[38;5;241;43m.\u001b[39;49m\u001b[43mUPPER\u001b[49m()\n",
      "\u001b[1;31mAttributeError\u001b[0m: 'str' object has no attribute 'UPPER'"
     ]
    }
   ],
   "source": [
    "string = \"abcd\"\n",
    "\n",
    "string.UPPER()"
   ]
  },
  {
   "cell_type": "markdown",
   "metadata": {
    "id": "YxGAWsF-SL0g"
   },
   "source": [
    "## Handling Exceptions"
   ]
  },
  {
   "cell_type": "markdown",
   "metadata": {
    "id": "pYCgqJreSL0g"
   },
   "source": [
    "#### *try* :\n",
    "\n",
    "    #risky code\n",
    "    \n",
    "#### *except <Exception name>*:\n",
    "\n",
    "    #code to handle error\n",
    "    \n",
    "#### *else*:\n",
    "\n",
    "    #executed if everything goes fine\n",
    "    \n",
    "#### *finally*:\n",
    "\n",
    "    #gets executed in either case.\n"
   ]
  },
  {
   "cell_type": "code",
   "execution_count": 153,
   "metadata": {
    "id": "icbFTtpRSL0h"
   },
   "outputs": [
    {
     "name": "stdout",
     "output_type": "stream",
     "text": [
      "[Errno 2] No such file or directory: 'file.txt'\n",
      "Will execute irrespective of exception\n"
     ]
    }
   ],
   "source": [
    "try :\n",
    "    file = open(\"file.txt\")\n",
    "except FileNotFoundError as e :\n",
    "    print(e)\n",
    "else:\n",
    "    print(\"No exception thus executed\")\n",
    "finally:\n",
    "    print(\"Will execute irrespective of exception\")"
   ]
  },
  {
   "cell_type": "code",
   "execution_count": 154,
   "metadata": {
    "id": "icbFTtpRSL0h"
   },
   "outputs": [
    {
     "name": "stdout",
     "output_type": "stream",
     "text": [
      "try block complete\n",
      "No exception thus executed\n",
      "Will execute irrespective of exception\n"
     ]
    }
   ],
   "source": [
    "try :\n",
    "    file = open(\"data.txt\")\n",
    "    print(\"try block complete\")\n",
    "except FileNotFoundError as e :\n",
    "    print(e)\n",
    "else:\n",
    "    print(\"No exception thus executed\")\n",
    "finally:\n",
    "    print(\"Will execute irrespective of exception\")"
   ]
  },
  {
   "cell_type": "markdown",
   "metadata": {
    "id": "NNyvczf5SL0h"
   },
   "source": [
    "## Rasie an Exception"
   ]
  },
  {
   "cell_type": "markdown",
   "metadata": {
    "id": "ZYmJQZbZSL0i"
   },
   "source": [
    "###### Ex. Define a function \"division\" implementing exception handling"
   ]
  },
  {
   "cell_type": "code",
   "execution_count": 159,
   "metadata": {},
   "outputs": [],
   "source": [
    "def division(num, deno) :\n",
    "    if type(num) == int and type(deno) == int :\n",
    "        if deno != 0 :\n",
    "            return num/deno\n",
    "        else:\n",
    "            raise ZeroDivisionError(\"Denominator is zero\")\n",
    "    else:\n",
    "        raise TypeError(\"Numerator and Denominator must be integers\")"
   ]
  },
  {
   "cell_type": "code",
   "execution_count": 161,
   "metadata": {},
   "outputs": [
    {
     "ename": "TypeError",
     "evalue": "Numerator and Denominator must be integers",
     "output_type": "error",
     "traceback": [
      "\u001b[1;31m---------------------------------------------------------------------------\u001b[0m",
      "\u001b[1;31mTypeError\u001b[0m                                 Traceback (most recent call last)",
      "Cell \u001b[1;32mIn[161], line 1\u001b[0m\n\u001b[1;32m----> 1\u001b[0m \u001b[43mdivision\u001b[49m\u001b[43m(\u001b[49m\u001b[38;5;241;43m10\u001b[39;49m\u001b[43m,\u001b[49m\u001b[43m \u001b[49m\u001b[38;5;124;43m\"\u001b[39;49m\u001b[38;5;124;43mabc\u001b[39;49m\u001b[38;5;124;43m\"\u001b[39;49m\u001b[43m)\u001b[49m\n",
      "Cell \u001b[1;32mIn[159], line 8\u001b[0m, in \u001b[0;36mdivision\u001b[1;34m(num, deno)\u001b[0m\n\u001b[0;32m      6\u001b[0m         \u001b[38;5;28;01mraise\u001b[39;00m \u001b[38;5;167;01mZeroDivisionError\u001b[39;00m(\u001b[38;5;124m\"\u001b[39m\u001b[38;5;124mDenominator is zero\u001b[39m\u001b[38;5;124m\"\u001b[39m)\n\u001b[0;32m      7\u001b[0m \u001b[38;5;28;01melse\u001b[39;00m:\n\u001b[1;32m----> 8\u001b[0m     \u001b[38;5;28;01mraise\u001b[39;00m \u001b[38;5;167;01mTypeError\u001b[39;00m(\u001b[38;5;124m\"\u001b[39m\u001b[38;5;124mNumerator and Denominator must be integers\u001b[39m\u001b[38;5;124m\"\u001b[39m)\n",
      "\u001b[1;31mTypeError\u001b[0m: Numerator and Denominator must be integers"
     ]
    }
   ],
   "source": [
    "division(10, \"abc\")"
   ]
  },
  {
   "cell_type": "markdown",
   "metadata": {},
   "source": [
    "###### Ex. Write a function to take and validate int input from user. Value must be in range of 1-10"
   ]
  },
  {
   "cell_type": "code",
   "execution_count": 169,
   "metadata": {},
   "outputs": [],
   "source": [
    "def validate_input() :\n",
    "    try :\n",
    "        num = int(input(\"Enter a number in the range of 1- 10\"))\n",
    "        if num in range(1, 11):\n",
    "            return num\n",
    "        else :\n",
    "            raise Exception(\"Number must be in the range of 1-10\")\n",
    "    except ValueError as e:\n",
    "        print(\"Number must be an integer\")\n",
    "        return validate_input()\n",
    "    except Exception as e :\n",
    "        print(e.args[0])    \n",
    "        return validate_input()"
   ]
  },
  {
   "cell_type": "code",
   "execution_count": 170,
   "metadata": {},
   "outputs": [
    {
     "name": "stdin",
     "output_type": "stream",
     "text": [
      "Enter a number in the range of 1- 10 abcd\n"
     ]
    },
    {
     "name": "stdout",
     "output_type": "stream",
     "text": [
      "Number must be an integer\n"
     ]
    },
    {
     "name": "stdin",
     "output_type": "stream",
     "text": [
      "Enter a number in the range of 1- 10 5\n"
     ]
    },
    {
     "name": "stdout",
     "output_type": "stream",
     "text": [
      "5\n"
     ]
    }
   ],
   "source": [
    "number = validate_input()\n",
    "print(number)\n",
    "# some task with number"
   ]
  },
  {
   "cell_type": "markdown",
   "metadata": {
    "id": "nBaqKIuJSL0i"
   },
   "source": [
    "<hr><hr>"
   ]
  },
  {
   "cell_type": "markdown",
   "metadata": {},
   "source": [
    "### Reading and Processing data"
   ]
  },
  {
   "cell_type": "markdown",
   "metadata": {},
   "source": [
    "###### To set the file path"
   ]
  },
  {
   "cell_type": "code",
   "execution_count": 1,
   "metadata": {},
   "outputs": [
    {
     "data": {
      "text/plain": [
       "'T:\\\\Material_general\\\\Emerson\\\\Classwork'"
      ]
     },
     "execution_count": 1,
     "metadata": {},
     "output_type": "execute_result"
    }
   ],
   "source": [
    "import os\n",
    "os.getcwd() # gives path for current working dir"
   ]
  },
  {
   "cell_type": "code",
   "execution_count": null,
   "metadata": {},
   "outputs": [],
   "source": [
    "os.chdir(r\"T:\\Python\\Trainer\\Class_Notebooks\\Python for Data Analytics\\Classwork\\Datasets\") # change wprking dir"
   ]
  },
  {
   "cell_type": "markdown",
   "metadata": {},
   "source": [
    "###### Read data from `customers.txt` file"
   ]
  },
  {
   "cell_type": "code",
   "execution_count": 2,
   "metadata": {},
   "outputs": [],
   "source": [
    "file = open(\"customers.txt\")  # default file opens in read mode\n",
    "data = file.readlines()\n",
    "file.close()"
   ]
  },
  {
   "cell_type": "code",
   "execution_count": 3,
   "metadata": {
    "scrolled": true
   },
   "outputs": [
    {
     "data": {
      "text/plain": [
       "['4000001,Kristina,Chung,55,Pilot\\n',\n",
       " '4000002,Paige,Chen,74,Teacher\\n',\n",
       " '4000003,Sherri,Melton,34,Firefighter\\n',\n",
       " '4000004,Gretchen,Hill,66,Computer hardware engineer\\n',\n",
       " '4000005,Karen,Puckett,74,Lawyer\\n',\n",
       " '4000006,Patrick,Song,42,Veterinarian\\n',\n",
       " '4000007,Elsie,Hamilton,43,Pilot\\n',\n",
       " '4000008,Hazel,Bender,63,Carpenter\\n',\n",
       " '4000009,Malcolm,Wagner,39,Artist\\n',\n",
       " '4000010,Dolores,McLaughlin,60,Writer\\n',\n",
       " '4000011,Francis,McNamara,47,Therapist\\n',\n",
       " '4000012,Sandy,Raynor,26,Writer\\n',\n",
       " '4000013,Marion,Moon,41,Carpenter\\n',\n",
       " '4000014,Beth,Woodard,65,\\n',\n",
       " '4000015,Julia,Desai,49,Musician\\n',\n",
       " '4000016,Jerome,Wallace,52,Pharmacist\\n',\n",
       " '4000017,Neal,Lawrence,72,Computer support specialist\\n',\n",
       " '4000018,Jean,Griffin,45,Childcare worker\\n',\n",
       " '4000019,Kristine,Dougherty,63,Financial analyst\\n',\n",
       " '4000020,Crystal,Powers,67,Engineering technician\\n',\n",
       " '4000021,Alex,May,39,Environmental scientist\\n',\n",
       " '4000022,Eric,Steele,66,Doctor\\n',\n",
       " '4000023,Wesley,Teague,42,Carpenter\\n',\n",
       " '4000024,Franklin,Vick,28,Dancer\\n',\n",
       " '4000025,Claire,Gallagher,42,Musician\\n',\n",
       " '4000026,Marian,Solomon,27,Lawyer\\n',\n",
       " '4000027,Marcia,Walsh,64,Accountant\\n',\n",
       " '4000028,Dwight,Monroe,45,Economist\\n',\n",
       " '4000029,Wayne,Connolly,40,Real estate agent\\n',\n",
       " '4000030,Stephanie,Hawkins,50,Human resources assistant\\n',\n",
       " '4000031,Neal,Middleton,59,Civil engineer\\n',\n",
       " '4000032,Gretchen,Goldstein,24,Engineering technician\\n',\n",
       " '4000033,Tim,Watts,58,Lawyer\\n',\n",
       " '4000034,Jerome,Johnston,38,Childcare worker\\n',\n",
       " '4000035,Shelley,Weeks,25,Reporter\\n',\n",
       " '4000036,Priscilla,Wilkerson,35,Agricultural and food scientist\\n',\n",
       " '4000037,Elsie,Barton,27,Childcare worker\\n',\n",
       " '4000038,Beth,Walton,73,Firefighter\\n',\n",
       " '4000039,Erica,Hall,33,Police officer\\n',\n",
       " '4000040,Douglas,Ross,27,Secretary\\n',\n",
       " '4000041,Donald,Chung,65,Computer hardware engineer\\n',\n",
       " '4000042,Katherine,Bender,44,Physicist\\n',\n",
       " '4000043,Paul,Woods,63,Doctor\\n',\n",
       " '4000044,Patricia,Mangum,67,Civil engineer\\n',\n",
       " '4000045,Lois,Joseph,44,Musician\\n',\n",
       " '4000046,Louis,Rosenthal,31,\\n',\n",
       " '4000047,Christina,Bowden,47,Computer software engineer\\n',\n",
       " '4000048,Darlene,Barton,54,Doctor\\n',\n",
       " '4000049,Harvey,Underwood,70,Engineering technician\\n',\n",
       " '4000050,William,Jones,53,Photographer\\n',\n",
       " '4000051,Frederick,Baker,52,Writer\\n',\n",
       " '4000052,Shirley,Merritt,21,Reporter\\n',\n",
       " '4000053,Jason,Cross,56,Civil engineer\\n',\n",
       " '4000054,Judith,Cooper,22,Economist\\n',\n",
       " '4000055,Gretchen,Holmes,39,Childcare worker\\n',\n",
       " '4000056,Don,Sharpe,53,Social worker\\n',\n",
       " '4000057,Glenda,Morgan,37,Real estate agent\\n',\n",
       " '4000058,Scott,Hoyle,40,Doctor\\n',\n",
       " '4000059,Pat,Allen,45,Secretary\\n',\n",
       " '4000060,Michelle,Rich,44,Artist\\n',\n",
       " '4000061,Jessica,Rich,37,Actor\\n',\n",
       " '4000062,Evan,Grant,66,Agricultural and food scientist\\n',\n",
       " '4000063,Melinda,Proctor,27,Teacher\\n',\n",
       " '4000064,Calvin,Diaz,65,Athlete\\n',\n",
       " '4000065,Eugene,Graham,52,Police officer\\n',\n",
       " '4000066,Vickie,Watkins,55,Computer support specialist\\n',\n",
       " '4000067,Luis,Hinton,69,Childcare worker\\n',\n",
       " '4000068,Allan,Marsh,67,Athlete\\n',\n",
       " '4000069,Melanie,Hewitt,47,Real estate agent\\n',\n",
       " '4000070,Marianne,Branch,53,Judge\\n',\n",
       " '4000071,Natalie,Walton,24,Recreation and fitness worker\\n',\n",
       " \"4000072,Caroline,O'Brien,44,Computer support specialist\\n\",\n",
       " '4000073,Arlene,Case,62,Musician\\n',\n",
       " '4000074,Kyle,Watts,39,Engineering technician\\n',\n",
       " '4000075,Calvin,Christensen,54,Architect\\n',\n",
       " '4000076,Gary,Parks,65,Pharmacist\\n',\n",
       " '4000077,Samantha,Hardin,27,Doctor\\n',\n",
       " '4000078,Sara,Lucas,44,Loan officer\\n',\n",
       " '4000079,Stacy,Eason,31,Musician\\n',\n",
       " '4000080,Gladys,Davidson,52,Recreation and fitness worker\\n',\n",
       " '4000081,Mike,Whitehead,26,Politician\\n',\n",
       " '4000082,Lynne,Rose,36,Loan officer\\n',\n",
       " '4000083,Faye,Sparks,61,Civil engineer\\n',\n",
       " '4000084,Diana,Moore,44,Computer support specialist\\n',\n",
       " '4000085,Leon,Pearson,24,Physicist\\n',\n",
       " '4000086,Ethel,Rodgers,30,Librarian\\n',\n",
       " '4000087,Steve,Graves,73,Nurse\\n',\n",
       " '4000088,Alison,Scarborough,66,Designer\\n',\n",
       " '4000089,Sherri,Sutton,75,Social worker\\n',\n",
       " '4000090,Patsy,Sinclair,48,Police officer\\n',\n",
       " '4000091,Kelly,Bowman,69,Childcare worker\\n',\n",
       " '4000092,Stacy,Olsen,25,Veterinarian\\n',\n",
       " '4000093,Curtis,Love,45,Secretary\\n',\n",
       " '4000094,Dana,McLean,61,Artist\\n',\n",
       " '4000095,Jennifer,Christian,54,Human resources assistant\\n',\n",
       " '4000096,Brett,Lamb,39,Engineering technician\\n',\n",
       " '4000097,Brandon,James,29,Musician\\n',\n",
       " '4000098,Keith,Chandler,25,Coach\\n',\n",
       " '4000099,Joann,Stout,32,Real estate agent\\n',\n",
       " '4000100,Ronnie,Cowan,71,Photographer\\n',\n",
       " '4000101,Scott,Golden,27,Teacher\\n',\n",
       " '4000102,Gene,Bowling,73,Recreation and fitness worker\\n',\n",
       " '4000103,Louise,Beasley,54,Loan officer\\n',\n",
       " '4000104,Geoffrey,Clapp,41,Photographer\\n',\n",
       " '4000105,Patricia,Abrams,51,Veterinarian\\n',\n",
       " '4000106,Jennifer,Tilley,35,Agricultural and food scientist\\n',\n",
       " '4000107,Mary,Morse,70,Automotive mechanic\\n',\n",
       " '4000108,Shawn,Boykin,34,Photographer\\n',\n",
       " '4000109,Vincent,Sumner,31,Lawyer\\n',\n",
       " '4000110,Kurt,Cassidy,32,Dancer\\n',\n",
       " '4000111,Danny,Davidson,70,Agricultural and food scientist\\n',\n",
       " '4000112,Charlene,Heath,26,Electrician\\n',\n",
       " '4000113,Alice,Blanchard,73,Economist\\n',\n",
       " '4000114,Joan,McAllister,73,Engineering technician\\n',\n",
       " '4000115,Betty,McKenzie,45,Computer support specialist\\n',\n",
       " '4000116,Danny,Byrne,51,Dancer\\n',\n",
       " '4000117,Peggy,Schroeder,61,Loan officer\\n',\n",
       " '4000118,Leslie,Griffin,37,Photographer\\n',\n",
       " '4000119,Marshall,Gross,42,Actor\\n',\n",
       " '4000120,Sara,Perkins,67,Actor\\n',\n",
       " '4000121,Martha,Robertson,37,Agricultural and food scientist\\n',\n",
       " '4000122,Jack,Palmer,52,Human resources assistant\\n',\n",
       " '4000123,Gayle,Brady,45,Firefighter\\n',\n",
       " '4000124,Benjamin,Rowe,64,Childcare worker\\n',\n",
       " '4000125,Roberta,Zhang,38,Statistician\\n',\n",
       " '4000126,Patricia,Hodge,59,Artist\\n',\n",
       " '4000127,Clifford,Li,63,Photographer\\n',\n",
       " '4000128,Joanne,Bowling,35,Musician\\n',\n",
       " '4000129,Martin,Justice,58,Electrician\\n',\n",
       " '4000130,Toni,Glass,46,Lawyer\\n',\n",
       " '4000131,Beth,Willis,62,Carpenter\\n',\n",
       " '4000132,Jessica,Hester,72,Civil engineer\\n',\n",
       " '4000133,Samantha,Floyd,72,Childcare worker\\n',\n",
       " '4000134,Jimmy,Graves,69,Nurse\\n',\n",
       " '4000135,Vincent,Fischer,33,Statistician\\n',\n",
       " '4000136,Dianne,Norman,68,Veterinarian\\n',\n",
       " '4000137,Rhonda,Chan,34,Pharmacist\\n',\n",
       " '4000138,Tamara,Hunt,25,Psychologist\\n',\n",
       " '4000139,Mary,Byrd,34,Environmental scientist\\n',\n",
       " '4000140,Sidney,Lane,54,Statistician\\n',\n",
       " '4000141,Jeff,Kaplan,70,Chemist\\n',\n",
       " '4000142,Sandra,Heller,51,Photographer\\n',\n",
       " '4000143,Katie,May,28,Recreation and fitness worker\\n',\n",
       " '4000144,Raymond,Jennings,63,Coach\\n',\n",
       " '4000145,Roger,Hanna,23,Musician\\n',\n",
       " '4000146,Natalie,Locklear,37,Politician\\n',\n",
       " '4000147,Kathy,Holloway,65,Pharmacist\\n',\n",
       " '4000148,Troy,Jones,74,Secretary\\n',\n",
       " '4000149,Neal,Glover,40,Real estate agent\\n',\n",
       " '4000150,Martin,Vick,31,Physicist\\n',\n",
       " \"4000151,Jack,O'Donnell,59,Actor\\n\",\n",
       " '4000152,Vincent,Goldman,22,Electrician\\n',\n",
       " '4000153,Beth,McKenna,40,Veterinarian\\n',\n",
       " '4000154,Milton,Starr,23,Carpenter\\n',\n",
       " '4000155,Tamara,Stone,73,Firefighter\\n',\n",
       " '4000156,Mitchell,McClure,68,Loan officer\\n',\n",
       " '4000157,Franklin,Watson,64,Coach\\n',\n",
       " '4000158,Leroy,Monroe,51,Computer support specialist\\n',\n",
       " '4000159,Glen,Abbott,29,Loan officer\\n',\n",
       " '4000160,Judith,Singer,73,Actor\\n',\n",
       " '4000161,Alice,Hall,33,Recreation and fitness worker\\n',\n",
       " '4000162,Bruce,Farrell,35,Librarian\\n',\n",
       " '4000163,Kathleen,Lucas,66,Chemist\\n',\n",
       " '4000164,Amy,Norman,62,Automotive mechanic\\n',\n",
       " '4000165,Ronnie,Atkins,67,Dancer\\n',\n",
       " '4000166,Martha,Monroe,31,Judge\\n',\n",
       " '4000167,Lynn,Robertson,45,Lawyer\\n',\n",
       " '4000168,Jose,Sykes,47,Writer\\n',\n",
       " '4000169,Robert,Reid,39,Carpenter\\n',\n",
       " '4000170,Pauline,Chandler,70,Economist\\n',\n",
       " '4000171,Stephen,Finch,30,Coach\\n',\n",
       " '4000172,Peggy,Hobbs,69,Musician\\n',\n",
       " '4000173,Donna,Adkins,72,Electrical engineer\\n',\n",
       " '4000174,Doris,Kinney,36,Athlete\\n',\n",
       " '4000175,Ben,Whitaker,35,Computer support specialist\\n',\n",
       " '4000176,Kristin,Alexander,21,Coach\\n',\n",
       " '4000177,Ryan,Conner,51,Electrical engineer\\n',\n",
       " '4000178,Tracey,Waters,73,Computer hardware engineer\\n',\n",
       " '4000179,Mark,Becker,39,Computer support specialist\\n',\n",
       " '4000180,Louis,Rollins,35,Economist\\n',\n",
       " '4000181,Janet,Love,39,Politician\\n',\n",
       " '4000182,Leo,Adkins,42,Economist\\n',\n",
       " '4000183,Constance,Black,36,Firefighter\\n',\n",
       " '4000184,Sarah,Fox,73,Psychologist\\n',\n",
       " '4000185,Gladys,Hatcher,62,Musician\\n',\n",
       " '4000186,Hazel,Wu,68,Therapist\\n',\n",
       " '4000187,Hazel,Lloyd,48,Politician\\n',\n",
       " '4000188,Jerome,Joyce,40,Artist\\n',\n",
       " '4000189,Vincent,Welch,54,Psychologist\\n',\n",
       " '4000190,Kim,Matthews,38,Architect\\n',\n",
       " '4000191,Joseph,Chappell,59,Reporter\\n',\n",
       " '4000192,Alison,MacDonald,26,Childcare worker\\n',\n",
       " '4000193,Eric,Kane,61,Childcare worker\\n',\n",
       " '4000194,Heather,Butler,67,Farmer\\n',\n",
       " '4000195,Claire,Pickett,59,Lawyer\\n',\n",
       " '4000196,Michele,Bowman,54,Computer software engineer\\n',\n",
       " '4000197,Terry,Barton,27,Recreation and fitness worker\\n',\n",
       " '4000198,Ken,Kennedy,35,Automotive mechanic\\n',\n",
       " '4000199,Judy,Branch,42,Athlete\\n',\n",
       " '4000200,Clyde,Thornton,70,Pharmacist\\n',\n",
       " '4000201,Timothy,McNeill,70,Librarian\\n',\n",
       " '4000202,Ted,Weinstein,23,Human resources assistant\\n',\n",
       " '4000203,Sandra,Middleton,28,Librarian\\n',\n",
       " '4000204,Billie,Moss,65,Photographer\\n',\n",
       " '4000205,Katharine,Lucas,67,Electrician\\n',\n",
       " '4000206,Lester,Rich,53,Human resources assistant\\n',\n",
       " '4000207,Johnny,Carlton,28,Librarian\\n',\n",
       " '4000208,Ashley,Brady,43,Financial analyst\\n',\n",
       " '4000209,Lauren,Schultz,33,Electrician\\n',\n",
       " '4000210,Carolyn,Nichols,49,Agricultural and food scientist\\n',\n",
       " '4000211,Louis,Harvey,72,Financial analyst\\n',\n",
       " '4000212,Charlene,Stevenson,65,Carpenter\\n',\n",
       " '4000213,Ashley,Houston,24,Judge\\n',\n",
       " '4000214,Sheryl,Dunn,71,Civil engineer\\n',\n",
       " '4000215,Ben,West,64,Electrician\\n',\n",
       " \"4000216,Linda,O'Brien,46,Loan officer\\n\",\n",
       " '4000217,Sarah,Barr,52,Therapist\\n',\n",
       " '4000218,Brett,Snyder,22,Doctor\\n',\n",
       " '4000219,Dana,Cain,63,Human resources assistant\\n',\n",
       " '4000220,Rebecca,Heath,74,Environmental scientist\\n',\n",
       " '4000221,Glenda,Boswell,28,Civil engineer\\n',\n",
       " '4000222,Glen,Olsen,63,Childcare worker\\n',\n",
       " '4000223,Don,Pittman,70,Designer\\n',\n",
       " '4000224,Gregory,Weiner,58,Accountant\\n',\n",
       " '4000225,Randy,Petersen,71,Actor\\n',\n",
       " '4000226,Geraldine,Davis,36,Accountant\\n',\n",
       " '4000227,Edna,Coleman,58,Veterinarian\\n',\n",
       " '4000228,Sidney,Terrell,32,Statistician\\n',\n",
       " '4000229,Faye,Norman,64,Pilot\\n',\n",
       " '4000230,Kathy,Burch,28,Pilot\\n',\n",
       " '4000231,Marguerite,Weiner,45,Police officer\\n',\n",
       " '4000232,Marvin,Parrott,67,Doctor\\n',\n",
       " '4000233,Alex,Henry,67,Police officer\\n',\n",
       " '4000234,Alexander,Gray,35,Reporter\\n',\n",
       " '4000235,Marsha,Chang,42,Chemist\\n',\n",
       " '4000236,Karl,McLean,69,Photographer\\n',\n",
       " '4000237,Laura,Eason,31,Loan officer\\n',\n",
       " '4000238,Melinda,Weeks,59,Computer software engineer\\n',\n",
       " '4000239,Eva,Siegel,50,Psychologist\\n',\n",
       " '4000240,Robert,Puckett,56,Physicist\\n',\n",
       " '4000241,Bill,Heath,35,Actor\\n',\n",
       " '4000242,Edna,Hoyle,74,Electrical engineer\\n',\n",
       " '4000243,Clifford,Garrett,72,Veterinarian\\n',\n",
       " '4000244,Penny,Neal,59,Veterinarian\\n',\n",
       " '4000245,Glenda,Baker,52,Economist\\n',\n",
       " '4000246,Arthur,Goldman,58,Childcare worker\\n',\n",
       " '4000247,Wesley,Shaffer,58,Farmer\\n',\n",
       " '4000248,Allison,Choi,23,Computer hardware engineer\\n',\n",
       " '4000249,Florence,Carver,34,Electrical engineer\\n',\n",
       " '4000250,Claire,Shelton,34,Environmental scientist\\n',\n",
       " '4000251,Jeremy,House,61,Pilot\\n',\n",
       " '4000252,Christy,Lyons,31,Physicist\\n',\n",
       " '4000253,Wesley,Moser,64,Doctor\\n',\n",
       " '4000254,Lucy,Dickinson,72,Loan officer\\n',\n",
       " '4000255,Susan,Abbott,65,Actor\\n',\n",
       " '4000256,Nancy,Hobbs,40,Environmental scientist\\n',\n",
       " '4000257,Monica,Dodson,58,\\n',\n",
       " '4000258,Justin,Spencer,67,Economist\\n',\n",
       " '4000259,Margaret,Burgess,74,Social worker\\n',\n",
       " '4000260,Philip,Liu,59,Nurse\\n',\n",
       " '4000261,Miriam,Wong,27,Childcare worker\\n',\n",
       " '4000262,Miriam,Blackburn,52,Athlete\\n',\n",
       " '4000263,Christopher,McKay,67,Judge\\n',\n",
       " '4000264,Joanna,Middleton,37,Firefighter\\n',\n",
       " '4000265,Stacy,Frazier,69,Designer\\n',\n",
       " '4000266,Janice,Reid,40,Therapist\\n',\n",
       " '4000267,Brian,Braswell,64,Chemist\\n',\n",
       " '4000268,Juan,Steele,57,Nurse\\n',\n",
       " '4000269,Leroy,Donovan,74,Photographer\\n',\n",
       " '4000270,Tommy,Barrett,38,Engineering technician\\n',\n",
       " '4000271,Alice,Nance,59,Pilot\\n',\n",
       " '4000272,Adam,Washington,54,Electrical engineer\\n',\n",
       " '4000273,Larry,Rogers,50,Engineering technician\\n',\n",
       " '4000274,Angela,McMahon,66,Secretary\\n',\n",
       " '4000275,Lawrence,Miles,74,Dancer\\n',\n",
       " '4000276,Glen,Kramer,43,Coach\\n',\n",
       " '4000277,Valerie,Jennings,59,Loan officer\\n',\n",
       " '4000278,Meredith,Bowles,62,Accountant\\n',\n",
       " '4000279,Jan,Brown,58,Secretary\\n',\n",
       " '4000280,Lillian,Bolton,32,Photographer\\n',\n",
       " '4000281,Allen,Craven,64,Therapist\\n',\n",
       " '4000282,Ashley,Hendrix,50,Accountant\\n',\n",
       " '4000283,Ian,Nichols,57,Electrician\\n',\n",
       " '4000284,Gina,Saunders,48,Photographer\\n',\n",
       " '4000285,Donna,Lehman,71,Social worker\\n',\n",
       " '4000286,Catherine,Sherrill,48,Nurse\\n',\n",
       " '4000287,Lester,Cash,30,Firefighter\\n',\n",
       " '4000288,Jacob,Pittman,34,Economist\\n',\n",
       " '4000289,Nancy,Sullivan,70,Electrical engineer\\n',\n",
       " '4000290,Gail,Whitehead,21,Nurse\\n',\n",
       " '4000291,Lloyd,Mack,67,Recreation and fitness worker\\n',\n",
       " '4000292,Donna,Rice,21,Social worker\\n',\n",
       " '4000293,Kay,Ayers,44,Childcare worker\\n',\n",
       " '4000294,Wendy,Cherry,70,Loan officer\\n',\n",
       " '4000295,Lucille,Richmond,70,Photographer\\n',\n",
       " '4000296,Virginia,York,67,Politician\\n',\n",
       " '4000297,Bruce,Wiley,43,Artist\\n',\n",
       " '4000298,Marc,Harrington,57,Physicist\\n',\n",
       " '4000299,Geoffrey,Reed,53,Reporter\\n',\n",
       " '4000300,Tiffany,Nash,41,Coach\\n',\n",
       " '4000301,Todd,Wilkerson,55,Librarian\\n',\n",
       " '4000302,Jill,Kent,27,Electrical engineer\\n',\n",
       " '4000303,Erin,Finch,54,Police officer\\n',\n",
       " '4000304,Melinda,Starr,57,Statistician\\n',\n",
       " '4000305,Julie,Holland,61,Architect\\n',\n",
       " '4000306,Stanley,Glover,44,Nurse\\n',\n",
       " '4000307,Karen,Clements,74,Farmer\\n',\n",
       " '4000308,Judy,Schultz,42,Statistician\\n',\n",
       " '4000309,Raymond,Hawley,66,Recreation and fitness worker\\n',\n",
       " '4000310,Julie,Skinner,56,Electrical engineer\\n',\n",
       " '4000311,Sue,Hamrick,43,Reporter\\n',\n",
       " '4000312,Colleen,Winters,36,Designer\\n',\n",
       " '4000313,Judith,Dolan,44,Civil engineer\\n',\n",
       " '4000314,Luis,Turner,69,Computer software engineer\\n',\n",
       " '4000315,Bradley,Beatty,36,Human resources assistant\\n',\n",
       " '4000316,Glenda,Douglas,28,Loan officer\\n',\n",
       " '4000317,Brent,Byrne,62,Judge\\n',\n",
       " '4000318,Clyde,Hendricks,41,Loan officer\\n',\n",
       " '4000319,Sharon,Mayer,70,Statistician\\n',\n",
       " '4000320,Mary,Cochran,25,Computer support specialist\\n',\n",
       " '4000321,Sue,Reilly,33,Physicist\\n',\n",
       " '4000322,Geraldine,Jensen,50,Pilot\\n',\n",
       " '4000323,Rita,Yates,34,Librarian\\n',\n",
       " '4000324,Annie,Haynes,51,Social worker\\n',\n",
       " '4000325,Ruth,Harmon,75,Artist\\n',\n",
       " '4000326,Michelle,Matthews,67,Computer software engineer\\n',\n",
       " '4000327,Heather,Dawson,43,\\n',\n",
       " '4000328,Jane,Barefoot,53,Accountant\\n',\n",
       " '4000329,Wallace,Kaplan,35,Secretary\\n',\n",
       " '4000330,Kimberly,Gross,38,Designer\\n',\n",
       " '4000331,Jon,Richmond,37,Agricultural and food scientist\\n',\n",
       " '4000332,Lee,Pope,55,Statistician\\n',\n",
       " '4000333,Kenneth,Pickett,28,Police officer\\n',\n",
       " '4000334,Keith,Schwartz,65,Childcare worker\\n',\n",
       " '4000335,Jim,Singleton,55,Accountant\\n',\n",
       " '4000336,Steven,Ballard,62,Pilot\\n',\n",
       " '4000337,Pauline,Spivey,55,Computer hardware engineer\\n',\n",
       " '4000338,Marc,Denton,71,Musician\\n',\n",
       " '4000339,Kerry,Huff,38,Writer\\n',\n",
       " '4000340,Lynne,Mangum,37,Chemist\\n',\n",
       " '4000341,Claude,Berger,51,Electrical engineer\\n',\n",
       " '4000342,Rose,McCall,29,Farmer\\n',\n",
       " '4000343,Kathy,Pollard,43,Politician\\n',\n",
       " '4000344,Catherine,Garcia,69,Athlete\\n',\n",
       " '4000345,Frances,Wagner,28,Veterinarian\\n',\n",
       " '4000346,Diana,Crane,26,Lawyer\\n',\n",
       " '4000347,Leslie,Wolf,50,Loan officer\\n',\n",
       " '4000348,Marian,Crane,37,Automotive mechanic\\n',\n",
       " '4000349,Russell,Dalton,21,Civil engineer\\n',\n",
       " '4000350,Sheryl,Diaz,30,Pharmacist\\n',\n",
       " '4000351,Lewis,Currin,73,Farmer\\n',\n",
       " '4000352,Ernest,Stanton,51,Lawyer\\n',\n",
       " '4000353,Vivian,Carey,64,Statistician\\n',\n",
       " '4000354,Harold,Li,49,Doctor\\n',\n",
       " '4000355,Malcolm,Chan,27,Environmental scientist\\n',\n",
       " '4000356,Kay,Hess,56,Childcare worker\\n',\n",
       " '4000357,Max,Robinson,32,Dancer\\n',\n",
       " '4000358,Vicki,Mills,56,Computer support specialist\\n',\n",
       " '4000359,Leon,Bender,22,Firefighter\\n',\n",
       " '4000360,Alvin,McDonald,73,Musician\\n',\n",
       " '4000361,Jacob,Moore,64,Environmental scientist\\n',\n",
       " '4000362,Holly,Fox,74,Physicist\\n',\n",
       " '4000363,Audrey,Lanier,54,Human resources assistant\\n',\n",
       " '4000364,Christina,Harris,39,Doctor\\n',\n",
       " '4000365,Joseph,Underwood,57,Reporter\\n',\n",
       " '4000366,Evelyn,Parsons,37,Human resources assistant\\n',\n",
       " '4000367,Nicholas,Vaughn,66,Carpenter\\n',\n",
       " '4000368,Ben,Banks,60,Accountant\\n',\n",
       " '4000369,Dorothy,Sherrill,28,Agricultural and food scientist\\n',\n",
       " '4000370,Theresa,Oakley,35,Nurse\\n',\n",
       " '4000371,Harriet,Rubin,71,Real estate agent\\n',\n",
       " '4000372,Barry,Maynard,53,Pharmacist\\n',\n",
       " '4000373,Jerome,Hill,66,Computer hardware engineer\\n',\n",
       " '4000374,Jason,Livingston,67,Civil engineer\\n',\n",
       " '4000375,Norman,Lam,63,Teacher\\n',\n",
       " '4000376,Glen,Thompson,40,Coach\\n',\n",
       " '4000377,Ellen,Creech,36,Human resources assistant\\n',\n",
       " '4000378,Dianne,Dillon,34,Recreation and fitness worker\\n',\n",
       " '4000379,Harry,Foster,50,Coach\\n',\n",
       " '4000380,Tim,Starr,59,Photographer\\n',\n",
       " '4000381,Kent,Roy,31,Electrical engineer\\n',\n",
       " '4000382,Eddie,Barbour,61,Athlete\\n',\n",
       " '4000383,Arnold,Burke,70,Reporter\\n',\n",
       " '4000384,Melanie,Ritchie,36,Financial analyst\\n',\n",
       " '4000385,Ronald,Odom,49,Psychologist\\n',\n",
       " '4000386,Gene,Pearce,30,Architect\\n',\n",
       " '4000387,Peter,Rosenberg,60,Politician\\n',\n",
       " '4000388,Jean,Garrett,73,Doctor\\n',\n",
       " \"4000389,Neal,O'Connor,26,Therapist\\n\",\n",
       " '4000390,Tracy,Cates,54,Dancer\\n',\n",
       " '4000391,Holly,McIntosh,73,Computer software engineer\\n',\n",
       " '4000392,Emma,Olson,74,Pilot\\n',\n",
       " '4000393,Molly,Cox,55,Social worker\\n',\n",
       " '4000394,Carlos,Erickson,63,Statistician\\n',\n",
       " '4000395,Betsy,Chang,54,Designer\\n',\n",
       " '4000396,Andrew,Briggs,45,Farmer\\n',\n",
       " '4000397,Bill,Klein,26,Teacher\\n',\n",
       " '4000398,Eileen,Goldberg,57,Therapist\\n',\n",
       " '4000399,Randall,Hinson,51,Judge\\n',\n",
       " '4000400,Kelly,Weiss,72,Librarian\\n',\n",
       " '4000401,Elaine,Pritchard,48,Automotive mechanic\\n',\n",
       " '4000402,Rhonda,Goldman,38,Computer support specialist\\n',\n",
       " '4000403,Leo,Lassiter,65,Pilot\\n',\n",
       " '4000404,Clarence,Massey,74,Politician\\n',\n",
       " '4000405,Grace,Stark,41,Pharmacist\\n',\n",
       " '4000406,Jordan,Dunlap,59,Agricultural and food scientist\\n',\n",
       " '4000407,Glenda,Humphrey,32,Carpenter\\n',\n",
       " '4000408,Jacob,Singleton,33,Veterinarian\\n',\n",
       " '4000409,Jordan,Horowitz,58,Actor\\n',\n",
       " '4000410,Dawn,Lutz,66,Therapist\\n',\n",
       " '4000411,Joanna,Hoover,50,\\n',\n",
       " '4000412,Sandra,Kang,47,Designer\\n',\n",
       " '4000413,Stephen,Melton,33,Athlete\\n',\n",
       " '4000414,Jessica,Teague,72,Firefighter\\n',\n",
       " '4000415,Regina,Ellington,52,Social worker\\n',\n",
       " '4000416,Paige,Cherry,45,Environmental scientist\\n',\n",
       " '4000417,Joyce,Jennings,61,Social worker\\n',\n",
       " '4000418,Tamara,Creech,46,Social worker\\n',\n",
       " '4000419,Toni,Lynn,67,Civil engineer\\n',\n",
       " '4000420,Betty,Albright,64,Engineering technician\\n',\n",
       " '4000421,Jerry,Alston,31,Lawyer\\n',\n",
       " '4000422,Tommy,Burnette,72,Doctor\\n',\n",
       " \"4000423,Alan,O'Neal,59,Pilot\\n\",\n",
       " '4000424,Christina,Morris,56,Dancer\\n',\n",
       " '4000425,Dean,Lutz,26,Pilot\\n',\n",
       " '4000426,Veronica,Callahan,31,Veterinarian\\n',\n",
       " '4000427,Kelly,Conway,36,Designer\\n',\n",
       " '4000428,Marcus,Harvey,62,Computer support specialist\\n',\n",
       " '4000429,Carrie,Watson,52,Musician\\n',\n",
       " '4000430,George,Glover,41,Nurse\\n',\n",
       " '4000431,Nina,Savage,35,Politician\\n',\n",
       " '4000432,Paige,Henson,61,Dancer\\n',\n",
       " '4000433,Jay,Wang,64,Carpenter\\n',\n",
       " '4000434,Sue,Ellis,59,Environmental scientist\\n',\n",
       " '4000435,Brenda,Barbour,36,Architect\\n',\n",
       " '4000436,Joshua,Sherrill,43,Politician\\n',\n",
       " '4000437,Nelson,Pierce,69,Actor\\n',\n",
       " '4000438,Vincent,Woodward,34,Electrical engineer\\n',\n",
       " '4000439,Nicholas,Godfrey,69,Environmental scientist\\n',\n",
       " '4000440,Hannah,Langston,25,Pilot\\n',\n",
       " '4000441,Alice,Eaton,32,Chemist\\n',\n",
       " '4000442,Elisabeth,Lowe,34,Farmer\\n',\n",
       " '4000443,Matthew,Stanton,51,Secretary\\n',\n",
       " '4000444,Thomas,Fuller,51,Childcare worker\\n',\n",
       " '4000445,Benjamin,Simmons,70,Veterinarian\\n',\n",
       " '4000446,Kristine,Schultz,66,Architect\\n',\n",
       " '4000447,Jordan,Knight,65,Electrician\\n',\n",
       " '4000448,Guy,Klein,34,Designer\\n',\n",
       " '4000449,Terry,Garcia,30,Automotive mechanic\\n',\n",
       " '4000450,Floyd,Schroeder,37,Farmer\\n',\n",
       " '4000451,Russell,Hess,21,Architect\\n',\n",
       " '4000452,Marsha,Gold,36,Athlete\\n',\n",
       " '4000453,Kim,Hensley,64,Photographer\\n',\n",
       " '4000454,Virginia,Turner,22,Computer hardware engineer\\n',\n",
       " '4000455,Deborah,French,56,Accountant\\n',\n",
       " '4000456,Peter,Hughes,38,Computer software engineer\\n',\n",
       " '4000457,Bernard,Pate,34,Doctor\\n',\n",
       " '4000458,Harold,Burnett,40,Musician\\n',\n",
       " '4000459,Gretchen,Francis,60,Politician\\n',\n",
       " '4000460,Cheryl,Horn,40,Veterinarian\\n',\n",
       " '4000461,Audrey,Forrest,50,Architect\\n',\n",
       " '4000462,Alan,Levin,43,Statistician\\n',\n",
       " '4000463,Wayne,Weiner,70,\\n',\n",
       " '4000464,Nancy,Durham,60,Nurse\\n',\n",
       " '4000465,Peter,Guthrie,21,Nurse\\n',\n",
       " '4000466,Benjamin,Hensley,37,Pilot\\n',\n",
       " '4000467,Derek,Freedman,66,Recreation and fitness worker\\n',\n",
       " '4000468,Marlene,Wiggins,65,Agricultural and food scientist\\n',\n",
       " '4000469,Clara,Best,51,Pharmacist\\n',\n",
       " '4000470,Ashley,Beatty,46,Computer support specialist\\n',\n",
       " '4000471,Kara,Crawford,40,Social worker\\n',\n",
       " '4000472,Kristin,Drake,22,Financial analyst\\n',\n",
       " '4000473,Edwin,Curtis,25,Civil engineer\\n',\n",
       " '4000474,Molly,Walter,30,Architect\\n',\n",
       " '4000475,Marshall,Dunlap,43,Statistician\\n',\n",
       " '4000476,Elaine,Jenkins,47,Writer\\n',\n",
       " '4000477,Victor,Hood,48,Firefighter\\n',\n",
       " '4000478,Tonya,Ellis,26,Firefighter\\n',\n",
       " '4000479,Cecil,Jiang,74,Photographer\\n',\n",
       " '4000480,Melissa,Johnson,64,Recreation and fitness worker\\n',\n",
       " '4000481,Christina,Craig,48,Dancer\\n',\n",
       " '4000482,Allison,Norman,25,Musician\\n',\n",
       " '4000483,Gretchen,McIntyre,38,Statistician\\n',\n",
       " '4000484,Bonnie,Brantley,68,Firefighter\\n',\n",
       " '4000485,George,Kelley,58,Judge\\n',\n",
       " '4000486,Barbara,Smith,58,Designer\\n',\n",
       " '4000487,Evelyn,Lyons,51,Childcare worker\\n',\n",
       " '4000488,Rita,Wall,58,Photographer\\n',\n",
       " '4000489,Dan,Quinn,31,Agricultural and food scientist\\n',\n",
       " '4000490,Juan,Hicks,37,Accountant\\n',\n",
       " '4000491,Jesse,Garrison,59,Pharmacist\\n',\n",
       " '4000492,Ronnie,Watts,29,Actor\\n',\n",
       " '4000493,Hilda,Dickerson,53,Farmer\\n',\n",
       " '4000494,Stephen,Waller,75,\\n',\n",
       " '4000495,Lorraine,Carter,65,Financial analyst\\n',\n",
       " '4000496,Chris,Robinson,74,Economist\\n',\n",
       " '4000497,Katie,Katz,26,Dancer\\n',\n",
       " '4000498,Richard,Hull,69,Accountant\\n',\n",
       " '4000499,Steve,Bowling,61,Recreation and fitness worker\\n',\n",
       " '4000500,Monica,Brantley,58,Engineering technician\\n',\n",
       " '4000501,Kenneth,Brock,68,Loan officer\\n',\n",
       " '4000502,Leigh,James,37,Teacher\\n',\n",
       " '4000503,Glenda,McMillan,61,Police officer\\n',\n",
       " '4000504,Ricky,Hu,50,Teacher\\n',\n",
       " '4000505,Rick,Waller,54,Teacher\\n',\n",
       " '4000506,Wanda,Abbott,36,Agricultural and food scientist\\n',\n",
       " '4000507,Heidi,McKee,68,Engineering technician\\n',\n",
       " '4000508,Robin,Waters,63,Computer hardware engineer\\n',\n",
       " '4000509,Dan,Sims,33,Loan officer\\n',\n",
       " '4000510,Kathy,Henderson,69,Coach\\n',\n",
       " '4000511,Alicia,Rao,68,Loan officer\\n',\n",
       " '4000512,Sherry,Bray,67,Chemist\\n',\n",
       " '4000513,Chris,Scarborough,45,Engineering technician\\n',\n",
       " '4000514,Nathan,Ford,36,Financial analyst\\n',\n",
       " '4000515,Sidney,Blum,54,Photographer\\n',\n",
       " '4000516,Clyde,Kenney,25,Pharmacist\\n',\n",
       " '4000517,Barry,Gordon,58,Actor\\n',\n",
       " '4000518,Shannon,Blair,72,Librarian\\n',\n",
       " '4000519,Melinda,Moore,67,Chemist\\n',\n",
       " '4000520,Maureen,Kemp,45,Artist\\n',\n",
       " '4000521,Pat,Hutchinson,42,Computer support specialist\\n',\n",
       " '4000522,Neal,Brennan,28,Therapist\\n',\n",
       " '4000523,Anne,Little,64,Nurse\\n',\n",
       " '4000524,Clifford,Gill,40,Computer support specialist\\n',\n",
       " '4000525,Nicole,Keller,55,Human resources assistant\\n',\n",
       " '4000526,Rachel,Rosenthal,56,Automotive mechanic\\n',\n",
       " '4000527,Carolyn,McConnell,31,Firefighter\\n',\n",
       " '4000528,Samuel,Sawyer,63,Pharmacist\\n',\n",
       " '4000529,Theodore,McCall,68,Lawyer\\n',\n",
       " '4000530,Eleanor,Coates,31,Reporter\\n',\n",
       " '4000531,Glenn,Hicks,40,Librarian\\n',\n",
       " '4000532,Wesley,Davidson,73,Electrical engineer\\n',\n",
       " '4000533,Ralph,Hawkins,34,Agricultural and food scientist\\n',\n",
       " '4000534,Annie,Lindsay,38,Statistician\\n',\n",
       " '4000535,Beth,Gonzalez,41,Human resources assistant\\n',\n",
       " '4000536,Claire,Gray,66,Therapist\\n',\n",
       " '4000537,Jonathan,English,67,Agricultural and food scientist\\n',\n",
       " '4000538,Bradley,Duke,27,Police officer\\n',\n",
       " '4000539,Hugh,Webb,71,Firefighter\\n',\n",
       " '4000540,Nicholas,Baldwin,71,Childcare worker\\n',\n",
       " '4000541,Penny,Lamb,32,Agricultural and food scientist\\n',\n",
       " '4000542,Gloria,Shaffer,33,Pilot\\n',\n",
       " '4000543,Kelly,Wang,31,Accountant\\n',\n",
       " '4000544,Tommy,Burgess,38,Librarian\\n',\n",
       " '4000545,Danielle,Smith,22,Pharmacist\\n',\n",
       " '4000546,Calvin,Fletcher,55,Judge\\n',\n",
       " '4000547,Emily,Boyd,61,Psychologist\\n',\n",
       " '4000548,Luis,Hirsch,72,Librarian\\n',\n",
       " '4000549,Kimberly,Currie,74,Financial analyst\\n',\n",
       " '4000550,Paige,McKenzie,36,Chemist\\n',\n",
       " '4000551,Sidney,Weber,26,Electrician\\n',\n",
       " '4000552,Robert,Honeycutt,63,Computer hardware engineer\\n',\n",
       " '4000553,Karen,Manning,30,Recreation and fitness worker\\n',\n",
       " '4000554,Kyle,Bolton,25,Writer\\n',\n",
       " '4000555,Mary,Ritchie,57,Politician\\n',\n",
       " '4000556,Evelyn,Baldwin,71,Statistician\\n',\n",
       " '4000557,Lynda,Riley,38,Electrician\\n',\n",
       " '4000558,Beth,Swanson,64,Photographer\\n',\n",
       " '4000559,Erin,Huffman,37,Electrician\\n',\n",
       " '4000560,James,Gibson,35,Computer support specialist\\n',\n",
       " '4000561,Leigh,Yates,45,Secretary\\n',\n",
       " '4000562,Jordan,Wrenn,61,Pilot\\n',\n",
       " '4000563,Willie,Green,34,Civil engineer\\n',\n",
       " '4000564,Wade,Harris,63,Pharmacist\\n',\n",
       " '4000565,Lori,Hayes,51,Firefighter\\n',\n",
       " '4000566,Charlotte,Hamrick,31,Therapist\\n',\n",
       " '4000567,Rhonda,Hawley,37,Reporter\\n',\n",
       " '4000568,Steve,Koch,36,Nurse\\n',\n",
       " '4000569,Nicholas,McKenzie,33,Actor\\n',\n",
       " '4000570,Vicki,Harrell,74,Civil engineer\\n',\n",
       " '4000571,Stephanie,Parsons,29,Politician\\n',\n",
       " '4000572,Jose,McGuire,61,Photographer\\n',\n",
       " '4000573,George,Stephenson,42,Electrician\\n',\n",
       " '4000574,Marlene,Baxter,37,Recreation and fitness worker\\n',\n",
       " '4000575,Catherine,Summers,27,Real estate agent\\n',\n",
       " '4000576,Carrie,Welch,67,Doctor\\n',\n",
       " '4000577,Leo,Nixon,46,Coach\\n',\n",
       " '4000578,Rita,Kelly,32,Automotive mechanic\\n',\n",
       " '4000579,Joan,Sumner,28,Accountant\\n',\n",
       " '4000580,Marsha,Cobb,56,Chemist\\n',\n",
       " '4000581,Wesley,Bruce,39,Civil engineer\\n',\n",
       " '4000582,Cathy,Newton,37,Teacher\\n',\n",
       " '4000583,Kevin,Rogers,66,Lawyer\\n',\n",
       " '4000584,Craig,Sanchez,60,Chemist\\n',\n",
       " '4000585,Lester,Finch,65,Human resources assistant\\n',\n",
       " '4000586,Joy,Silverman,28,Coach\\n',\n",
       " '4000587,Kate,Horn,54,Doctor\\n',\n",
       " '4000588,Bernice,Richardson,71,Real estate agent\\n',\n",
       " '4000589,Theodore,Gay,60,Accountant\\n',\n",
       " '4000590,Cheryl,Chase,53,Secretary\\n',\n",
       " '4000591,Jamie,Gallagher,69,Librarian\\n',\n",
       " '4000592,Audrey,Kern,50,Nurse\\n',\n",
       " '4000593,Jennifer,Scott,43,Carpenter\\n',\n",
       " '4000594,Lewis,Bradley,31,Carpenter\\n',\n",
       " '4000595,Ben,Puckett,25,Photographer\\n',\n",
       " '4000596,Allen,Sanchez,59,Recreation and fitness worker\\n',\n",
       " '4000597,Alex,Yang,62,Athlete\\n',\n",
       " '4000598,Jennifer,Brantley,47,Musician\\n',\n",
       " '4000599,Doris,Bunn,43,Veterinarian\\n',\n",
       " '4000600,Jonathan,Link,44,Financial analyst\\n',\n",
       " '4000601,Allan,Nguyen,51,Pilot\\n',\n",
       " '4000602,Shawn,Stephens,32,Veterinarian\\n',\n",
       " '4000603,Stephanie,Horne,60,Real estate agent\\n',\n",
       " '4000604,Carol,Burton,39,Doctor\\n',\n",
       " '4000605,Melanie,Diaz,56,Musician\\n',\n",
       " '4000606,Samantha,Berry,31,Pilot\\n',\n",
       " '4000607,Renee,Knowles,63,Judge\\n',\n",
       " '4000608,Cathy,Freeman,42,Computer hardware engineer\\n',\n",
       " '4000609,Heidi,Hernandez,71,Nurse\\n',\n",
       " '4000610,Gayle,Roach,50,Athlete\\n',\n",
       " '4000611,Rita,Hardison,29,Athlete\\n',\n",
       " '4000612,Jacob,Wolf,54,Statistician\\n',\n",
       " '4000613,Steven,Boyd,71,Physicist\\n',\n",
       " '4000614,Tracy,Caldwell,61,Electrician\\n',\n",
       " '4000615,Eva,Mann,30,Police officer\\n',\n",
       " '4000616,Lorraine,McLeod,43,Physicist\\n',\n",
       " '4000617,Willie,Stanton,63,Musician\\n',\n",
       " '4000618,Joel,Park,33,Engineering technician\\n',\n",
       " '4000619,Vanessa,Chang,63,Psychologist\\n',\n",
       " '4000620,Becky,Newton,42,Judge\\n',\n",
       " '4000621,Melinda,Phillips,28,Civil engineer\\n',\n",
       " '4000622,Harvey,Whitaker,44,Farmer\\n',\n",
       " '4000623,Lee,Pitts,40,Photographer\\n',\n",
       " '4000624,Aaron,McLean,35,Social worker\\n',\n",
       " '4000625,Jack,Barton,30,Veterinarian\\n',\n",
       " '4000626,Suzanne,Gould,67,Loan officer\\n',\n",
       " '4000627,Katherine,Atkins,69,Recreation and fitness worker\\n',\n",
       " '4000628,Robyn,Shapiro,58,Architect\\n',\n",
       " '4000629,Julia,Vincent,49,Therapist\\n',\n",
       " '4000630,Bob,Harrell,40,Electrician\\n',\n",
       " '4000631,Brooke,Boswell,66,Childcare worker\\n',\n",
       " '4000632,Janet,Lassiter,58,Financial analyst\\n',\n",
       " '4000633,Kristen,Fisher,59,Recreation and fitness worker\\n',\n",
       " '4000634,Jenny,Case,64,Agricultural and food scientist\\n',\n",
       " '4000635,Jeanette,Parsons,63,Architect\\n',\n",
       " '4000636,Megan,McPherson,46,Athlete\\n',\n",
       " '4000637,Joel,Wiley,42,Architect\\n',\n",
       " '4000638,Don,Schwartz,35,Coach\\n',\n",
       " '4000639,Florence,McFarland,23,Electrical engineer\\n',\n",
       " '4000640,Jon,Baker,53,Civil engineer\\n',\n",
       " '4000641,Annie,Holden,36,Childcare worker\\n',\n",
       " '4000642,Kent,Hartman,67,Photographer\\n',\n",
       " '4000643,Eleanor,Schwartz,56,Computer support specialist\\n',\n",
       " '4000644,Nina,Nguyen,62,Doctor\\n',\n",
       " '4000645,Clara,Houston,53,Statistician\\n',\n",
       " '4000646,Bonnie,Friedman,57,Computer hardware engineer\\n',\n",
       " '4000647,Dwight,Adcock,67,Recreation and fitness worker\\n',\n",
       " '4000648,Angela,Stephens,53,Secretary\\n',\n",
       " '4000649,Marion,McClure,35,Coach\\n',\n",
       " '4000650,Curtis,Proctor,63,Computer hardware engineer\\n',\n",
       " '4000651,Tammy,Lang,63,Musician\\n',\n",
       " '4000652,Gilbert,Berger,32,Athlete\\n',\n",
       " '4000653,Edwin,Aldridge,28,Pilot\\n',\n",
       " '4000654,Emily,Davies,34,Coach\\n',\n",
       " '4000655,Hannah,Wall,23,Librarian\\n',\n",
       " '4000656,Ronald,Miles,64,Dancer\\n',\n",
       " '4000657,Helen,Bolton,62,Librarian\\n',\n",
       " '4000658,Barbara,Morgan,53,Childcare worker\\n',\n",
       " '4000659,Milton,Fisher,29,Dancer\\n',\n",
       " '4000660,Anne,Stephens,63,Carpenter\\n',\n",
       " '4000661,Lois,Holmes,31,Photographer\\n',\n",
       " '4000662,Dorothy,Ferrell,53,Firefighter\\n',\n",
       " '4000663,Claire,Henry,29,Police officer\\n',\n",
       " '4000664,Anita,Hedrick,63,Computer software engineer\\n',\n",
       " '4000665,Ronald,Horne,74,Architect\\n',\n",
       " '4000666,Allen,Weiss,38,Computer hardware engineer\\n',\n",
       " '4000667,Zachary,Singh,66,Firefighter\\n',\n",
       " '4000668,Kyle,Blalock,70,Politician\\n',\n",
       " '4000669,Seth,Aldridge,51,Judge\\n',\n",
       " '4000670,Jeff,Ritchie,65,Photographer\\n',\n",
       " '4000671,Sandra,Grossman,50,Coach\\n',\n",
       " '4000672,Jackie,Pugh,39,Real estate agent\\n',\n",
       " '4000673,Audrey,Olson,36,Computer support specialist\\n',\n",
       " '4000674,Dana,Fernandez,39,Recreation and fitness worker\\n',\n",
       " '4000675,Hazel,Arnold,69,Veterinarian\\n',\n",
       " '4000676,Joann,Stanley,47,Computer hardware engineer\\n',\n",
       " '4000677,Audrey,Field,70,Carpenter\\n',\n",
       " '4000678,Walter,Farmer,50,Human resources assistant\\n',\n",
       " '4000679,Herbert,Jernigan,59,\\n',\n",
       " '4000680,Harold,Bowers,57,Librarian\\n',\n",
       " '4000681,Sherry,Crabtree,55,Actor\\n',\n",
       " '4000682,Jeanne,Crabtree,24,Pharmacist\\n',\n",
       " '4000683,Rick,Clements,61,Nurse\\n',\n",
       " '4000684,Kristen,Spivey,59,Chemist\\n',\n",
       " '4000685,Patrick,Archer,27,Veterinarian\\n',\n",
       " '4000686,Sherri,Owen,66,Childcare worker\\n',\n",
       " '4000687,Herbert,Strickland,74,Accountant\\n',\n",
       " '4000688,Miriam,Berg,25,Judge\\n',\n",
       " '4000689,Maurice,Gibbons,60,Coach\\n',\n",
       " '4000690,Sandy,Warner,55,Judge\\n',\n",
       " '4000691,Shannon,Bray,69,Designer\\n',\n",
       " '4000692,Bradley,Eason,39,Doctor\\n',\n",
       " '4000693,Lester,Hoover,67,Computer hardware engineer\\n',\n",
       " '4000694,Tom,Park,54,Doctor\\n',\n",
       " '4000695,Chris,Anderson,52,\\n',\n",
       " '4000696,Milton,Li,33,Doctor\\n',\n",
       " '4000697,Eugene,Elmore,31,Dancer\\n',\n",
       " '4000698,Ashley,Pearson,52,Judge\\n',\n",
       " '4000699,Lois,Harper,36,Politician\\n',\n",
       " '4000700,Annette,Chu,39,Computer support specialist\\n',\n",
       " '4000701,Jenny,Schultz,56,Computer support specialist\\n',\n",
       " '4000702,Zachary,Black,26,Childcare worker\\n',\n",
       " '4000703,Barry,Mitchell,66,Pharmacist\\n',\n",
       " '4000704,Jerome,Sharp,56,Athlete\\n',\n",
       " '4000705,Cynthia,Glover,69,Physicist\\n',\n",
       " '4000706,Marilyn,Cates,32,Automotive mechanic\\n',\n",
       " '4000707,Natalie,Martin,52,Physicist\\n',\n",
       " '4000708,Brenda,Lowry,57,Statistician\\n',\n",
       " '4000709,Marsha,Cooke,28,Photographer\\n',\n",
       " '4000710,William,Fink,44,Veterinarian\\n',\n",
       " '4000711,Gloria,Barrett,36,Farmer\\n',\n",
       " '4000712,Lester,Olson,62,Lawyer\\n',\n",
       " '4000713,Vanessa,Melton,40,Veterinarian\\n',\n",
       " '4000714,Pauline,Coley,74,Farmer\\n',\n",
       " '4000715,Hannah,Mueller,26,Artist\\n',\n",
       " '4000716,Warren,Paul,32,Politician\\n',\n",
       " '4000717,Teresa,Daniel,26,Statistician\\n',\n",
       " '4000718,Joan,Padgett,39,Agricultural and food scientist\\n',\n",
       " '4000719,Jonathan,Daniels,28,Writer\\n',\n",
       " '4000720,Denise,Hayes,34,Psychologist\\n',\n",
       " '4000721,Bobby,Hines,26,Pilot\\n',\n",
       " '4000722,Erin,Pridgen,44,Carpenter\\n',\n",
       " '4000723,Harry,Stone,64,Computer support specialist\\n',\n",
       " '4000724,Priscilla,Hayes,28,Computer support specialist\\n',\n",
       " '4000725,Renee,Harris,65,Architect\\n',\n",
       " '4000726,Bob,Walter,72,Statistician\\n',\n",
       " '4000727,Julian,Woods,40,Financial analyst\\n',\n",
       " '4000728,Annie,Jennings,35,Nurse\\n',\n",
       " '4000729,Wendy,Lopez,37,Politician\\n',\n",
       " '4000730,Bernard,McCarthy,41,Electrician\\n',\n",
       " '4000731,Alvin,Frederick,27,Recreation and fitness worker\\n',\n",
       " '4000732,Denise,Lopez,60,Veterinarian\\n',\n",
       " '4000733,Gary,Scarborough,27,Firefighter\\n',\n",
       " '4000734,Oscar,Brandt,65,Firefighter\\n',\n",
       " '4000735,Nina,Nolan,70,Librarian\\n',\n",
       " '4000736,Ann,Chandler,25,Electrician\\n',\n",
       " '4000737,Shirley,Carlton,57,Librarian\\n',\n",
       " '4000738,Joanne,Katz,60,Recreation and fitness worker\\n',\n",
       " '4000739,Patsy,Parrott,41,Therapist\\n',\n",
       " '4000740,Franklin,Corbett,75,Firefighter\\n',\n",
       " '4000741,Bradley,Godfrey,34,Photographer\\n',\n",
       " '4000742,Marguerite,Cooke,56,Computer support specialist\\n',\n",
       " '4000743,Sherri,Pate,61,Accountant\\n',\n",
       " '4000744,Dorothy,Barber,39,Firefighter\\n',\n",
       " '4000745,Brent,Fletcher,68,Photographer\\n',\n",
       " '4000746,Regina,Schroeder,34,Environmental scientist\\n',\n",
       " '4000747,Calvin,Lindsay,35,Firefighter\\n',\n",
       " '4000748,Gilbert,Boswell,37,Financial analyst\\n',\n",
       " '4000749,Wesley,Buckley,60,Nurse\\n',\n",
       " '4000750,Erika,Harmon,53,Dancer\\n',\n",
       " '4000751,Don,Walters,70,Electrical engineer\\n',\n",
       " '4000752,Ethel,Stevens,23,Designer\\n',\n",
       " '4000753,Rodney,Knight,29,Carpenter\\n',\n",
       " '4000754,Dennis,Rowland,72,Coach\\n',\n",
       " '4000755,Zachary,Lindsay,67,Agricultural and food scientist\\n',\n",
       " '4000756,Harriet,Bowling,40,Pharmacist\\n',\n",
       " '4000757,Amanda,Kirby,24,Electrician\\n',\n",
       " '4000758,Jose,Benson,65,Computer hardware engineer\\n',\n",
       " '4000759,Lynn,Anthony,43,Social worker\\n',\n",
       " '4000760,Shelley,Dunn,27,Chemist\\n',\n",
       " '4000761,Mike,Hill,51,Chemist\\n',\n",
       " '4000762,Laurence,Lang,58,Teacher\\n',\n",
       " '4000763,Amanda,Grimes,31,Physicist\\n',\n",
       " '4000764,Bernard,Bowers,38,Loan officer\\n',\n",
       " '4000765,Janice,Bowden,21,Politician\\n',\n",
       " '4000766,Hazel,Underwood,71,Agricultural and food scientist\\n',\n",
       " '4000767,Luis,Zhang,24,Pharmacist\\n',\n",
       " '4000768,Ralph,Godwin,54,Judge\\n',\n",
       " '4000769,Geraldine,Rice,53,Judge\\n',\n",
       " '4000770,Claire,Townsend,57,Financial analyst\\n',\n",
       " '4000771,Jeanne,Lin,70,Computer hardware engineer\\n',\n",
       " '4000772,Willie,Pitts,29,Actor\\n',\n",
       " '4000773,Alfred,Koch,62,Judge\\n',\n",
       " '4000774,Eddie,Callahan,43,Pilot\\n',\n",
       " '4000775,Christopher,Long,34,Environmental scientist\\n',\n",
       " '4000776,Phyllis,Norton,28,Economist\\n',\n",
       " '4000777,Peggy,Blackburn,57,Police officer\\n',\n",
       " \"4000778,Elaine,O'Connell,70,Agricultural and food scientist\\n\",\n",
       " '4000779,Jason,Bowling,21,Coach\\n',\n",
       " '4000780,Neal,Robinson,75,Artist\\n',\n",
       " '4000781,Diana,Pritchard,73,Therapist\\n',\n",
       " '4000782,Nina,Lawson,51,Loan officer\\n',\n",
       " '4000783,Maxine,Dickerson,57,Photographer\\n',\n",
       " '4000784,Ted,Livingston,70,Economist\\n',\n",
       " '4000785,Allen,Hansen,33,Secretary\\n',\n",
       " '4000786,Gordon,Berman,41,Teacher\\n',\n",
       " '4000787,Billy,Carroll,27,Librarian\\n',\n",
       " '4000788,Veronica,Kearney,38,Photographer\\n',\n",
       " '4000789,Hazel,Peterson,60,Designer\\n',\n",
       " '4000790,Eddie,Richards,40,Chemist\\n',\n",
       " '4000791,Katherine,Sutherland,25,Dancer\\n',\n",
       " '4000792,William,McCormick,64,Politician\\n',\n",
       " '4000793,Nina,Beach,48,Civil engineer\\n',\n",
       " '4000794,Ben,Wu,51,Environmental scientist\\n',\n",
       " '4000795,Frances,Hunt,33,Artist\\n',\n",
       " '4000796,Thelma,Carver,71,Teacher\\n',\n",
       " '4000797,Dennis,Anthony,56,Musician\\n',\n",
       " '4000798,Christina,Livingston,48,Police officer\\n',\n",
       " '4000799,James,Floyd,51,Accountant\\n',\n",
       " '4000800,Frederick,McCall,67,Veterinarian\\n',\n",
       " '4000801,Alfred,Haynes,36,Farmer\\n',\n",
       " '4000802,Oscar,Gunter,36,Musician\\n',\n",
       " '4000803,Joanne,Solomon,48,Doctor\\n',\n",
       " '4000804,Richard,Harris,27,Actor\\n',\n",
       " '4000805,Christine,Cline,36,Police officer\\n',\n",
       " '4000806,Theodore,McKay,33,Accountant\\n',\n",
       " '4000807,Jack,Braun,68,Financial analyst\\n',\n",
       " '4000808,Rhonda,Preston,49,Actor\\n',\n",
       " '4000809,Beth,Hayes,59,Designer\\n',\n",
       " '4000810,Douglas,Burnette,41,Secretary\\n',\n",
       " '4000811,Joe,Finch,45,Dancer\\n',\n",
       " '4000812,Sue,Levine,37,Farmer\\n',\n",
       " '4000813,Dennis,Lynch,66,Teacher\\n',\n",
       " '4000814,Sandra,Simpson,28,Social worker\\n',\n",
       " '4000815,Julie,Galloway,53,Actor\\n',\n",
       " '4000816,Henry,Dickson,51,Electrical engineer\\n',\n",
       " '4000817,Vernon,Murphy,57,Firefighter\\n',\n",
       " '4000818,Lloyd,Cannon,30,Nurse\\n',\n",
       " '4000819,Chris,Fleming,43,Social worker\\n',\n",
       " '4000820,George,Hanson,32,Pharmacist\\n',\n",
       " '4000821,Warren,Blackwell,72,Computer software engineer\\n',\n",
       " '4000822,Connie,Zimmerman,45,Computer hardware engineer\\n',\n",
       " '4000823,Theresa,Dyer,60,Veterinarian\\n',\n",
       " '4000824,Harvey,Greenberg,65,Economist\\n',\n",
       " '4000825,Janet,Quinn,49,Secretary\\n',\n",
       " '4000826,Charlene,Sullivan,72,Librarian\\n',\n",
       " '4000827,Gayle,Stanley,27,Coach\\n',\n",
       " '4000828,Julian,Hendrix,66,Electrical engineer\\n',\n",
       " '4000829,Paula,Barber,70,Nurse\\n',\n",
       " '4000830,Geraldine,High,30,Human resources assistant\\n',\n",
       " '4000831,Constance,Pickett,57,Electrical engineer\\n',\n",
       " '4000832,Brian,Copeland,72,Loan officer\\n',\n",
       " '4000833,Vivian,Beck,74,Recreation and fitness worker\\n',\n",
       " '4000834,Kim,McKenna,65,Childcare worker\\n',\n",
       " '4000835,Sarah,King,39,Reporter\\n',\n",
       " '4000836,Holly,Stone,33,Coach\\n',\n",
       " '4000837,Brett,Benton,59,Librarian\\n',\n",
       " '4000838,Frances,Boyette,37,Chemist\\n',\n",
       " '4000839,Phyllis,Byers,25,Environmental scientist\\n',\n",
       " '4000840,Gwendolyn,Cook,74,Firefighter\\n',\n",
       " '4000841,Carl,Nixon,42,Athlete\\n',\n",
       " '4000842,Marianne,Mayo,25,Coach\\n',\n",
       " '4000843,Gayle,Hardison,71,Coach\\n',\n",
       " '4000844,Jim,Marks,39,Firefighter\\n',\n",
       " '4000845,Lynda,Ball,26,Economist\\n',\n",
       " '4000846,Thomas,Kirk,53,Politician\\n',\n",
       " '4000847,Natalie,Cooke,66,Police officer\\n',\n",
       " '4000848,Brooke,Sutton,54,Psychologist\\n',\n",
       " '4000849,Darlene,Gibson,64,Childcare worker\\n',\n",
       " '4000850,Lloyd,Haynes,34,Civil engineer\\n',\n",
       " '4000851,Sherri,Klein,69,Nurse\\n',\n",
       " '4000852,Ruth,Tyson,46,Librarian\\n',\n",
       " '4000853,Vicki,Payne,73,Judge\\n',\n",
       " '4000854,Nelson,Francis,31,Computer hardware engineer\\n',\n",
       " '4000855,Courtney,Roth,59,Automotive mechanic\\n',\n",
       " '4000856,Claude,Nixon,71,Firefighter\\n',\n",
       " '4000857,Louise,Coble,38,Lawyer\\n',\n",
       " '4000858,Vivian,Walters,62,Psychologist\\n',\n",
       " '4000859,Marcia,Hewitt,63,Computer software engineer\\n',\n",
       " '4000860,Amy,Langley,30,Artist\\n',\n",
       " '4000861,Chris,Scott,58,Electrician\\n',\n",
       " '4000862,Edgar,Willis,36,Politician\\n',\n",
       " '4000863,Willie,Denton,73,Secretary\\n',\n",
       " '4000864,Renee,Daly,52,Childcare worker\\n',\n",
       " '4000865,Robyn,Lam,49,Lawyer\\n',\n",
       " '4000866,Patrick,Fox,52,Childcare worker\\n',\n",
       " '4000867,Wade,Franklin,30,Electrician\\n',\n",
       " '4000868,Courtney,McIntosh,72,Real estate agent\\n',\n",
       " '4000869,Bonnie,Tyler,30,Farmer\\n',\n",
       " '4000870,Douglas,Hanna,63,Judge\\n',\n",
       " '4000871,Neal,Davenport,62,Photographer\\n',\n",
       " '4000872,Scott,Barton,33,Photographer\\n',\n",
       " '4000873,Justin,Chambers,52,Computer support specialist\\n',\n",
       " '4000874,Debra,Thomas,74,Veterinarian\\n',\n",
       " '4000875,Norman,Arthur,26,Photographer\\n',\n",
       " '4000876,Audrey,Law,23,Physicist\\n',\n",
       " '4000877,Franklin,Coley,59,Electrician\\n',\n",
       " '4000878,Chris,Vaughn,36,Accountant\\n',\n",
       " '4000879,Bobby,Case,38,Artist\\n',\n",
       " '4000880,Karen,Reed,71,Therapist\\n',\n",
       " '4000881,Carl,Hardy,32,Recreation and fitness worker\\n',\n",
       " '4000882,Yvonne,Beatty,43,Real estate agent\\n',\n",
       " '4000883,Henry,Dale,71,Veterinarian\\n',\n",
       " '4000884,Danielle,Russell,54,Pharmacist\\n',\n",
       " '4000885,Allison,Whitley,74,Carpenter\\n',\n",
       " '4000886,Guy,Curry,48,Lawyer\\n',\n",
       " '4000887,Caroline,McNeill,33,Accountant\\n',\n",
       " '4000888,Tammy,Franklin,58,Dancer\\n',\n",
       " '4000889,Caroline,Lindsay,43,Loan officer\\n',\n",
       " '4000890,Hannah,Casey,30,\\n',\n",
       " '4000891,Sharon,Meadows,54,Teacher\\n',\n",
       " '4000892,Ricky,Casey,64,Athlete\\n',\n",
       " '4000893,Gene,Love,59,Pilot\\n',\n",
       " '4000894,Frances,Fitzpatrick,53,Athlete\\n',\n",
       " '4000895,Sean,Mann,44,Nurse\\n',\n",
       " '4000896,Florence,Knowles,66,Secretary\\n',\n",
       " '4000897,Thelma,Hale,22,Real estate agent\\n',\n",
       " '4000898,Christian,Carlson,70,Athlete\\n',\n",
       " '4000899,Jordan,Barefoot,66,Environmental scientist\\n',\n",
       " '4000900,Jessica,Warren,61,Real estate agent\\n',\n",
       " '4000901,Lynne,Nelson,66,Actor\\n',\n",
       " '4000902,Anita,Lancaster,49,Human resources assistant\\n',\n",
       " '4000903,Jill,Kay,59,Reporter\\n',\n",
       " '4000904,Nathan,Burgess,47,Librarian\\n',\n",
       " '4000905,Brenda,Fitzpatrick,60,Photographer\\n',\n",
       " '4000906,Kathleen,Davies,40,Real estate agent\\n',\n",
       " '4000907,Randall,Moran,46,Musician\\n',\n",
       " '4000908,Carole,Ashley,59,Veterinarian\\n',\n",
       " '4000909,Penny,Caldwell,67,Musician\\n',\n",
       " '4000910,Megan,Kelley,69,Childcare worker\\n',\n",
       " '4000911,Cynthia,Mack,64,Athlete\\n',\n",
       " '4000912,Maria,Reilly,64,Pilot\\n',\n",
       " '4000913,Lucy,Copeland,36,Police officer\\n',\n",
       " '4000914,Sheryl,Love,64,Human resources assistant\\n',\n",
       " '4000915,Lucille,Conrad,64,Therapist\\n',\n",
       " '4000916,Warren,Padgett,55,Pharmacist\\n',\n",
       " '4000917,Gary,Poole,35,Artist\\n',\n",
       " '4000918,Leah,McKinney,64,Reporter\\n',\n",
       " '4000919,Lewis,Sawyer,31,Agricultural and food scientist\\n',\n",
       " '4000920,Guy,Dalton,69,Computer hardware engineer\\n',\n",
       " '4000921,Maria,Carey,37,Pharmacist\\n',\n",
       " '4000922,Maria,Stuart,35,Pilot\\n',\n",
       " '4000923,Maureen,Bowles,37,Social worker\\n',\n",
       " '4000924,Gina,Singleton,32,Environmental scientist\\n',\n",
       " '4000925,Todd,Britt,62,Environmental scientist\\n',\n",
       " '4000926,Katherine,Owens,46,Electrician\\n',\n",
       " '4000927,Lillian,Davenport,44,Teacher\\n',\n",
       " '4000928,Jennifer,Cox,36,Police officer\\n',\n",
       " '4000929,Jeff,Barton,49,Pharmacist\\n',\n",
       " '4000930,Jerome,Cooke,60,Architect\\n',\n",
       " '4000931,Greg,Tilley,58,Computer support specialist\\n',\n",
       " '4000932,Stacy,Pugh,57,Human resources assistant\\n',\n",
       " '4000933,Joel,Schultz,72,Financial analyst\\n',\n",
       " '4000934,Shannon,Connor,29,Reporter\\n',\n",
       " '4000935,Oscar,Herbert,35,Environmental scientist\\n',\n",
       " '4000936,Tina,Aycock,71,Physicist\\n',\n",
       " '4000937,Randy,Barry,60,Physicist\\n',\n",
       " '4000938,Claire,Bishop,22,Lawyer\\n',\n",
       " '4000939,Tony,Garrett,61,Firefighter\\n',\n",
       " '4000940,Sidney,Bailey,45,Agricultural and food scientist\\n',\n",
       " '4000941,Tracy,Riddle,60,Designer\\n',\n",
       " '4000942,Anna,Sawyer,73,Librarian\\n',\n",
       " '4000943,Luis,Burnett,72,Firefighter\\n',\n",
       " '4000944,Mary,Boyette,59,\\n',\n",
       " '4000945,Alfred,McKenzie,30,Doctor\\n',\n",
       " '4000946,Dianne,Sinclair,59,Electrician\\n',\n",
       " '4000947,Keith,Cannon,36,Politician\\n',\n",
       " '4000948,Leah,Freeman,59,Actor\\n',\n",
       " '4000949,Marc,Wallace,65,Musician\\n',\n",
       " '4000950,Vickie,Gilbert,29,Physicist\\n',\n",
       " '4000951,Ross,McNamara,42,Librarian\\n',\n",
       " '4000952,Roy,Mullen,51,Recreation and fitness worker\\n',\n",
       " '4000953,Judy,Bradshaw,28,Psychologist\\n',\n",
       " '4000954,Kimberly,Hinson,56,Engineering technician\\n',\n",
       " '4000955,Helen,Jordan,34,Recreation and fitness worker\\n',\n",
       " '4000956,Greg,Berger,27,Physicist\\n',\n",
       " '4000957,Tracey,Upchurch,35,Environmental scientist\\n',\n",
       " '4000958,Danny,Bowers,72,Pilot\\n',\n",
       " '4000959,Christy,Allison,69,Dancer\\n',\n",
       " '4000960,Dorothy,Alexander,67,Lawyer\\n',\n",
       " '4000961,Charles,Coley,72,Designer\\n',\n",
       " '4000962,Malcolm,Riley,63,Financial analyst\\n',\n",
       " \"4000963,Emily,O'Brien,56,Childcare worker\\n\",\n",
       " '4000964,Randall,Vaughan,30,Doctor\\n',\n",
       " '4000965,Stacey,Hartman,62,Designer\\n',\n",
       " '4000966,Gene,Chung,71,Economist\\n',\n",
       " '4000967,Bob,Fischer,71,Automotive mechanic\\n',\n",
       " '4000968,Regina,Sellers,42,Politician\\n',\n",
       " '4000969,Jeanette,Montgomery,26,Reporter\\n',\n",
       " '4000970,Judith,Snow,29,Politician\\n',\n",
       " '4000971,Megan,McKnight,32,Physicist\\n',\n",
       " '4000972,Betsy,McMahon,60,Designer\\n',\n",
       " '4000973,Chris,Chu,26,Judge\\n',\n",
       " '4000974,Cheryl,Crews,72,Accountant\\n',\n",
       " '4000975,Vickie,Sharma,53,Statistician\\n',\n",
       " '4000976,Marion,Puckett,32,Real estate agent\\n',\n",
       " '4000977,Katharine,Pappas,73,Doctor\\n',\n",
       " '4000978,Neil,Sharpe,74,Police officer\\n',\n",
       " '4000979,Eileen,Olson,51,Judge\\n',\n",
       " '4000980,Lester,Desai,34,Librarian\\n',\n",
       " '4000981,Suzanne,Bowden,71,Musician\\n',\n",
       " '4000982,Teresa,Hardy,41,Physicist\\n',\n",
       " '4000983,Edgar,Stuart,44,Pilot\\n',\n",
       " '4000984,Ann,Branch,75,Computer hardware engineer\\n',\n",
       " '4000985,Anna,Harrell,41,Secretary\\n',\n",
       " '4000986,Jeanette,Bowman,54,Firefighter\\n',\n",
       " '4000987,Christina,Hubbard,25,Financial analyst\\n',\n",
       " '4000988,Marcus,Nash,55,Nurse\\n',\n",
       " '4000989,Tara,Wolfe,60,Artist\\n',\n",
       " '4000990,Guy,Warren,40,Loan officer\\n',\n",
       " '4000991,Albert,Brock,41,Actor\\n',\n",
       " '4000992,Mark,Clarke,47,Photographer\\n',\n",
       " '4000993,Dean,Leach,29,Pharmacist\\n',\n",
       " '4000994,Tracy,Raynor,59,Electrical engineer\\n',\n",
       " '4000995,Courtney,Hardy,33,Electrical engineer\\n',\n",
       " '4000996,Martin,Stephens,29,Secretary\\n',\n",
       " '4000997,Martin,Hester,31,Lawyer\\n',\n",
       " '4000998,Marian,Murphy,32,Physicist\\n',\n",
       " '4000999,Elsie,Capps,74,Human resources assistant\\n',\n",
       " '4001000,Kim,McCormick,23,Lawyer\\n',\n",
       " ...]"
      ]
     },
     "execution_count": 3,
     "metadata": {},
     "output_type": "execute_result"
    }
   ],
   "source": [
    "data"
   ]
  },
  {
   "cell_type": "code",
   "execution_count": 4,
   "metadata": {},
   "outputs": [
    {
     "data": {
      "text/plain": [
       "9999"
      ]
     },
     "execution_count": 4,
     "metadata": {},
     "output_type": "execute_result"
    }
   ],
   "source": [
    "len(data)"
   ]
  },
  {
   "cell_type": "markdown",
   "metadata": {},
   "source": [
    "###### Ex. Write a function to clean the data"
   ]
  },
  {
   "cell_type": "code",
   "execution_count": 8,
   "metadata": {},
   "outputs": [],
   "source": [
    "def clean_data(strg) :\n",
    "    lst = strg.strip().split(\",\")\n",
    "    lst[3] = int(lst[3])\n",
    "    return lst"
   ]
  },
  {
   "cell_type": "markdown",
   "metadata": {},
   "source": [
    "###### Ex. Apply the function to all the rows of data"
   ]
  },
  {
   "cell_type": "code",
   "execution_count": 10,
   "metadata": {},
   "outputs": [
    {
     "data": {
      "text/plain": [
       "[['4000001', 'Kristina', 'Chung', 55, 'Pilot'],\n",
       " ['4000002', 'Paige', 'Chen', 74, 'Teacher'],\n",
       " ['4000003', 'Sherri', 'Melton', 34, 'Firefighter']]"
      ]
     },
     "execution_count": 10,
     "metadata": {},
     "output_type": "execute_result"
    }
   ],
   "source": [
    "customers = list(map(clean_data, data))  # List of lists\n",
    "customers[:3]"
   ]
  },
  {
   "cell_type": "markdown",
   "metadata": {},
   "source": [
    "###### Ex. Extract data for all Pilots"
   ]
  },
  {
   "cell_type": "code",
   "execution_count": 13,
   "metadata": {},
   "outputs": [
    {
     "data": {
      "text/plain": [
       "209"
      ]
     },
     "execution_count": 13,
     "metadata": {},
     "output_type": "execute_result"
    }
   ],
   "source": [
    "pilots = list(filter(lambda cust : cust[4] == \"Pilot\", customers))\n",
    "len(pilots)"
   ]
  },
  {
   "cell_type": "markdown",
   "metadata": {},
   "source": [
    "###### Ex. Extract all senor citizens in the data"
   ]
  },
  {
   "cell_type": "code",
   "execution_count": 15,
   "metadata": {},
   "outputs": [
    {
     "data": {
      "text/plain": [
       "2840"
      ]
     },
     "execution_count": 15,
     "metadata": {},
     "output_type": "execute_result"
    }
   ],
   "source": [
    "seniors = list(filter(lambda cust : cust[3] > 60, customers))\n",
    "len(seniors)"
   ]
  },
  {
   "cell_type": "markdown",
   "metadata": {},
   "source": [
    "#### Object Oriented Programming Features - \n",
    "\n",
    "1. Classe and Object\n",
    "2. Constructor - __init__(self)\n",
    "3. self - represent current instance\n",
    "4. instance variables - belongs to each object\n",
    "5. methods - algorithms to work on the instance\n",
    "6. overriding built-in methods - __str__(), __repr__(), __lt__()"
   ]
  },
  {
   "cell_type": "markdown",
   "metadata": {},
   "source": [
    "###### Ex. Create a list of customer objects"
   ]
  },
  {
   "cell_type": "code",
   "execution_count": 57,
   "metadata": {},
   "outputs": [
    {
     "data": {
      "text/plain": [
       "[Kristina Chung(55), Paige Chen(74), Sherri Melton(34)]"
      ]
     },
     "execution_count": 57,
     "metadata": {},
     "output_type": "execute_result"
    }
   ],
   "source": [
    "class Customer :  # Class definition\n",
    "    def __init__(self, cid, fname, lname, age, prof):  # Constructor of class, parameters - local variables\n",
    "        self.cid = cid  # instance variable\n",
    "        self.name = fname + \" \" + lname\n",
    "        self.age = int(age)\n",
    "        self.profession = prof\n",
    "\n",
    "    def age_groups(self) :\n",
    "        if self.age <35 :\n",
    "            return \"Group A\"\n",
    "        elif self.age < 60 :\n",
    "            return \"Group B\"\n",
    "        else:\n",
    "            return \"Group C\"\n",
    "\n",
    "    def __repr__(self):  # will be called when print the data directly\n",
    "        return f\"{self.name}({self.age})\"\n",
    "\n",
    "    def __str__(self):  # print(), str() will trigger __str__()\n",
    "        return self.cid\n",
    "\n",
    "    def __lt__(self, obj) :\n",
    "        return self.age < obj.age\n",
    "\n",
    "def clean_data(strg) :\n",
    "    lst = strg.strip().split(\",\")\n",
    "    cust = Customer(*lst)\n",
    "    return cust\n",
    "\n",
    "customers = list(map(clean_data, data))  # List of lists\n",
    "customers[:3]"
   ]
  },
  {
   "cell_type": "code",
   "execution_count": 58,
   "metadata": {},
   "outputs": [
    {
     "data": {
      "text/plain": [
       "209"
      ]
     },
     "execution_count": 58,
     "metadata": {},
     "output_type": "execute_result"
    }
   ],
   "source": [
    "pilots = list(filter(lambda cust : cust.profession == \"Pilot\", customers))\n",
    "len(pilots)"
   ]
  },
  {
   "cell_type": "code",
   "execution_count": 59,
   "metadata": {},
   "outputs": [
    {
     "data": {
      "text/plain": [
       "2840"
      ]
     },
     "execution_count": 59,
     "metadata": {},
     "output_type": "execute_result"
    }
   ],
   "source": [
    "seniors = list(filter(lambda cust : cust.age > 60, customers))\n",
    "len(seniors)"
   ]
  },
  {
   "cell_type": "code",
   "execution_count": 60,
   "metadata": {},
   "outputs": [
    {
     "data": {
      "text/plain": [
       "'Group C'"
      ]
     },
     "execution_count": 60,
     "metadata": {},
     "output_type": "execute_result"
    }
   ],
   "source": [
    "customers[4].age_groups()"
   ]
  },
  {
   "cell_type": "code",
   "execution_count": 61,
   "metadata": {},
   "outputs": [
    {
     "data": {
      "text/plain": [
       "74"
      ]
     },
     "execution_count": 61,
     "metadata": {},
     "output_type": "execute_result"
    }
   ],
   "source": [
    "customers[4].age"
   ]
  },
  {
   "cell_type": "code",
   "execution_count": 62,
   "metadata": {},
   "outputs": [
    {
     "data": {
      "text/plain": [
       "Karen Puckett(74)"
      ]
     },
     "execution_count": 62,
     "metadata": {},
     "output_type": "execute_result"
    }
   ],
   "source": [
    "customers[4]  # triggers __repr__()"
   ]
  },
  {
   "cell_type": "code",
   "execution_count": 48,
   "metadata": {},
   "outputs": [
    {
     "data": {
      "text/plain": [
       "'4000005'"
      ]
     },
     "execution_count": 48,
     "metadata": {},
     "output_type": "execute_result"
    }
   ],
   "source": [
    "str(customers[4])  # triggers __str__()"
   ]
  },
  {
   "cell_type": "markdown",
   "metadata": {},
   "source": [
    "###### Ex. Sort the customers by their age"
   ]
  },
  {
   "cell_type": "code",
   "execution_count": 54,
   "metadata": {},
   "outputs": [
    {
     "data": {
      "text/plain": [
       "[Shirley Merritt(21),\n",
       " Kristin Alexander(21),\n",
       " Gail Whitehead(21),\n",
       " Donna Rice(21),\n",
       " Russell Dalton(21),\n",
       " Russell Hess(21),\n",
       " Peter Guthrie(21),\n",
       " Janice Bowden(21),\n",
       " Jason Bowling(21),\n",
       " Ian Hodges(21),\n",
       " Toni Byers(21),\n",
       " Edwin Ball(21),\n",
       " Brandon Nance(21),\n",
       " Lindsay Reynolds(21),\n",
       " Paige Wolfe(21),\n",
       " Nina Humphrey(21),\n",
       " Derek Foster(21),\n",
       " Penny Lu(21),\n",
       " Vanessa Franklin(21),\n",
       " Carole Rogers(21),\n",
       " Kristine Brown(21),\n",
       " Gilbert Ball(21),\n",
       " Charlene Snow(21),\n",
       " Stephanie Levine(21),\n",
       " Edwin Lim(21),\n",
       " Erin Marsh(21),\n",
       " Barry Bowles(21),\n",
       " Russell Huang(21),\n",
       " Valerie Smith(21),\n",
       " Paula Jiang(21),\n",
       " Stacey Stroud(21),\n",
       " Greg Michael(21),\n",
       " Bruce Werner(21),\n",
       " Yvonne Andrews(21),\n",
       " Stanley Frost(21),\n",
       " Derek Dudley(21),\n",
       " Henry Bond(21),\n",
       " Carol Weaver(21),\n",
       " Tommy Parrott(21),\n",
       " Bernard Kerr(21),\n",
       " Jonathan Wolf(21),\n",
       " Tara Hess(21),\n",
       " Terry Palmer(21),\n",
       " Annette Lane(21),\n",
       " Leigh Doyle(21),\n",
       " Michele Vick(21),\n",
       " Elisabeth Bowers(21),\n",
       " Maureen Oliver(21),\n",
       " Steven Chu(21),\n",
       " Kevin Blackburn(21),\n",
       " Jay Stephenson(21),\n",
       " Edgar Jackson(21),\n",
       " Emma Paul(21),\n",
       " Brett Matthews(21),\n",
       " Maureen Fischer(21),\n",
       " Lois Dyer(21),\n",
       " Vanessa Yu(21),\n",
       " Paula Lang(21),\n",
       " Marjorie Poe(21),\n",
       " Toni Maxwell(21),\n",
       " Glenda Manning(21),\n",
       " Beth Oakley(21),\n",
       " Pam Adcock(21),\n",
       " Grace Parrish(21),\n",
       " Brent Strickland(21),\n",
       " Seth Roach(21),\n",
       " Frank Hendrix(21),\n",
       " Dan Carson(21),\n",
       " Valerie Kent(21),\n",
       " Laurence Stevens(21),\n",
       " Howard Abrams(21),\n",
       " Cecil Lynn(21),\n",
       " Katie Connor(21),\n",
       " Rebecca Abrams(21),\n",
       " Brooke Harvey(21),\n",
       " Vicki Randall(21),\n",
       " Eddie Potter(21),\n",
       " Chris Barbee(21),\n",
       " Yvonne Burnett(21),\n",
       " Dana McKay(21),\n",
       " Jenny Stokes(21),\n",
       " Vernon Shapiro(21),\n",
       " Stacy Barton(21),\n",
       " Bonnie Stephens(21),\n",
       " Holly Koch(21),\n",
       " Wanda Byrne(21),\n",
       " Geraldine Yu(21),\n",
       " Edith Siegel(21),\n",
       " Sandy Jacobs(21),\n",
       " Peggy Russell(21),\n",
       " Jerry Simon(21),\n",
       " Megan Hamrick(21),\n",
       " Joshua Daniel(21),\n",
       " Robyn Lyon(21),\n",
       " Edwin Williamson(21),\n",
       " John Eason(21),\n",
       " Sarah Cochran(21),\n",
       " Debra Park(21),\n",
       " Nicole Church(21),\n",
       " Charles Porter(21),\n",
       " Kyle Sigmon(21),\n",
       " Priscilla Freeman(21),\n",
       " Leo Rankin(21),\n",
       " Jennifer Kirk(21),\n",
       " Lorraine Beck(21),\n",
       " Jay Becker(21),\n",
       " Leigh Edwards(21),\n",
       " Gordon House(21),\n",
       " Karl Adams(21),\n",
       " Herbert Jones(21),\n",
       " Jill Barnes(21),\n",
       " Emma Ball(21),\n",
       " Geraldine Mitchell(21),\n",
       " Stacey Rouse(21),\n",
       " Judith Cooper(22),\n",
       " Vincent Goldman(22),\n",
       " Brett Snyder(22),\n",
       " Leon Bender(22),\n",
       " Virginia Turner(22),\n",
       " Kristin Drake(22),\n",
       " Danielle Smith(22),\n",
       " Thelma Hale(22),\n",
       " Claire Bishop(22),\n",
       " Holly Hardy(22),\n",
       " Faye Moon(22),\n",
       " Heather Levy(22),\n",
       " Eugene Shah(22),\n",
       " Rodney Cook(22),\n",
       " Allison Adams(22),\n",
       " Dorothy Bell(22),\n",
       " Larry Lamm(22),\n",
       " Juan Andrews(22),\n",
       " Tracy Gillespie(22),\n",
       " Peggy Kramer(22),\n",
       " Rosemary Boyle(22),\n",
       " Johnny Gibbons(22),\n",
       " Linda Dolan(22),\n",
       " Julia Case(22),\n",
       " Cecil Conner(22),\n",
       " Natalie Silver(22),\n",
       " Frank Marcus(22),\n",
       " Marlene Davenport(22),\n",
       " Tara McLaughlin(22),\n",
       " Michelle Stern(22),\n",
       " Thelma Sherman(22),\n",
       " Anna Bruce(22),\n",
       " Annie Pugh(22),\n",
       " Andrew McAllister(22),\n",
       " Frederick Case(22),\n",
       " Douglas McNeill(22),\n",
       " Kathleen Chen(22),\n",
       " Christine Klein(22),\n",
       " Cynthia Barr(22),\n",
       " Gail Andrews(22),\n",
       " Theodore Cole(22),\n",
       " Phyllis Cobb(22),\n",
       " Claire Craven(22),\n",
       " Kristin George(22),\n",
       " Florence Chambers(22),\n",
       " Alex Leach(22),\n",
       " Jessie Barber(22),\n",
       " Sharon Merrill(22),\n",
       " Lindsay Aldridge(22),\n",
       " Ryan Kirby(22),\n",
       " Tim Wagner(22),\n",
       " Max Schultz(22),\n",
       " Marian Parrott(22),\n",
       " Keith Joyce(22),\n",
       " Guy Church(22),\n",
       " Annette Hahn(22),\n",
       " Marguerite Bunn(22),\n",
       " Lynn Barnes(22),\n",
       " Nelson Honeycutt(22),\n",
       " Leslie Pugh(22),\n",
       " Stacy May(22),\n",
       " Lloyd Henson(22),\n",
       " Meredith Pittman(22),\n",
       " Laura Carey(22),\n",
       " Jeanne Conway(22),\n",
       " Lauren Keith(22),\n",
       " Emily Mitchell(22),\n",
       " Bill Elmore(22),\n",
       " Daniel Archer(22),\n",
       " Jill Singleton(22),\n",
       " Leslie Ross(22),\n",
       " Wanda Schneider(22),\n",
       " Danny Barrett(22),\n",
       " Neil Gold(22),\n",
       " Michael Nichols(22),\n",
       " Carmen Hartman(22),\n",
       " Don Ayers(22),\n",
       " Claudia Sims(22),\n",
       " Karen Kennedy(22),\n",
       " Benjamin Moody(22),\n",
       " Rebecca Gardner(22),\n",
       " Jesse Kerr(22),\n",
       " Ron Gallagher(22),\n",
       " Timothy Jacobson(22),\n",
       " Greg Anderson(22),\n",
       " Paula Sparks(22),\n",
       " George Kendall(22),\n",
       " Harriet Wade(22),\n",
       " Christine Barrett(22),\n",
       " Peter Perez(22),\n",
       " Tara Duke(22),\n",
       " Peggy Langley(22),\n",
       " Joshua Blanton(22),\n",
       " Ruth Lloyd(22),\n",
       " Katharine Powell(22),\n",
       " Edgar Alexander(22),\n",
       " Norma Everett(22),\n",
       " Marion Buchanan(22),\n",
       " Lauren Dickerson(22),\n",
       " Yvonne Waters(22),\n",
       " Roger Hanna(23),\n",
       " Milton Starr(23),\n",
       " Ted Weinstein(23),\n",
       " Allison Choi(23),\n",
       " Florence McFarland(23),\n",
       " Hannah Wall(23),\n",
       " Ethel Stevens(23),\n",
       " Audrey Law(23),\n",
       " Kim McCormick(23),\n",
       " Regina Gregory(23),\n",
       " Cecil Bruce(23),\n",
       " Laurie Porter(23),\n",
       " Robyn Keith(23),\n",
       " Dan Goldman(23),\n",
       " Bruce Kaufman(23),\n",
       " Elisabeth Carroll(23),\n",
       " Marie Mack(23),\n",
       " Donna Dudley(23),\n",
       " Cynthia Forbes(23),\n",
       " Holly Solomon(23),\n",
       " Harriet McLeod(23),\n",
       " Bryan Howell(23),\n",
       " Randall Byrne(23),\n",
       " Sean Oakley(23),\n",
       " Sally Myers(23),\n",
       " Kevin Snow(23),\n",
       " Kim Bolton(23),\n",
       " Angela Alexander(23),\n",
       " Toni Dickerson(23),\n",
       " Kenneth Gorman(23),\n",
       " Joyce Godfrey(23),\n",
       " Meredith Wu(23),\n",
       " Phyllis Duffy(23),\n",
       " Jim Anthony(23),\n",
       " Harold Webb(23),\n",
       " Catherine Wiggins(23),\n",
       " Pamela Huang(23),\n",
       " Allan Bond(23),\n",
       " Lucy Bowers(23),\n",
       " Brian Jernigan(23),\n",
       " Molly Browning(23),\n",
       " Tara Bowers(23),\n",
       " Christine Ballard(23),\n",
       " Cheryl Lutz(23),\n",
       " Joel Donnelly(23),\n",
       " Peter Rice(23),\n",
       " Gail Best(23),\n",
       " Ryan Swanson(23),\n",
       " Glenda Kessler(23),\n",
       " Seth Cochran(23),\n",
       " Toni Guthrie(23),\n",
       " Kathleen Lindsay(23),\n",
       " Don Hall(23),\n",
       " Kent Simmons(23),\n",
       " Jeffrey Holden(23),\n",
       " Evan Wise(23),\n",
       " Susan Keith(23),\n",
       " Eileen Miller(23),\n",
       " Sally Stephens(23),\n",
       " Wayne Marsh(23),\n",
       " Pat McDowell(23),\n",
       " Edward Bauer(23),\n",
       " Paul O'Connor(23),\n",
       " James Rhodes(23),\n",
       " Penny Lloyd(23),\n",
       " Kerry Mitchell(23),\n",
       " Edith Bloom(23),\n",
       " Toni Currie(23),\n",
       " Alvin Lambert(23),\n",
       " Marguerite Jones(23),\n",
       " Kerry Tan(23),\n",
       " Albert Higgins(23),\n",
       " Greg Beard(23),\n",
       " Tamara Cain(23),\n",
       " Jason McFarland(23),\n",
       " Timothy Norris(23),\n",
       " Jonathan Pearson(23),\n",
       " Sheryl Yu(23),\n",
       " Charlie O'Donnell(23),\n",
       " Malcolm Camp(23),\n",
       " Scott Larson(23),\n",
       " Kathy Forbes(23),\n",
       " Seth Hedrick(23),\n",
       " Erika Francis(23),\n",
       " Jamie Townsend(23),\n",
       " Samantha Gross(23),\n",
       " Lee Weber(23),\n",
       " Joe Vogel(23),\n",
       " Sarah West(23),\n",
       " Scott McGuire(23),\n",
       " Brenda Knox(23),\n",
       " Christian Silver(23),\n",
       " Wesley McKay(23),\n",
       " Tammy Blackburn(23),\n",
       " Eleanor Warren(23),\n",
       " Miriam Hanson(23),\n",
       " Nina McMillan(23),\n",
       " Ray Underwood(23),\n",
       " Rita Holder(23),\n",
       " Phillip Carey(23),\n",
       " Donna Hale(23),\n",
       " Cheryl Chan(23),\n",
       " Jimmy Heller(23),\n",
       " Erin McKenzie(23),\n",
       " Terri Gibbs(23),\n",
       " Doris Simpson(23),\n",
       " Kimberly Wang(23),\n",
       " Frederick Wagner(23),\n",
       " Gretchen Goldstein(24),\n",
       " Natalie Walton(24),\n",
       " Leon Pearson(24),\n",
       " Ashley Houston(24),\n",
       " Jeanne Crabtree(24),\n",
       " Amanda Kirby(24),\n",
       " Luis Zhang(24),\n",
       " Clyde Howe(24),\n",
       " Ellen Chappell(24),\n",
       " Tiffany Cannon(24),\n",
       " Molly Farmer(24),\n",
       " Kate Langley(24),\n",
       " Melanie Melton(24),\n",
       " Derek Riley(24),\n",
       " Marcia Sparks(24),\n",
       " Jimmy Schroeder(24),\n",
       " Molly Strauss(24),\n",
       " Henry Potter(24),\n",
       " Phyllis Mercer(24),\n",
       " Stacey Kaufman(24),\n",
       " Juanita Cox(24),\n",
       " Nelson Lyons(24),\n",
       " Paul Lester(24),\n",
       " Glenn Martin(24),\n",
       " Tracy Proctor(24),\n",
       " Bob Jacobs(24),\n",
       " Marsha Cash(24),\n",
       " Ray Lam(24),\n",
       " Sherry Adcock(24),\n",
       " Jay Chase(24),\n",
       " Daniel Pittman(24),\n",
       " Ernest Sawyer(24),\n",
       " Joe Feldman(24),\n",
       " Susan Hardy(24),\n",
       " Ashley Christian(24),\n",
       " Edward Mueller(24),\n",
       " Kyle Tyson(24),\n",
       " Glen Wood(24),\n",
       " Lester Hodges(24),\n",
       " Nicole Tan(24),\n",
       " Sean Pickett(24),\n",
       " Neil Hull(24),\n",
       " Clara Gibson(24),\n",
       " Evan Rosenthal(24),\n",
       " Joann Coble(24),\n",
       " Shelley Melvin(24),\n",
       " Jane Roberts(24),\n",
       " Vicki Carver(24),\n",
       " Evelyn Rhodes(24),\n",
       " Jessie McLean(24),\n",
       " Katherine Hewitt(24),\n",
       " Tony Adams(24),\n",
       " Martha Hewitt(24),\n",
       " Sean Bernstein(24),\n",
       " Paula Atkins(24),\n",
       " Linda Wilkerson(24),\n",
       " Dorothy Beach(24),\n",
       " Carole Jordan(24),\n",
       " Carlos Davies(24),\n",
       " Sheryl Bradford(24),\n",
       " Brent Allison(24),\n",
       " Katie Kerr(24),\n",
       " Timothy Davies(24),\n",
       " Thomas Braun(24),\n",
       " Patricia Ferrell(24),\n",
       " Frances Hanna(24),\n",
       " Gregory Schneider(24),\n",
       " Emily Bland(24),\n",
       " Joanna McKee(24),\n",
       " Vicki Parsons(24),\n",
       " Becky Bailey(24),\n",
       " Caroline Spears(24),\n",
       " Paige Rollins(24),\n",
       " Deborah Shelton(24),\n",
       " Melanie Butler(24),\n",
       " Michelle Bradshaw(24),\n",
       " Laurie Herbert(24),\n",
       " Ruby Sawyer(24),\n",
       " Danny Barber(24),\n",
       " Christine Gunter(24),\n",
       " Colleen Cannon(24),\n",
       " Carlos Greenberg(24),\n",
       " Jenny Bland(24),\n",
       " Albert Ellis(24),\n",
       " Leah Kinney(24),\n",
       " Todd Clark(24),\n",
       " Clifford Wooten(24),\n",
       " Priscilla Reed(24),\n",
       " Leo Pratt(24),\n",
       " Louise Talley(24),\n",
       " Elisabeth Lewis(24),\n",
       " Ronald Wallace(24),\n",
       " Don Doyle(24),\n",
       " Stephen Wilkinson(24),\n",
       " Bruce Case(24),\n",
       " Esther Pickett(24),\n",
       " Gordon Morrison(24),\n",
       " Christian Yates(24),\n",
       " Jim Burnette(24),\n",
       " Harriet Sloan(24),\n",
       " Monica Wright(24),\n",
       " Judy Barr(24),\n",
       " Erika Boyle(24),\n",
       " Jack Walsh(24),\n",
       " Tonya Gill(24),\n",
       " Max Porter(24),\n",
       " Joe Whitley(24),\n",
       " Kurt Levine(24),\n",
       " Anthony Hutchinson(24),\n",
       " Debbie Sharma(24),\n",
       " Shelley Weeks(25),\n",
       " Stacy Olsen(25),\n",
       " Keith Chandler(25),\n",
       " Tamara Hunt(25),\n",
       " Mary Cochran(25),\n",
       " Hannah Langston(25),\n",
       " Edwin Curtis(25),\n",
       " Allison Norman(25),\n",
       " Clyde Kenney(25),\n",
       " Kyle Bolton(25),\n",
       " Ben Puckett(25),\n",
       " Miriam Berg(25),\n",
       " Ann Chandler(25),\n",
       " Katherine Sutherland(25),\n",
       " Phyllis Byers(25),\n",
       " Marianne Mayo(25),\n",
       " Christina Hubbard(25),\n",
       " Annie Lucas(25),\n",
       " Samuel Goodwin(25),\n",
       " Debbie Chappell(25),\n",
       " Patrick Padgett(25),\n",
       " Vickie Stephens(25),\n",
       " Alice Garrett(25),\n",
       " Gerald Walsh(25),\n",
       " Scott Donnelly(25),\n",
       " Frank Fleming(25),\n",
       " Vicki Gould(25),\n",
       " Jeff Hunt(25),\n",
       " Charlie Glover(25),\n",
       " Samantha Conrad(25),\n",
       " William Sherrill(25),\n",
       " Chris Cochran(25),\n",
       " James Cochran(25),\n",
       " Gladys Dorsey(25),\n",
       " Steven Townsend(25),\n",
       " Janice McMahon(25),\n",
       " Charlotte Meyer(25),\n",
       " Victor Capps(25),\n",
       " Shirley Hansen(25),\n",
       " Crystal Martinez(25),\n",
       " Sharon Cooper(25),\n",
       " Maria Avery(25),\n",
       " Zachary Long(25),\n",
       " Carrie Hardin(25),\n",
       " Jennifer Hobbs(25),\n",
       " Jordan Giles(25),\n",
       " Marsha Pollard(25),\n",
       " Ruth Clark(25),\n",
       " John Archer(25),\n",
       " Julie Bloom(25),\n",
       " Kathy Thomson(25),\n",
       " Teresa Kay(25),\n",
       " Kara Simmons(25),\n",
       " Thelma Byers(25),\n",
       " Jonathan Yang(25),\n",
       " Lindsay Norton(25),\n",
       " Jackie Desai(25),\n",
       " Lorraine Jensen(25),\n",
       " Lillian Walton(25),\n",
       " Lynne Stokes(25),\n",
       " Shawn Buckley(25),\n",
       " Louis Haas(25),\n",
       " Glen Baldwin(25),\n",
       " Benjamin Wood(25),\n",
       " Katharine Hall(25),\n",
       " Bonnie Washington(25),\n",
       " Dolores Benton(25),\n",
       " Gloria Henson(25),\n",
       " Alan Boyle(25),\n",
       " Edward Russell(25),\n",
       " Deborah Byrd(25),\n",
       " Nicholas Peele(25),\n",
       " Jacqueline Wilkerson(25),\n",
       " Edna Strauss(25),\n",
       " Suzanne Maxwell(25),\n",
       " Vincent Jernigan(25),\n",
       " Mary Stevens(25),\n",
       " Marian Wang(25),\n",
       " Louise Short(25),\n",
       " Raymond Schwarz(25),\n",
       " Luis Everett(25),\n",
       " Florence Wright(25),\n",
       " Billy Wang(25),\n",
       " Milton Sweeney(25),\n",
       " Marjorie Fitzgerald(25),\n",
       " Roger Watts(25),\n",
       " Gretchen Ayers(25),\n",
       " Marianne Fox(25),\n",
       " Gail Stuart(25),\n",
       " Katherine Burns(25),\n",
       " Christopher Myers(25),\n",
       " Norman Hong(25),\n",
       " Philip Kramer(25),\n",
       " Francis Garcia(25),\n",
       " Christopher MacDonald(25),\n",
       " Lawrence Weiss(25),\n",
       " Philip Cunningham(25),\n",
       " James Vogel(25),\n",
       " Sandy Sun(25),\n",
       " Irene Cates(25),\n",
       " Regina Hubbard(25),\n",
       " Meredith Justice(25),\n",
       " Ruth Hardy(25),\n",
       " Victor Choi(25),\n",
       " Gwendolyn Gilliam(25),\n",
       " Gloria Godwin(25),\n",
       " Ernest Harrison(25),\n",
       " Milton Joyner(25),\n",
       " Ken Marshall(25),\n",
       " Heather Conner(25),\n",
       " Robin Bynum(25),\n",
       " Lori Lang(25),\n",
       " Alan McConnell(25),\n",
       " Charlie Carlson(25),\n",
       " Elizabeth Green(25),\n",
       " Kathleen Russell(25),\n",
       " Vincent Grady(25),\n",
       " Tiffany Gardner(25),\n",
       " Jose Dale(25),\n",
       " Edward Prince(25),\n",
       " Walter Blackburn(25),\n",
       " Elisabeth Foster(25),\n",
       " Cindy Glass(25),\n",
       " Calvin Crawford(25),\n",
       " William Dickson(25),\n",
       " Neal McNeill(25),\n",
       " Jimmy Stark(25),\n",
       " Lori Knowles(25),\n",
       " Nancy Capps(25),\n",
       " Esther Gold(25),\n",
       " Rick Pridgen(25),\n",
       " Evelyn Hunter(25),\n",
       " Ronnie Perry(25),\n",
       " Joel Han(25),\n",
       " Karl Wrenn(25),\n",
       " Jim Hurley(25),\n",
       " Betty Fleming(25),\n",
       " Kathleen Hodges(25),\n",
       " Dana Kent(25),\n",
       " Fred Garner(25),\n",
       " Earl Osborne(25),\n",
       " Timothy French(25),\n",
       " Rose Greenberg(25),\n",
       " Laurie McKenzie(25),\n",
       " Dean Barker(25),\n",
       " Tom Hurst(25),\n",
       " James Siegel(25),\n",
       " David Roy(25),\n",
       " Bonnie Mann(25),\n",
       " Larry Callahan(25),\n",
       " Michele Hamrick(25),\n",
       " Gayle Cassidy(25),\n",
       " Lorraine Fischer(25),\n",
       " Christopher Stein(25),\n",
       " Jesse Kirkland(25),\n",
       " Ian Hester(25),\n",
       " Renee Clarke(25),\n",
       " Michael Rowland(25),\n",
       " Maria Hewitt(25),\n",
       " Lois Lawson(25),\n",
       " Arnold Creech(25),\n",
       " Vicki Ellis(25),\n",
       " Timothy Hendrix(25),\n",
       " Nina Hood(25),\n",
       " Brian Frederick(25),\n",
       " Marian Griffin(25),\n",
       " Marie Pace(25),\n",
       " Alvin Middleton(25),\n",
       " Lisa Eaton(25),\n",
       " Tamara Curtis(25),\n",
       " Seth McGee(25),\n",
       " Victoria McDaniel(25),\n",
       " Harold Hudson(25),\n",
       " Brad Ballard(25),\n",
       " Megan Bullock(25),\n",
       " Marian George(25),\n",
       " Sandy Raynor(26),\n",
       " Mike Whitehead(26),\n",
       " Charlene Heath(26),\n",
       " Alison MacDonald(26),\n",
       " Diana Crane(26),\n",
       " Neal O'Connor(26),\n",
       " Bill Klein(26),\n",
       " Dean Lutz(26),\n",
       " Tonya Ellis(26),\n",
       " Katie Katz(26),\n",
       " Sidney Weber(26),\n",
       " Zachary Black(26),\n",
       " Hannah Mueller(26),\n",
       " Teresa Daniel(26),\n",
       " Bobby Hines(26),\n",
       " Lynda Ball(26),\n",
       " Norman Arthur(26),\n",
       " Jeanette Montgomery(26),\n",
       " Chris Chu(26),\n",
       " Bill Roberson(26),\n",
       " Debra Palmer(26),\n",
       " Amanda Larson(26),\n",
       " Ruby Stout(26),\n",
       " Nicholas Lancaster(26),\n",
       " Claudia Williamson(26),\n",
       " Angela Turner(26),\n",
       " Diana Vincent(26),\n",
       " Kathy Riggs(26),\n",
       " Earl Honeycutt(26),\n",
       " Eileen Pittman(26),\n",
       " Tina Bernstein(26),\n",
       " Troy Browning(26),\n",
       " Heidi Bowles(26),\n",
       " Eva Gill(26),\n",
       " Calvin Godwin(26),\n",
       " Theresa Schroeder(26),\n",
       " Linda Decker(26),\n",
       " Rosemary Choi(26),\n",
       " Christy Stevenson(26),\n",
       " Billy Brooks(26),\n",
       " Harriet Hawley(26),\n",
       " Martha Werner(26),\n",
       " Carl Hinson(26),\n",
       " Joyce Stern(26),\n",
       " Ted Cassidy(26),\n",
       " Brent Moss(26),\n",
       " Frances Capps(26),\n",
       " Vernon Gibbs(26),\n",
       " Brad Ray(26),\n",
       " Sherri Kelly(26),\n",
       " Geoffrey Roy(26),\n",
       " Marlene Bailey(26),\n",
       " Sheila Coley(26),\n",
       " Teresa Joyner(26),\n",
       " Michele Davenport(26),\n",
       " Crystal Morse(26),\n",
       " Samantha Bullock(26),\n",
       " Peggy Corbett(26),\n",
       " Caroline Mayo(26),\n",
       " Meredith Cummings(26),\n",
       " Sam Chandler(26),\n",
       " Bernard Booth(26),\n",
       " Tom Owen(26),\n",
       " Francis Wise(26),\n",
       " Carolyn Willis(26),\n",
       " Jill Neal(26),\n",
       " Nicole Nicholson(26),\n",
       " Miriam Medlin(26),\n",
       " Mitchell Carr(26),\n",
       " Vickie Wooten(26),\n",
       " Leigh Conner(26),\n",
       " Constance Reese(26),\n",
       " Eleanor Simmons(26),\n",
       " Juanita Peele(26),\n",
       " Juan Eason(26),\n",
       " Lindsay Blair(26),\n",
       " Marvin Townsend(26),\n",
       " Randy Morton(26),\n",
       " Bernice Douglas(26),\n",
       " Tonya Batchelor(26),\n",
       " Lewis Armstrong(26),\n",
       " Alice Reddy(26),\n",
       " Audrey English(26),\n",
       " Norma Hale(26),\n",
       " Ted Melvin(26),\n",
       " Keith Dunn(26),\n",
       " Lynn Cook(26),\n",
       " Gilbert Adkins(26),\n",
       " Leslie Eason(26),\n",
       " Kevin Raynor(26),\n",
       " Hugh Lane(26),\n",
       " Sam Duke(26),\n",
       " Gerald Humphrey(26),\n",
       " Janet Goldman(26),\n",
       " Frank Sherrill(26),\n",
       " Bobby Sawyer(26),\n",
       " Herbert Doyle(26),\n",
       " Joyce Woodard(26),\n",
       " Allen Massey(26),\n",
       " Edna Hampton(26),\n",
       " Nicholas Garrett(26),\n",
       " June Odom(26),\n",
       " Peter Kenney(26),\n",
       " Harold Hobbs(26),\n",
       " Sandy Ross(26),\n",
       " Lloyd Simpson(26),\n",
       " Ray Hartman(26),\n",
       " Steven Dolan(26),\n",
       " Ruth Rice(26),\n",
       " Arthur Shannon(26),\n",
       " Connie Blackburn(26),\n",
       " Carolyn Nolan(26),\n",
       " Earl Perez(26),\n",
       " Jose Hicks(26),\n",
       " Wesley Field(26),\n",
       " Judy O'Connell(26),\n",
       " Katharine McFarland(26),\n",
       " Edna Cassidy(26),\n",
       " Eddie Fletcher(26),\n",
       " Judy Tuttle(26),\n",
       " Dan Stephens(26),\n",
       " Jason Hopkins(26),\n",
       " Jessie Petersen(26),\n",
       " John Dickerson(26),\n",
       " Zachary Haas(26),\n",
       " Harold Norman(26),\n",
       " Lawrence Lim(26),\n",
       " Frederick Parks(26),\n",
       " Tamara Currin(26),\n",
       " Theresa McDonald(26),\n",
       " Howard Kenney(26),\n",
       " Christopher Washington(26),\n",
       " Sidney Terry(26),\n",
       " Stacy Byers(26),\n",
       " Zachary Dougherty(26),\n",
       " Dorothy Shore(26),\n",
       " James Joyce(26),\n",
       " Nathan Hobbs(26),\n",
       " Melissa Sherman(26),\n",
       " Chris Teague(26),\n",
       " Max Hewitt(26),\n",
       " Kay Fletcher(26),\n",
       " Phyllis Bell(26),\n",
       " Jessie Williams(26),\n",
       " Edith Link(26),\n",
       " Ted Hobbs(26),\n",
       " Terry Desai(26),\n",
       " Jennifer Whitley(26),\n",
       " Richard Patrick(26),\n",
       " Anne Greer(26),\n",
       " Leah Parks(26),\n",
       " Ross Puckett(26),\n",
       " Guy Marcus(26),\n",
       " Kathleen Fletcher(26),\n",
       " Julia Dillon(26),\n",
       " Evan Carver(26),\n",
       " Hilda Sherrill(26),\n",
       " Anita Humphrey(26),\n",
       " Jeremy Savage(26),\n",
       " Teresa Dudley(26),\n",
       " Oscar Bernstein(26),\n",
       " Bruce McGuire(26),\n",
       " Gene Daniel(26),\n",
       " Carlos Baker(26),\n",
       " Ross Powers(26),\n",
       " Marion Meadows(26),\n",
       " Gerald Adcock(26),\n",
       " Mitchell Terrell(26),\n",
       " Hazel Merritt(26),\n",
       " Amy Miller(26),\n",
       " Carole White(26),\n",
       " Lee Hardy(26),\n",
       " Clyde McFarland(26),\n",
       " Shirley Kenney(26),\n",
       " Wesley Douglas(26),\n",
       " Ken Hewitt(26),\n",
       " Jeanne Powers(26),\n",
       " Tracy Clayton(26),\n",
       " Maxine Ennis(26),\n",
       " Marc Choi(26),\n",
       " Marian Singer(26),\n",
       " Melanie Lucas(26),\n",
       " Kenneth Leonard(26),\n",
       " Harold O'Neill(26),\n",
       " Francis Wood(26),\n",
       " James Small(26),\n",
       " Leslie Cook(26),\n",
       " Colleen Kelley(26),\n",
       " Penny Ross(26),\n",
       " Audrey Garcia(26),\n",
       " Janet Winters(26),\n",
       " Stuart Park(26),\n",
       " Grace House(26),\n",
       " Claire Taylor(26),\n",
       " Edith Briggs(26),\n",
       " Marcus Jensen(26),\n",
       " Philip Peele(26),\n",
       " Jon Barrett(26),\n",
       " Rhonda Pritchard(26),\n",
       " Eva Schmidt(26),\n",
       " Connie Powers(26),\n",
       " Rachel Sutton(26),\n",
       " Kristin Leonard(26),\n",
       " Kimberly Kane(26),\n",
       " Amy Lester(26),\n",
       " Kristin Schroeder(26),\n",
       " Jon Gray(26),\n",
       " Becky Hull(26),\n",
       " Kelly Allen(26),\n",
       " Marshall French(26),\n",
       " Marian Solomon(27),\n",
       " Elsie Barton(27),\n",
       " Douglas Ross(27),\n",
       " Melinda Proctor(27),\n",
       " Samantha Hardin(27),\n",
       " Scott Golden(27),\n",
       " Terry Barton(27),\n",
       " Miriam Wong(27),\n",
       " Jill Kent(27),\n",
       " Malcolm Chan(27),\n",
       " Bradley Duke(27),\n",
       " Catherine Summers(27),\n",
       " Patrick Archer(27),\n",
       " Alvin Frederick(27),\n",
       " Gary Scarborough(27),\n",
       " Shelley Dunn(27),\n",
       " Billy Carroll(27),\n",
       " Richard Harris(27),\n",
       " Gayle Stanley(27),\n",
       " Greg Berger(27),\n",
       " Paige Dudley(27),\n",
       " George Mathews(27),\n",
       " Sylvia Hsu(27),\n",
       " Cameron Bowers(27),\n",
       " Allen Randall(27),\n",
       " Nelson Medlin(27),\n",
       " Jeff Dodson(27),\n",
       " Tony Fletcher(27),\n",
       " Ross Hawkins(27),\n",
       " Marcus Howe(27),\n",
       " Sidney Frye(27),\n",
       " Charlene Burnette(27),\n",
       " Emma Day(27),\n",
       " Sean Snow(27),\n",
       " Amy Peters(27),\n",
       " Bryan Weiss(27),\n",
       " Ronald Brandon(27),\n",
       " Ronnie Myers(27),\n",
       " Aaron McKenzie(27),\n",
       " Sam Blum(27),\n",
       " Robyn Dickinson(27),\n",
       " Claudia Hill(27),\n",
       " Connie Sellers(27),\n",
       " Anthony Buckley(27),\n",
       " Natalie McKinney(27),\n",
       " Crystal Kramer(27),\n",
       " Maxine Holden(27),\n",
       " Ken Ritchie(27),\n",
       " Stacy Floyd(27),\n",
       " Glenn Phelps(27),\n",
       " Juanita Lanier(27),\n",
       " Roy Gentry(27),\n",
       " Karen Noble(27),\n",
       " Tracy Sparks(27),\n",
       " James Kang(27),\n",
       " Ruth Bass(27),\n",
       " Adam Carroll(27),\n",
       " Annie Lim(27),\n",
       " Howard French(27),\n",
       " Andrew Rowland(27),\n",
       " Terry Schultz(27),\n",
       " Russell Park(27),\n",
       " Bryan Kennedy(27),\n",
       " Jessica Friedman(27),\n",
       " Glenda Parrish(27),\n",
       " Raymond Crane(27),\n",
       " Leah McCoy(27),\n",
       " Joel Blanchard(27),\n",
       " Veronica Gates(27),\n",
       " Ronnie Boone(27),\n",
       " Sharon Baxter(27),\n",
       " Dwight Arnold(27),\n",
       " Marcus Moran(27),\n",
       " Becky English(27),\n",
       " Bruce Hoyle(27),\n",
       " Carla Ward(27),\n",
       " Priscilla George(27),\n",
       " Ralph Tate(27),\n",
       " Laurence Benson(27),\n",
       " Joe Lloyd(27),\n",
       " Louis Langley(27),\n",
       " Dean Hoyle(27),\n",
       " James Burnette(27),\n",
       " Vivian Albright(27),\n",
       " Erin Austin(27),\n",
       " Wendy Poe(27),\n",
       " Bernice Powell(27),\n",
       " Kevin Phillips(27),\n",
       " Pauline Katz(27),\n",
       " Nina Pratt(27),\n",
       " Lori Ritchie(27),\n",
       " Ann Braswell(27),\n",
       " Tony Weeks(27),\n",
       " Edgar Branch(27),\n",
       " Elizabeth Hayes(27),\n",
       " Heidi Blake(27),\n",
       " Scott Knowles(27),\n",
       " Mary Hancock(27),\n",
       " Dale Gorman(27),\n",
       " Evan Singer(27),\n",
       " Brooke Reid(27),\n",
       " Arthur McCarthy(27),\n",
       " Connie Conrad(27),\n",
       " Jane Spivey(27),\n",
       " Renee McNamara(27),\n",
       " Hannah Buchanan(27),\n",
       " Arlene Armstrong(27),\n",
       " Jordan Perkins(27),\n",
       " Nancy Crane(27),\n",
       " Nathan Callahan(27),\n",
       " Florence Rosenberg(27),\n",
       " Louis Sharp(27),\n",
       " Donna Faulkner(27),\n",
       " Heather Huff(27),\n",
       " Joel Woodard(27),\n",
       " Jane Case(27),\n",
       " Emma Kearney(27),\n",
       " Tony McDowell(27),\n",
       " Kelly Swanson(27),\n",
       " Annette Hoyle(27),\n",
       " Troy Monroe(27),\n",
       " Elisabeth Feldman(27),\n",
       " Peter Starr(27),\n",
       " Benjamin Quinn(27),\n",
       " Connie Roach(27),\n",
       " Debra Kumar(27),\n",
       " Marion Mayer(27),\n",
       " Jimmy Holloway(27),\n",
       " Martin Houston(27),\n",
       " Vernon Brock(27),\n",
       " Lynn Silverman(27),\n",
       " Katie Sharpe(27),\n",
       " Erica Best(27),\n",
       " Ryan Strauss(27),\n",
       " Vanessa Walsh(27),\n",
       " Glenda Howard(27),\n",
       " Matthew Hobbs(27),\n",
       " Victor Deal(27),\n",
       " Brenda Hodge(27),\n",
       " Laura Griffin(27),\n",
       " Rita Keller(27),\n",
       " Leroy Melvin(27),\n",
       " Leonard Greene(27),\n",
       " Laurie McNeill(27),\n",
       " Sidney Schultz(27),\n",
       " Marshall White(27),\n",
       " Dan Richmond(27),\n",
       " April Gardner(27),\n",
       " Annette Horner(27),\n",
       " Jeanette Barbee(27),\n",
       " Diana Rivera(27),\n",
       " Jenny Beasley(27),\n",
       " Kim Russell(27),\n",
       " Yvonne Swain(27),\n",
       " Kevin Beatty(27),\n",
       " Carlos Block(27),\n",
       " Tony Byrd(27),\n",
       " Gwendolyn Sweeney(27),\n",
       " Erik Christian(27),\n",
       " Roberta Hood(27),\n",
       " Leroy Michael(27),\n",
       " Vernon Hansen(27),\n",
       " Bradley Dougherty(27),\n",
       " Katie Kelly(27),\n",
       " Tonya Bridges(27),\n",
       " Sharon Simpson(27),\n",
       " Vanessa Meadows(27),\n",
       " Kathryn Foley(27),\n",
       " Randall Ivey(27),\n",
       " Audrey West(27),\n",
       " Cindy McLamb(27),\n",
       " Gary Saunders(27),\n",
       " Tara Parks(27),\n",
       " Alvin McKenna(27),\n",
       " Julie Lindsey(27),\n",
       " Tina Flowers(27),\n",
       " Angela Jernigan(27),\n",
       " Tom Fitzgerald(27),\n",
       " Annie Knowles(27),\n",
       " Albert Wiley(27),\n",
       " Theodore Gould(27),\n",
       " Franklin Vick(28),\n",
       " ...]"
      ]
     },
     "execution_count": 54,
     "metadata": {},
     "output_type": "execute_result"
    }
   ],
   "source": [
    "sorted(customers, key = lambda cust : cust.age)"
   ]
  },
  {
   "cell_type": "code",
   "execution_count": 63,
   "metadata": {},
   "outputs": [
    {
     "data": {
      "text/plain": [
       "True"
      ]
     },
     "execution_count": 63,
     "metadata": {},
     "output_type": "execute_result"
    }
   ],
   "source": [
    "customers[0] < customers[1]"
   ]
  }
 ],
 "metadata": {
  "colab": {
   "provenance": []
  },
  "kernelspec": {
   "display_name": "Python 3 (ipykernel)",
   "language": "python",
   "name": "python3"
  },
  "language_info": {
   "codemirror_mode": {
    "name": "ipython",
    "version": 3
   },
   "file_extension": ".py",
   "mimetype": "text/x-python",
   "name": "python",
   "nbconvert_exporter": "python",
   "pygments_lexer": "ipython3",
   "version": "3.12.4"
  }
 },
 "nbformat": 4,
 "nbformat_minor": 4
}
