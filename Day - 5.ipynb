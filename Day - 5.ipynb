{
 "cells": [
  {
   "cell_type": "markdown",
   "metadata": {
    "id": "rGBb_xPwaQpK"
   },
   "source": [
    "# Introduction to Pandas Library\n",
    "- Pandas is an open source library in python which is know for its rich applications and utilities for all kinds of mathematical, financial and statistical functions\n",
    "- It is useful in data manipulation and analysis\n",
    "- It provides fast, flexible, and expressive data structures designed to make working with structured (tabular, multidimensional, potentially heterogeneous) and time series data\n",
    "\n"
   ]
  },
  {
   "cell_type": "markdown",
   "metadata": {
    "id": "QW77jDdEaQpK"
   },
   "source": [
    "#### Installing pandas"
   ]
  },
  {
   "cell_type": "code",
   "execution_count": null,
   "metadata": {
    "id": "A0uzVwWXaQpK"
   },
   "outputs": [],
   "source": [
    "!pip install pandas"
   ]
  },
  {
   "cell_type": "markdown",
   "metadata": {
    "id": "P-V030TIaQpL"
   },
   "source": [
    "#### Importing pandas"
   ]
  },
  {
   "cell_type": "code",
   "execution_count": null,
   "metadata": {
    "id": "1OwVfG7eaQpX"
   },
   "outputs": [],
   "source": [
    "import pandas as pd\n",
    "import numpy as np\n",
    "import matplotlib.pyplot as plt\n",
    "import seaborn as sns"
   ]
  },
  {
   "cell_type": "markdown",
   "metadata": {
    "id": "Xki7EbgdaQpX"
   },
   "source": [
    "# Series\n",
    "\n",
    "#### Series -\n",
    "\n",
    "   - are one-dimensional ndarray with axis labels (homogenous data)\n",
    "   - labels need not be unique but must be of immutable type\n",
    "\n"
   ]
  },
  {
   "cell_type": "markdown",
   "metadata": {
    "id": "F03kpEgEaQpX"
   },
   "source": [
    "### Creating Series"
   ]
  },
  {
   "cell_type": "markdown",
   "metadata": {
    "id": "f4G4uy-QaQpY"
   },
   "source": [
    "###### Ex. Create series using the given list of names"
   ]
  },
  {
   "cell_type": "code",
   "execution_count": null,
   "metadata": {
    "id": "kidwL0wBaQpY"
   },
   "outputs": [],
   "source": [
    "names = pd.Series([\"Jack\", \"Jane\", \"George\"])\n",
    "names"
   ]
  },
  {
   "cell_type": "code",
   "execution_count": null,
   "metadata": {},
   "outputs": [],
   "source": [
    "names.index  # labels of the series"
   ]
  },
  {
   "cell_type": "code",
   "execution_count": null,
   "metadata": {},
   "outputs": [],
   "source": [
    "names.values # Values in the series"
   ]
  },
  {
   "cell_type": "markdown",
   "metadata": {},
   "source": [
    "##### Note - An ordered sequence eg - list, tuple, dict, array can only be converted into a series"
   ]
  },
  {
   "cell_type": "code",
   "execution_count": null,
   "metadata": {
    "id": "Bupm0jbCaQpZ"
   },
   "outputs": [],
   "source": [
    "salaries = pd.Series(np.random.randint(30000, 60000, 5))\n",
    "salaries"
   ]
  },
  {
   "cell_type": "markdown",
   "metadata": {
    "id": "O3Thv2HSaQpZ"
   },
   "source": [
    "###### Assign names as labels"
   ]
  },
  {
   "cell_type": "code",
   "execution_count": null,
   "metadata": {},
   "outputs": [],
   "source": [
    "salaries.index = [\"Jane\", \"Jack\", \"George\", \"Rosie\", \"Dori\"]\n",
    "salaries"
   ]
  },
  {
   "cell_type": "code",
   "execution_count": null,
   "metadata": {},
   "outputs": [],
   "source": [
    "# Assigning labels while creating series\n",
    "salaries = pd.Series(np.random.randint(30000, 60000, 5), index = [\"Jane\", \"Jack\", \"George\", \"Rosie\", \"Dori\"])"
   ]
  },
  {
   "cell_type": "markdown",
   "metadata": {
    "id": "ZZO8lFY1aQpY"
   },
   "source": [
    "### Extracting elements from series"
   ]
  },
  {
   "cell_type": "markdown",
   "metadata": {},
   "source": [
    "#### Indexing"
   ]
  },
  {
   "cell_type": "code",
   "execution_count": null,
   "metadata": {
    "id": "oDD_hBrdaQpa"
   },
   "outputs": [],
   "source": [
    "salaries.iloc[1]  # indexing based on index position"
   ]
  },
  {
   "cell_type": "code",
   "execution_count": null,
   "metadata": {
    "id": "U-7qqko_aQpa"
   },
   "outputs": [],
   "source": [
    "salaries[\"Jane\"]  # extracting value based on labels"
   ]
  },
  {
   "cell_type": "markdown",
   "metadata": {},
   "source": [
    "#### Slicing"
   ]
  },
  {
   "cell_type": "code",
   "execution_count": null,
   "metadata": {},
   "outputs": [],
   "source": [
    "salaries.iloc[0:3]"
   ]
  },
  {
   "cell_type": "code",
   "execution_count": null,
   "metadata": {},
   "outputs": [],
   "source": [
    "salaries[\"Jane\" : \"George\"]"
   ]
  },
  {
   "cell_type": "markdown",
   "metadata": {},
   "source": [
    "#### Conditional Indexing"
   ]
  },
  {
   "cell_type": "code",
   "execution_count": null,
   "metadata": {},
   "outputs": [],
   "source": [
    "salaries[salaries > 50000]"
   ]
  },
  {
   "cell_type": "markdown",
   "metadata": {
    "id": "8RBog8TEaQpa"
   },
   "source": [
    "### Operations on Series"
   ]
  },
  {
   "cell_type": "markdown",
   "metadata": {},
   "source": [
    "###### Ex. Increment the salaries by 10%"
   ]
  },
  {
   "cell_type": "code",
   "execution_count": null,
   "metadata": {
    "id": "olXqM-DJaQpa"
   },
   "outputs": [],
   "source": [
    "salaries * 1.10"
   ]
  },
  {
   "cell_type": "markdown",
   "metadata": {
    "id": "KTK3Ijh7aQpb"
   },
   "source": [
    "### Ranking and Sorting\n",
    "\n",
    "- series.sort_values(`ascending=True`, `inplace=False`, `na_position = {\"first\",\"last\"}`)\n",
    "- series.sort_index(`ascending=True`, `inplace=False`)\n",
    "- series.rank(`ascending=False`, `method={\"average\",\"min\",\"dense\"}`, `na_option = {\"top\",\"bottom\"}`)"
   ]
  },
  {
   "cell_type": "code",
   "execution_count": null,
   "metadata": {
    "id": "6KGpwit4aQpb"
   },
   "outputs": [],
   "source": [
    "salaries = pd.Series(np.random.randint(30000, 60000, 5), index = [\"Jane\", \"Jack\", \"George\", \"Rosie\", \"Dori\"])\n",
    "salaries = pd.concat((salaries, pd.Series([np.nan, np.nan], index = [\"Janet\", \"Sam\"])))\n",
    "salaries"
   ]
  },
  {
   "cell_type": "markdown",
   "metadata": {},
   "source": [
    "###### Ex. Sort by values"
   ]
  },
  {
   "cell_type": "code",
   "execution_count": null,
   "metadata": {},
   "outputs": [],
   "source": [
    "salaries.sort_values(ascending=False, na_position=\"first\", ignore_index=True)"
   ]
  },
  {
   "cell_type": "markdown",
   "metadata": {},
   "source": [
    "###### Ex. Sort by index"
   ]
  },
  {
   "cell_type": "code",
   "execution_count": null,
   "metadata": {},
   "outputs": [],
   "source": [
    "salaries.sort_index(ascending=False)"
   ]
  },
  {
   "cell_type": "code",
   "execution_count": null,
   "metadata": {},
   "outputs": [],
   "source": [
    "salaries"
   ]
  },
  {
   "cell_type": "markdown",
   "metadata": {},
   "source": [
    "###### Ex. Rank the series"
   ]
  },
  {
   "cell_type": "code",
   "execution_count": null,
   "metadata": {},
   "outputs": [],
   "source": [
    "salaries.rank(method=\"min\", na_option=\"bottom\", ascending=False).astype(int)"
   ]
  },
  {
   "cell_type": "code",
   "execution_count": null,
   "metadata": {},
   "outputs": [],
   "source": [
    "salaries"
   ]
  },
  {
   "cell_type": "code",
   "execution_count": null,
   "metadata": {},
   "outputs": [],
   "source": [
    "marks = pd.Series([80, 90, 80, 70, 60, 60, 50])\n",
    "marks"
   ]
  },
  {
   "cell_type": "code",
   "execution_count": null,
   "metadata": {},
   "outputs": [],
   "source": [
    "marks.rank(ascending=False, method=\"min\").astype(int)"
   ]
  },
  {
   "cell_type": "markdown",
   "metadata": {},
   "source": [
    "##### Note - to modify original series/dataframe inplace can be set to True"
   ]
  },
  {
   "cell_type": "markdown",
   "metadata": {
    "id": "e2f4A3jTaQpb"
   },
   "source": [
    "### Working with NULLs"
   ]
  },
  {
   "cell_type": "code",
   "execution_count": null,
   "metadata": {
    "id": "sb6PRbSkaQpb"
   },
   "outputs": [],
   "source": [
    "salaries.isna()"
   ]
  },
  {
   "cell_type": "code",
   "execution_count": null,
   "metadata": {
    "id": "sb6PRbSkaQpb"
   },
   "outputs": [],
   "source": [
    "salaries.isna().sum()"
   ]
  },
  {
   "cell_type": "code",
   "execution_count": null,
   "metadata": {
    "id": "sb6PRbSkaQpb"
   },
   "outputs": [],
   "source": [
    "salaries.isna().any()"
   ]
  },
  {
   "cell_type": "code",
   "execution_count": null,
   "metadata": {
    "id": "sb6PRbSkaQpb"
   },
   "outputs": [],
   "source": [
    "salaries.isna().all()"
   ]
  },
  {
   "cell_type": "code",
   "execution_count": null,
   "metadata": {},
   "outputs": [],
   "source": [
    "salaries.fillna(0)"
   ]
  },
  {
   "cell_type": "code",
   "execution_count": null,
   "metadata": {},
   "outputs": [],
   "source": [
    "salaries.ffill()"
   ]
  },
  {
   "cell_type": "code",
   "execution_count": null,
   "metadata": {},
   "outputs": [],
   "source": [
    "salaries.bfill()"
   ]
  },
  {
   "cell_type": "markdown",
   "metadata": {
    "id": "9eUiWjfnaQpb"
   },
   "source": [
    "<hr><hr>"
   ]
  },
  {
   "cell_type": "markdown",
   "metadata": {
    "id": "47x11IZfaQpb"
   },
   "source": [
    "# Dataframe\n",
    "\n",
    "A DataFrame is two dimensional data structure where the data is arranged in the tabular format in rows and columns\n",
    "\n",
    "#### DataFrame features:\n",
    "\n",
    "- Columns can be of different data types\n",
    "- Size of dataframe can be changes\n",
    "- Axes(rows and columns) are labeled\n",
    "- Arithmetic operations can be performed on rows and columns"
   ]
  },
  {
   "cell_type": "markdown",
   "metadata": {
    "id": "XsuLFl42aQpc"
   },
   "source": [
    "### Creating Dataframes"
   ]
  },
  {
   "cell_type": "code",
   "execution_count": null,
   "metadata": {
    "id": "XU9yQthlaQpc"
   },
   "outputs": [],
   "source": [
    "employees = {\"Name\" : [\"Jack\", \"Bill\", \"Lizie\", \"Jane\", \"George\"],\n",
    "            \"Designation\" : [\"HR\", \"Manager\", \"Developer\", \"Intern\", \"Manager\"],\n",
    "            \"Salary\": [40000, 60000, 25000, 12000, 70000]}\n",
    "\n",
    "df = pd.DataFrame(employees)\n",
    "df"
   ]
  },
  {
   "cell_type": "markdown",
   "metadata": {
    "id": "2BTO39a_aQpc"
   },
   "source": [
    "### Accessing Dataframes"
   ]
  },
  {
   "cell_type": "code",
   "execution_count": null,
   "metadata": {
    "id": "vkbDFU-taQpc"
   },
   "outputs": [],
   "source": [
    "df[\"Name\"]"
   ]
  },
  {
   "cell_type": "code",
   "execution_count": null,
   "metadata": {
    "id": "vkbDFU-taQpc"
   },
   "outputs": [],
   "source": [
    "df.Name"
   ]
  },
  {
   "cell_type": "markdown",
   "metadata": {
    "id": "xhttBDOzaQpd"
   },
   "source": [
    "### Operations on dataframes"
   ]
  },
  {
   "cell_type": "markdown",
   "metadata": {
    "id": "gxF17HubaQpd"
   },
   "source": [
    "###### Ex. Average Salary"
   ]
  },
  {
   "cell_type": "code",
   "execution_count": null,
   "metadata": {
    "id": "XORPMsvVaQpe"
   },
   "outputs": [],
   "source": [
    "df.Salary.mean()"
   ]
  },
  {
   "cell_type": "markdown",
   "metadata": {
    "id": "5uyCtQxraQpe"
   },
   "source": [
    "###### Ex. Average Salary of managers"
   ]
  },
  {
   "cell_type": "code",
   "execution_count": null,
   "metadata": {
    "id": "vEnS8bVnaQpe"
   },
   "outputs": [],
   "source": [
    "df[df.Designation == \"Manager\"]"
   ]
  },
  {
   "cell_type": "markdown",
   "metadata": {
    "id": "2Kt24MypaQpe"
   },
   "source": [
    "### Concataneting and Merging Dataframes"
   ]
  },
  {
   "cell_type": "code",
   "execution_count": null,
   "metadata": {},
   "outputs": [],
   "source": [
    "df_jan = pd.DataFrame({\"Order ID\" : range(101, 111), \"Sales\" : np.random.randint(10000, 50000, 10)})\n",
    "df_feb = pd.DataFrame({\"Order ID\" : range(111, 121), \"Sales\" : np.random.randint(10000, 50000, 10)})\n",
    "df_mar = pd.DataFrame({\"Order ID\" : range(121, 131), \"Sales\" : np.random.randint(10000, 50000, 10)})"
   ]
  },
  {
   "cell_type": "markdown",
   "metadata": {
    "id": "CSGtWyPvaQpf"
   },
   "source": [
    "#### Concatenate\n",
    "pd.concat(`tuple of dfs`, `ignore_index = False`, `axis=0`)"
   ]
  },
  {
   "cell_type": "code",
   "execution_count": null,
   "metadata": {
    "id": "xOJ19ptzaQpf"
   },
   "outputs": [],
   "source": [
    "pd.concat((df_jan, df_feb, df_mar), ignore_index=True)"
   ]
  },
  {
   "cell_type": "code",
   "execution_count": null,
   "metadata": {
    "id": "xOJ19ptzaQpf"
   },
   "outputs": [],
   "source": [
    "pd.concat((df_jan, df_feb, df_mar), axis=1)"
   ]
  },
  {
   "cell_type": "markdown",
   "metadata": {
    "id": "KQk4_kSdaQpf"
   },
   "source": [
    "#### Merging Dataframes\n",
    "\n",
    "`df1.merge(df2, how=\"\", left_on=\"\", right_on=\"\", left_index= \"\" , right_index=\"\")`"
   ]
  },
  {
   "cell_type": "code",
   "execution_count": null,
   "metadata": {
    "id": "p7S2LaPwaQpf"
   },
   "outputs": [],
   "source": [
    "df_emp = pd.DataFrame({\"Name\" : [\"Jack\", \"Bill\", \"Lizie\", \"Jane\", \"George\"],\n",
    "            \"Designation\" : [\"HR\", \"Manager\", \"Developer\", \"Intern\", \"Manager\"]})\n",
    "df_emp"
   ]
  },
  {
   "cell_type": "code",
   "execution_count": null,
   "metadata": {
    "id": "NTCO1HA9aQpf"
   },
   "outputs": [],
   "source": [
    "base_salaries = pd.DataFrame({\"Post\" : [\"HR\", \"Developer\", \"Manager\", \"Senior Manager\"],\n",
    "            \"Salary\": [40000, 25000, 70000, 1000000]})\n",
    "base_salaries"
   ]
  },
  {
   "cell_type": "markdown",
   "metadata": {
    "id": "FEn8LGSQaQpf"
   },
   "source": [
    "#### Inner Merge - returns rows present in both tables"
   ]
  },
  {
   "cell_type": "code",
   "execution_count": null,
   "metadata": {
    "id": "-dfkvBy1aQpf"
   },
   "outputs": [],
   "source": [
    "df_emp.merge(base_salaries, how=\"inner\", left_on=\"Designation\", right_on=\"Post\") # use on = \"Designation\" if both dfs have same colunm name as Designation"
   ]
  },
  {
   "cell_type": "markdown",
   "metadata": {
    "id": "ItIkstn4aQpg"
   },
   "source": [
    "#### Left Merge - returns data from left table and corresponding data from right, returns NAN for non matching values"
   ]
  },
  {
   "cell_type": "code",
   "execution_count": null,
   "metadata": {
    "id": "VuonLUSPaQpg"
   },
   "outputs": [],
   "source": [
    "df_emp.merge(base_salaries, how=\"left\", left_on=\"Designation\", right_on=\"Post\") # use on = \"Designation\" if both dfs have same colunm name as Designation"
   ]
  },
  {
   "cell_type": "markdown",
   "metadata": {
    "id": "G2olAncNaQpg"
   },
   "source": [
    "#### Right Merge"
   ]
  },
  {
   "cell_type": "code",
   "execution_count": null,
   "metadata": {
    "id": "Zm7xmbCGaQpg"
   },
   "outputs": [],
   "source": [
    "df_emp.merge(base_salaries, how=\"right\", left_on=\"Designation\", right_on=\"Post\") # use on = \"Designation\" if both dfs have same colunm name as Designation"
   ]
  },
  {
   "cell_type": "markdown",
   "metadata": {
    "id": "hNpBKsrCaQpg"
   },
   "source": [
    "#### Outer Merge"
   ]
  },
  {
   "cell_type": "code",
   "execution_count": null,
   "metadata": {
    "id": "x1fbrsSGaQpg"
   },
   "outputs": [],
   "source": [
    "df_emp.merge(base_salaries, how=\"outer\", left_on=\"Designation\", right_on=\"Post\") # use on = \"Designation\" if both dfs have same colunm name as Designation"
   ]
  },
  {
   "cell_type": "markdown",
   "metadata": {
    "id": "Yho0mcMUaQph"
   },
   "source": [
    "## Reading data from Data Sources"
   ]
  },
  {
   "cell_type": "code",
   "execution_count": null,
   "metadata": {
    "id": "3pEBUBDLaQph"
   },
   "outputs": [],
   "source": [
    "import numpy as np\n",
    "import pandas as pd\n",
    "import matplotlib.pyplot as plt"
   ]
  },
  {
   "cell_type": "markdown",
   "metadata": {
    "id": "YdU_K3w2aQpi"
   },
   "source": [
    "### Reading data from MYSQL or SQLITE3"
   ]
  },
  {
   "cell_type": "code",
   "execution_count": null,
   "metadata": {
    "id": "RZEYFJUDaQpi"
   },
   "outputs": [],
   "source": [
    "pip install sqlalchemy"
   ]
  },
  {
   "cell_type": "markdown",
   "metadata": {},
   "source": [
    "###### Syntax for MSSQL\n",
    "\n",
    "connection_string = f\"mssql+pyodbc://{username}:{password}@{server}/{database}\"\n"
   ]
  },
  {
   "cell_type": "code",
   "execution_count": 37,
   "metadata": {},
   "outputs": [],
   "source": [
    "from sqlalchemy import create_engine\n",
    "conn = create_engine(r\"sqlite:///employee.sqlite3\")"
   ]
  },
  {
   "cell_type": "code",
   "execution_count": 34,
   "metadata": {},
   "outputs": [
    {
     "data": {
      "text/plain": [
       "Engine(sqlite:///employee.sqlite3)"
      ]
     },
     "execution_count": 34,
     "metadata": {},
     "output_type": "execute_result"
    }
   ],
   "source": [
    "conn"
   ]
  },
  {
   "cell_type": "code",
   "execution_count": null,
   "metadata": {},
   "outputs": [],
   "source": [
    "pd.read_sql(\"Employee\", conn)"
   ]
  },
  {
   "cell_type": "code",
   "execution_count": 38,
   "metadata": {},
   "outputs": [
    {
     "data": {
      "text/html": [
       "<div>\n",
       "<style scoped>\n",
       "    .dataframe tbody tr th:only-of-type {\n",
       "        vertical-align: middle;\n",
       "    }\n",
       "\n",
       "    .dataframe tbody tr th {\n",
       "        vertical-align: top;\n",
       "    }\n",
       "\n",
       "    .dataframe thead th {\n",
       "        text-align: right;\n",
       "    }\n",
       "</style>\n",
       "<table border=\"1\" class=\"dataframe\">\n",
       "  <thead>\n",
       "    <tr style=\"text-align: right;\">\n",
       "      <th></th>\n",
       "      <th>index</th>\n",
       "      <th>Name</th>\n",
       "      <th>Salary</th>\n",
       "      <th>Designation</th>\n",
       "      <th>Age</th>\n",
       "    </tr>\n",
       "  </thead>\n",
       "  <tbody>\n",
       "    <tr>\n",
       "      <th>0</th>\n",
       "      <td>0</td>\n",
       "      <td>Claire</td>\n",
       "      <td>88962</td>\n",
       "      <td>Manager</td>\n",
       "      <td>35</td>\n",
       "    </tr>\n",
       "    <tr>\n",
       "      <th>1</th>\n",
       "      <td>2</td>\n",
       "      <td>Sean</td>\n",
       "      <td>117501</td>\n",
       "      <td>Manager</td>\n",
       "      <td>36</td>\n",
       "    </tr>\n",
       "    <tr>\n",
       "      <th>2</th>\n",
       "      <td>11</td>\n",
       "      <td>Sandra</td>\n",
       "      <td>115116</td>\n",
       "      <td>Manager</td>\n",
       "      <td>41</td>\n",
       "    </tr>\n",
       "    <tr>\n",
       "      <th>3</th>\n",
       "      <td>14</td>\n",
       "      <td>Tracy</td>\n",
       "      <td>109132</td>\n",
       "      <td>Manager</td>\n",
       "      <td>34</td>\n",
       "    </tr>\n",
       "    <tr>\n",
       "      <th>4</th>\n",
       "      <td>15</td>\n",
       "      <td>Matt</td>\n",
       "      <td>83327</td>\n",
       "      <td>Manager</td>\n",
       "      <td>43</td>\n",
       "    </tr>\n",
       "  </tbody>\n",
       "</table>\n",
       "</div>"
      ],
      "text/plain": [
       "   index    Name  Salary Designation  Age\n",
       "0      0  Claire   88962     Manager   35\n",
       "1      2    Sean  117501     Manager   36\n",
       "2     11  Sandra  115116     Manager   41\n",
       "3     14   Tracy  109132     Manager   34\n",
       "4     15    Matt   83327     Manager   43"
      ]
     },
     "execution_count": 38,
     "metadata": {},
     "output_type": "execute_result"
    }
   ],
   "source": [
    "df = pd.read_sql_query(\"Select * from Employee where Designation = 'Manager'\", conn)\n",
    "df"
   ]
  },
  {
   "cell_type": "code",
   "execution_count": null,
   "metadata": {},
   "outputs": [],
   "source": [
    "df.to_sql(\"Employee\", conn, if_exists=\"replace\")"
   ]
  },
  {
   "cell_type": "markdown",
   "metadata": {
    "id": "PWjVQ7v3aQpi"
   },
   "source": [
    "### Examples using Coffee Shop Dataset"
   ]
  },
  {
   "cell_type": "markdown",
   "metadata": {},
   "source": [
    "###### Ex. Connecting to Excel File"
   ]
  },
  {
   "cell_type": "code",
   "execution_count": null,
   "metadata": {},
   "outputs": [],
   "source": [
    "pd.read_excel(\"filename.xlsx\", sheet_name=\"sheet_name\")  # demo syntax"
   ]
  },
  {
   "cell_type": "markdown",
   "metadata": {},
   "source": [
    "##### Note - may generate ModuleNotFoundError - openpyxl. \n",
    "pip install openpyxl"
   ]
  },
  {
   "cell_type": "markdown",
   "metadata": {
    "id": "-SsECgH6aQpj"
   },
   "source": [
    "###### Ex. Read data from `coffee_sales.csv`"
   ]
  },
  {
   "cell_type": "code",
   "execution_count": 39,
   "metadata": {
    "id": "mBAJGrV2aQpj"
   },
   "outputs": [
    {
     "data": {
      "text/html": [
       "<div>\n",
       "<style scoped>\n",
       "    .dataframe tbody tr th:only-of-type {\n",
       "        vertical-align: middle;\n",
       "    }\n",
       "\n",
       "    .dataframe tbody tr th {\n",
       "        vertical-align: top;\n",
       "    }\n",
       "\n",
       "    .dataframe thead th {\n",
       "        text-align: right;\n",
       "    }\n",
       "</style>\n",
       "<table border=\"1\" class=\"dataframe\">\n",
       "  <thead>\n",
       "    <tr style=\"text-align: right;\">\n",
       "      <th></th>\n",
       "      <th>This is dummy data</th>\n",
       "      <th>Unnamed: 1</th>\n",
       "      <th>Unnamed: 2</th>\n",
       "      <th>Unnamed: 3</th>\n",
       "      <th>Unnamed: 4</th>\n",
       "      <th>Unnamed: 5</th>\n",
       "      <th>Unnamed: 6</th>\n",
       "      <th>Unnamed: 7</th>\n",
       "      <th>Unnamed: 8</th>\n",
       "    </tr>\n",
       "  </thead>\n",
       "  <tbody>\n",
       "    <tr>\n",
       "      <th>0</th>\n",
       "      <td>NaN</td>\n",
       "      <td>NaN</td>\n",
       "      <td>NaN</td>\n",
       "      <td>NaN</td>\n",
       "      <td>NaN</td>\n",
       "      <td>NaN</td>\n",
       "      <td>NaN</td>\n",
       "      <td>NaN</td>\n",
       "      <td>NaN</td>\n",
       "    </tr>\n",
       "    <tr>\n",
       "      <th>1</th>\n",
       "      <td>NaN</td>\n",
       "      <td>NaN</td>\n",
       "      <td>NaN</td>\n",
       "      <td>NaN</td>\n",
       "      <td>NaN</td>\n",
       "      <td>NaN</td>\n",
       "      <td>NaN</td>\n",
       "      <td>NaN</td>\n",
       "      <td>NaN</td>\n",
       "    </tr>\n",
       "    <tr>\n",
       "      <th>2</th>\n",
       "      <td>NaN</td>\n",
       "      <td>Date</td>\n",
       "      <td>Franchise</td>\n",
       "      <td>City</td>\n",
       "      <td>Product</td>\n",
       "      <td>Sales</td>\n",
       "      <td>Profit</td>\n",
       "      <td>Target Profit</td>\n",
       "      <td>Target Sales</td>\n",
       "    </tr>\n",
       "    <tr>\n",
       "      <th>3</th>\n",
       "      <td>NaN</td>\n",
       "      <td>1-Jan-21</td>\n",
       "      <td>M1</td>\n",
       "      <td>Mumbai</td>\n",
       "      <td>Amaretto</td>\n",
       "      <td>$219.00</td>\n",
       "      <td>$94.00</td>\n",
       "      <td>$100.00</td>\n",
       "      <td>$220.00</td>\n",
       "    </tr>\n",
       "    <tr>\n",
       "      <th>4</th>\n",
       "      <td>NaN</td>\n",
       "      <td>1-Feb-21</td>\n",
       "      <td>M1</td>\n",
       "      <td>Mumbai</td>\n",
       "      <td>Amaretto</td>\n",
       "      <td>$140.00</td>\n",
       "      <td>$34.00</td>\n",
       "      <td>$50.00</td>\n",
       "      <td>$140.00</td>\n",
       "    </tr>\n",
       "    <tr>\n",
       "      <th>...</th>\n",
       "      <td>...</td>\n",
       "      <td>...</td>\n",
       "      <td>...</td>\n",
       "      <td>...</td>\n",
       "      <td>...</td>\n",
       "      <td>...</td>\n",
       "      <td>...</td>\n",
       "      <td>...</td>\n",
       "      <td>...</td>\n",
       "    </tr>\n",
       "    <tr>\n",
       "      <th>4246</th>\n",
       "      <td>NaN</td>\n",
       "      <td>1-Aug-26</td>\n",
       "      <td>M1</td>\n",
       "      <td>Mumbai</td>\n",
       "      <td>Regular Espresso</td>\n",
       "      <td>$719.00</td>\n",
       "      <td>$565.00</td>\n",
       "      <td>$390.00</td>\n",
       "      <td>$660.00</td>\n",
       "    </tr>\n",
       "    <tr>\n",
       "      <th>4247</th>\n",
       "      <td>NaN</td>\n",
       "      <td>1-Sep-26</td>\n",
       "      <td>M1</td>\n",
       "      <td>Mumbai</td>\n",
       "      <td>Regular Espresso</td>\n",
       "      <td>$81.00</td>\n",
       "      <td>-$4.00</td>\n",
       "      <td>$10.00</td>\n",
       "      <td>$70.00</td>\n",
       "    </tr>\n",
       "    <tr>\n",
       "      <th>4248</th>\n",
       "      <td>NaN</td>\n",
       "      <td>1-Oct-26</td>\n",
       "      <td>M1</td>\n",
       "      <td>Mumbai</td>\n",
       "      <td>Regular Espresso</td>\n",
       "      <td>$326.00</td>\n",
       "      <td>$129.00</td>\n",
       "      <td>$80.00</td>\n",
       "      <td>$290.00</td>\n",
       "    </tr>\n",
       "    <tr>\n",
       "      <th>4249</th>\n",
       "      <td>NaN</td>\n",
       "      <td>1-Nov-26</td>\n",
       "      <td>M1</td>\n",
       "      <td>Mumbai</td>\n",
       "      <td>Regular Espresso</td>\n",
       "      <td>$700.00</td>\n",
       "      <td>$463.00</td>\n",
       "      <td>$320.00</td>\n",
       "      <td>$640.00</td>\n",
       "    </tr>\n",
       "    <tr>\n",
       "      <th>4250</th>\n",
       "      <td>NaN</td>\n",
       "      <td>1-Dec-26</td>\n",
       "      <td>M1</td>\n",
       "      <td>Mumbai</td>\n",
       "      <td>Regular Espresso</td>\n",
       "      <td>$48.00</td>\n",
       "      <td>-$24.00</td>\n",
       "      <td>$10.00</td>\n",
       "      <td>$40.00</td>\n",
       "    </tr>\n",
       "  </tbody>\n",
       "</table>\n",
       "<p>4251 rows × 9 columns</p>\n",
       "</div>"
      ],
      "text/plain": [
       "      This is dummy data Unnamed: 1 Unnamed: 2 Unnamed: 3        Unnamed: 4  \\\n",
       "0                    NaN        NaN        NaN        NaN               NaN   \n",
       "1                    NaN        NaN        NaN        NaN               NaN   \n",
       "2                    NaN       Date  Franchise       City           Product   \n",
       "3                    NaN   1-Jan-21         M1     Mumbai          Amaretto   \n",
       "4                    NaN   1-Feb-21         M1     Mumbai          Amaretto   \n",
       "...                  ...        ...        ...        ...               ...   \n",
       "4246                 NaN   1-Aug-26         M1     Mumbai  Regular Espresso   \n",
       "4247                 NaN   1-Sep-26         M1     Mumbai  Regular Espresso   \n",
       "4248                 NaN   1-Oct-26         M1     Mumbai  Regular Espresso   \n",
       "4249                 NaN   1-Nov-26         M1     Mumbai  Regular Espresso   \n",
       "4250                 NaN   1-Dec-26         M1     Mumbai  Regular Espresso   \n",
       "\n",
       "     Unnamed: 5 Unnamed: 6     Unnamed: 7    Unnamed: 8  \n",
       "0           NaN        NaN            NaN           NaN  \n",
       "1           NaN        NaN            NaN           NaN  \n",
       "2         Sales     Profit  Target Profit  Target Sales  \n",
       "3       $219.00     $94.00        $100.00       $220.00  \n",
       "4       $140.00     $34.00         $50.00       $140.00  \n",
       "...         ...        ...            ...           ...  \n",
       "4246    $719.00    $565.00        $390.00       $660.00  \n",
       "4247     $81.00     -$4.00         $10.00        $70.00  \n",
       "4248    $326.00    $129.00         $80.00       $290.00  \n",
       "4249    $700.00    $463.00        $320.00       $640.00  \n",
       "4250     $48.00    -$24.00         $10.00        $40.00  \n",
       "\n",
       "[4251 rows x 9 columns]"
      ]
     },
     "execution_count": 39,
     "metadata": {},
     "output_type": "execute_result"
    }
   ],
   "source": [
    "df = pd.read_csv(\"coffee_sales.csv\")\n",
    "df"
   ]
  },
  {
   "cell_type": "markdown",
   "metadata": {},
   "source": [
    "### Cleaning DataFrame"
   ]
  },
  {
   "cell_type": "markdown",
   "metadata": {},
   "source": [
    "###### Approach 1"
   ]
  },
  {
   "cell_type": "markdown",
   "metadata": {},
   "source": [
    "pd.read_csv(\"coffee_sales.csv\", header=3, usecols=[1, 5, 6], skiprows=range(4248, 4253))"
   ]
  },
  {
   "cell_type": "code",
   "execution_count": 58,
   "metadata": {},
   "outputs": [],
   "source": [
    "df = pd.read_csv(\"coffee_sales.csv\", header=3)  # Read Data\n",
    "df"
   ]
  },
  {
   "cell_type": "code",
   "execution_count": 59,
   "metadata": {},
   "outputs": [
    {
     "data": {
      "text/plain": [
       "Index(['Unnamed: 0', 'Date', 'Franchise', 'City', 'Product', 'Sales', 'Profit',\n",
       "       'Target Profit', 'Target Sales'],\n",
       "      dtype='object')"
      ]
     },
     "execution_count": 59,
     "metadata": {},
     "output_type": "execute_result"
    }
   ],
   "source": [
    "df.columns # get column names"
   ]
  },
  {
   "cell_type": "code",
   "execution_count": 60,
   "metadata": {},
   "outputs": [
    {
     "data": {
      "text/html": [
       "<div>\n",
       "<style scoped>\n",
       "    .dataframe tbody tr th:only-of-type {\n",
       "        vertical-align: middle;\n",
       "    }\n",
       "\n",
       "    .dataframe tbody tr th {\n",
       "        vertical-align: top;\n",
       "    }\n",
       "\n",
       "    .dataframe thead th {\n",
       "        text-align: right;\n",
       "    }\n",
       "</style>\n",
       "<table border=\"1\" class=\"dataframe\">\n",
       "  <thead>\n",
       "    <tr style=\"text-align: right;\">\n",
       "      <th></th>\n",
       "      <th>Date</th>\n",
       "      <th>Franchise</th>\n",
       "      <th>City</th>\n",
       "      <th>Product</th>\n",
       "      <th>Sales</th>\n",
       "      <th>Profit</th>\n",
       "      <th>Target Profit</th>\n",
       "      <th>Target Sales</th>\n",
       "    </tr>\n",
       "  </thead>\n",
       "  <tbody>\n",
       "    <tr>\n",
       "      <th>0</th>\n",
       "      <td>1-Jan-21</td>\n",
       "      <td>M1</td>\n",
       "      <td>Mumbai</td>\n",
       "      <td>Amaretto</td>\n",
       "      <td>$219.00</td>\n",
       "      <td>$94.00</td>\n",
       "      <td>$100.00</td>\n",
       "      <td>$220.00</td>\n",
       "    </tr>\n",
       "    <tr>\n",
       "      <th>1</th>\n",
       "      <td>1-Feb-21</td>\n",
       "      <td>M1</td>\n",
       "      <td>Mumbai</td>\n",
       "      <td>Amaretto</td>\n",
       "      <td>$140.00</td>\n",
       "      <td>$34.00</td>\n",
       "      <td>$50.00</td>\n",
       "      <td>$140.00</td>\n",
       "    </tr>\n",
       "    <tr>\n",
       "      <th>2</th>\n",
       "      <td>1-Mar-21</td>\n",
       "      <td>M1</td>\n",
       "      <td>Mumbai</td>\n",
       "      <td>Amaretto</td>\n",
       "      <td>$145.00</td>\n",
       "      <td>-$2.00</td>\n",
       "      <td>$30.00</td>\n",
       "      <td>$180.00</td>\n",
       "    </tr>\n",
       "    <tr>\n",
       "      <th>3</th>\n",
       "      <td>1-Apr-21</td>\n",
       "      <td>M1</td>\n",
       "      <td>Mumbai</td>\n",
       "      <td>Amaretto</td>\n",
       "      <td>$45.00</td>\n",
       "      <td>$11.00</td>\n",
       "      <td>$20.00</td>\n",
       "      <td>$40.00</td>\n",
       "    </tr>\n",
       "    <tr>\n",
       "      <th>4</th>\n",
       "      <td>1-May-21</td>\n",
       "      <td>M1</td>\n",
       "      <td>Mumbai</td>\n",
       "      <td>Amaretto</td>\n",
       "      <td>$120.00</td>\n",
       "      <td>$13.00</td>\n",
       "      <td>$30.00</td>\n",
       "      <td>$120.00</td>\n",
       "    </tr>\n",
       "    <tr>\n",
       "      <th>...</th>\n",
       "      <td>...</td>\n",
       "      <td>...</td>\n",
       "      <td>...</td>\n",
       "      <td>...</td>\n",
       "      <td>...</td>\n",
       "      <td>...</td>\n",
       "      <td>...</td>\n",
       "      <td>...</td>\n",
       "    </tr>\n",
       "    <tr>\n",
       "      <th>4243</th>\n",
       "      <td>1-Aug-26</td>\n",
       "      <td>M1</td>\n",
       "      <td>Mumbai</td>\n",
       "      <td>Regular Espresso</td>\n",
       "      <td>$719.00</td>\n",
       "      <td>$565.00</td>\n",
       "      <td>$390.00</td>\n",
       "      <td>$660.00</td>\n",
       "    </tr>\n",
       "    <tr>\n",
       "      <th>4244</th>\n",
       "      <td>1-Sep-26</td>\n",
       "      <td>M1</td>\n",
       "      <td>Mumbai</td>\n",
       "      <td>Regular Espresso</td>\n",
       "      <td>$81.00</td>\n",
       "      <td>-$4.00</td>\n",
       "      <td>$10.00</td>\n",
       "      <td>$70.00</td>\n",
       "    </tr>\n",
       "    <tr>\n",
       "      <th>4245</th>\n",
       "      <td>1-Oct-26</td>\n",
       "      <td>M1</td>\n",
       "      <td>Mumbai</td>\n",
       "      <td>Regular Espresso</td>\n",
       "      <td>$326.00</td>\n",
       "      <td>$129.00</td>\n",
       "      <td>$80.00</td>\n",
       "      <td>$290.00</td>\n",
       "    </tr>\n",
       "    <tr>\n",
       "      <th>4246</th>\n",
       "      <td>1-Nov-26</td>\n",
       "      <td>M1</td>\n",
       "      <td>Mumbai</td>\n",
       "      <td>Regular Espresso</td>\n",
       "      <td>$700.00</td>\n",
       "      <td>$463.00</td>\n",
       "      <td>$320.00</td>\n",
       "      <td>$640.00</td>\n",
       "    </tr>\n",
       "    <tr>\n",
       "      <th>4247</th>\n",
       "      <td>1-Dec-26</td>\n",
       "      <td>M1</td>\n",
       "      <td>Mumbai</td>\n",
       "      <td>Regular Espresso</td>\n",
       "      <td>$48.00</td>\n",
       "      <td>-$24.00</td>\n",
       "      <td>$10.00</td>\n",
       "      <td>$40.00</td>\n",
       "    </tr>\n",
       "  </tbody>\n",
       "</table>\n",
       "<p>4248 rows × 8 columns</p>\n",
       "</div>"
      ],
      "text/plain": [
       "          Date Franchise    City           Product    Sales   Profit  \\\n",
       "0     1-Jan-21        M1  Mumbai          Amaretto  $219.00   $94.00   \n",
       "1     1-Feb-21        M1  Mumbai          Amaretto  $140.00   $34.00   \n",
       "2     1-Mar-21        M1  Mumbai          Amaretto  $145.00   -$2.00   \n",
       "3     1-Apr-21        M1  Mumbai          Amaretto   $45.00   $11.00   \n",
       "4     1-May-21        M1  Mumbai          Amaretto  $120.00   $13.00   \n",
       "...        ...       ...     ...               ...      ...      ...   \n",
       "4243  1-Aug-26        M1  Mumbai  Regular Espresso  $719.00  $565.00   \n",
       "4244  1-Sep-26        M1  Mumbai  Regular Espresso   $81.00   -$4.00   \n",
       "4245  1-Oct-26        M1  Mumbai  Regular Espresso  $326.00  $129.00   \n",
       "4246  1-Nov-26        M1  Mumbai  Regular Espresso  $700.00  $463.00   \n",
       "4247  1-Dec-26        M1  Mumbai  Regular Espresso   $48.00  -$24.00   \n",
       "\n",
       "     Target Profit Target Sales  \n",
       "0          $100.00      $220.00  \n",
       "1           $50.00      $140.00  \n",
       "2           $30.00      $180.00  \n",
       "3           $20.00       $40.00  \n",
       "4           $30.00      $120.00  \n",
       "...            ...          ...  \n",
       "4243       $390.00      $660.00  \n",
       "4244        $10.00       $70.00  \n",
       "4245        $80.00      $290.00  \n",
       "4246       $320.00      $640.00  \n",
       "4247        $10.00       $40.00  \n",
       "\n",
       "[4248 rows x 8 columns]"
      ]
     },
     "execution_count": 60,
     "metadata": {},
     "output_type": "execute_result"
    }
   ],
   "source": [
    "df.drop(columns= ['Unnamed: 0'], inplace=True)  # Drop column by name\n",
    "df"
   ]
  },
  {
   "cell_type": "markdown",
   "metadata": {},
   "source": [
    "###### Approach 2"
   ]
  },
  {
   "cell_type": "code",
   "execution_count": 76,
   "metadata": {},
   "outputs": [
    {
     "data": {
      "text/html": [
       "<div>\n",
       "<style scoped>\n",
       "    .dataframe tbody tr th:only-of-type {\n",
       "        vertical-align: middle;\n",
       "    }\n",
       "\n",
       "    .dataframe tbody tr th {\n",
       "        vertical-align: top;\n",
       "    }\n",
       "\n",
       "    .dataframe thead th {\n",
       "        text-align: right;\n",
       "    }\n",
       "</style>\n",
       "<table border=\"1\" class=\"dataframe\">\n",
       "  <thead>\n",
       "    <tr style=\"text-align: right;\">\n",
       "      <th></th>\n",
       "      <th>This is dummy data</th>\n",
       "      <th>Unnamed: 1</th>\n",
       "      <th>Unnamed: 2</th>\n",
       "      <th>Unnamed: 3</th>\n",
       "      <th>Unnamed: 4</th>\n",
       "      <th>Unnamed: 5</th>\n",
       "      <th>Unnamed: 6</th>\n",
       "      <th>Unnamed: 7</th>\n",
       "      <th>Unnamed: 8</th>\n",
       "    </tr>\n",
       "  </thead>\n",
       "  <tbody>\n",
       "    <tr>\n",
       "      <th>0</th>\n",
       "      <td>NaN</td>\n",
       "      <td>NaN</td>\n",
       "      <td>NaN</td>\n",
       "      <td>NaN</td>\n",
       "      <td>NaN</td>\n",
       "      <td>NaN</td>\n",
       "      <td>NaN</td>\n",
       "      <td>NaN</td>\n",
       "      <td>NaN</td>\n",
       "    </tr>\n",
       "    <tr>\n",
       "      <th>1</th>\n",
       "      <td>NaN</td>\n",
       "      <td>NaN</td>\n",
       "      <td>NaN</td>\n",
       "      <td>NaN</td>\n",
       "      <td>NaN</td>\n",
       "      <td>NaN</td>\n",
       "      <td>NaN</td>\n",
       "      <td>NaN</td>\n",
       "      <td>NaN</td>\n",
       "    </tr>\n",
       "    <tr>\n",
       "      <th>2</th>\n",
       "      <td>NaN</td>\n",
       "      <td>Date</td>\n",
       "      <td>Franchise</td>\n",
       "      <td>City</td>\n",
       "      <td>Product</td>\n",
       "      <td>Sales</td>\n",
       "      <td>Profit</td>\n",
       "      <td>Target Profit</td>\n",
       "      <td>Target Sales</td>\n",
       "    </tr>\n",
       "    <tr>\n",
       "      <th>3</th>\n",
       "      <td>NaN</td>\n",
       "      <td>1-Jan-21</td>\n",
       "      <td>M1</td>\n",
       "      <td>Mumbai</td>\n",
       "      <td>Amaretto</td>\n",
       "      <td>$219.00</td>\n",
       "      <td>$94.00</td>\n",
       "      <td>$100.00</td>\n",
       "      <td>$220.00</td>\n",
       "    </tr>\n",
       "    <tr>\n",
       "      <th>4</th>\n",
       "      <td>NaN</td>\n",
       "      <td>1-Feb-21</td>\n",
       "      <td>M1</td>\n",
       "      <td>Mumbai</td>\n",
       "      <td>Amaretto</td>\n",
       "      <td>$140.00</td>\n",
       "      <td>$34.00</td>\n",
       "      <td>$50.00</td>\n",
       "      <td>$140.00</td>\n",
       "    </tr>\n",
       "    <tr>\n",
       "      <th>...</th>\n",
       "      <td>...</td>\n",
       "      <td>...</td>\n",
       "      <td>...</td>\n",
       "      <td>...</td>\n",
       "      <td>...</td>\n",
       "      <td>...</td>\n",
       "      <td>...</td>\n",
       "      <td>...</td>\n",
       "      <td>...</td>\n",
       "    </tr>\n",
       "    <tr>\n",
       "      <th>4246</th>\n",
       "      <td>NaN</td>\n",
       "      <td>1-Aug-26</td>\n",
       "      <td>M1</td>\n",
       "      <td>Mumbai</td>\n",
       "      <td>Regular Espresso</td>\n",
       "      <td>$719.00</td>\n",
       "      <td>$565.00</td>\n",
       "      <td>$390.00</td>\n",
       "      <td>$660.00</td>\n",
       "    </tr>\n",
       "    <tr>\n",
       "      <th>4247</th>\n",
       "      <td>NaN</td>\n",
       "      <td>1-Sep-26</td>\n",
       "      <td>M1</td>\n",
       "      <td>Mumbai</td>\n",
       "      <td>Regular Espresso</td>\n",
       "      <td>$81.00</td>\n",
       "      <td>-$4.00</td>\n",
       "      <td>$10.00</td>\n",
       "      <td>$70.00</td>\n",
       "    </tr>\n",
       "    <tr>\n",
       "      <th>4248</th>\n",
       "      <td>NaN</td>\n",
       "      <td>1-Oct-26</td>\n",
       "      <td>M1</td>\n",
       "      <td>Mumbai</td>\n",
       "      <td>Regular Espresso</td>\n",
       "      <td>$326.00</td>\n",
       "      <td>$129.00</td>\n",
       "      <td>$80.00</td>\n",
       "      <td>$290.00</td>\n",
       "    </tr>\n",
       "    <tr>\n",
       "      <th>4249</th>\n",
       "      <td>NaN</td>\n",
       "      <td>1-Nov-26</td>\n",
       "      <td>M1</td>\n",
       "      <td>Mumbai</td>\n",
       "      <td>Regular Espresso</td>\n",
       "      <td>$700.00</td>\n",
       "      <td>$463.00</td>\n",
       "      <td>$320.00</td>\n",
       "      <td>$640.00</td>\n",
       "    </tr>\n",
       "    <tr>\n",
       "      <th>4250</th>\n",
       "      <td>NaN</td>\n",
       "      <td>1-Dec-26</td>\n",
       "      <td>M1</td>\n",
       "      <td>Mumbai</td>\n",
       "      <td>Regular Espresso</td>\n",
       "      <td>$48.00</td>\n",
       "      <td>-$24.00</td>\n",
       "      <td>$10.00</td>\n",
       "      <td>$40.00</td>\n",
       "    </tr>\n",
       "  </tbody>\n",
       "</table>\n",
       "<p>4251 rows × 9 columns</p>\n",
       "</div>"
      ],
      "text/plain": [
       "      This is dummy data Unnamed: 1 Unnamed: 2 Unnamed: 3        Unnamed: 4  \\\n",
       "0                    NaN        NaN        NaN        NaN               NaN   \n",
       "1                    NaN        NaN        NaN        NaN               NaN   \n",
       "2                    NaN       Date  Franchise       City           Product   \n",
       "3                    NaN   1-Jan-21         M1     Mumbai          Amaretto   \n",
       "4                    NaN   1-Feb-21         M1     Mumbai          Amaretto   \n",
       "...                  ...        ...        ...        ...               ...   \n",
       "4246                 NaN   1-Aug-26         M1     Mumbai  Regular Espresso   \n",
       "4247                 NaN   1-Sep-26         M1     Mumbai  Regular Espresso   \n",
       "4248                 NaN   1-Oct-26         M1     Mumbai  Regular Espresso   \n",
       "4249                 NaN   1-Nov-26         M1     Mumbai  Regular Espresso   \n",
       "4250                 NaN   1-Dec-26         M1     Mumbai  Regular Espresso   \n",
       "\n",
       "     Unnamed: 5 Unnamed: 6     Unnamed: 7    Unnamed: 8  \n",
       "0           NaN        NaN            NaN           NaN  \n",
       "1           NaN        NaN            NaN           NaN  \n",
       "2         Sales     Profit  Target Profit  Target Sales  \n",
       "3       $219.00     $94.00        $100.00       $220.00  \n",
       "4       $140.00     $34.00         $50.00       $140.00  \n",
       "...         ...        ...            ...           ...  \n",
       "4246    $719.00    $565.00        $390.00       $660.00  \n",
       "4247     $81.00     -$4.00         $10.00        $70.00  \n",
       "4248    $326.00    $129.00         $80.00       $290.00  \n",
       "4249    $700.00    $463.00        $320.00       $640.00  \n",
       "4250     $48.00    -$24.00         $10.00        $40.00  \n",
       "\n",
       "[4251 rows x 9 columns]"
      ]
     },
     "execution_count": 76,
     "metadata": {},
     "output_type": "execute_result"
    }
   ],
   "source": [
    "df = pd.read_csv(\"coffee_sales.csv\")  # Read Data \n",
    "df"
   ]
  },
  {
   "cell_type": "markdown",
   "metadata": {
    "id": "eLCMw924aQpm"
   },
   "source": [
    "**df.dropna(`axis = 0`, `how = \"any\"`, `inplace = False`)**\n",
    "- axis 0 for row or 1 for column\n",
    "- how - {any or all}"
   ]
  },
  {
   "cell_type": "code",
   "execution_count": 77,
   "metadata": {},
   "outputs": [],
   "source": [
    "# Remove null rows\n",
    "df.dropna(how=\"all\", axis=0, inplace=True) # Delete a row with all null value - remove any null row in entire table, but header is not set\n",
    "df.columns = df.iloc[0]"
   ]
  },
  {
   "cell_type": "code",
   "execution_count": 78,
   "metadata": {},
   "outputs": [],
   "source": [
    "# Remove null cols\n",
    "df.dropna(axis=1, how=\"all\", inplace=True)"
   ]
  },
  {
   "cell_type": "code",
   "execution_count": null,
   "metadata": {},
   "outputs": [],
   "source": [
    "df = df.iloc[1:]  # using slicing to extract all rows except first "
   ]
  },
  {
   "cell_type": "code",
   "execution_count": 82,
   "metadata": {},
   "outputs": [],
   "source": [
    "df.reset_index(drop= True, inplace=True)"
   ]
  },
  {
   "cell_type": "code",
   "execution_count": 83,
   "metadata": {},
   "outputs": [
    {
     "data": {
      "text/html": [
       "<div>\n",
       "<style scoped>\n",
       "    .dataframe tbody tr th:only-of-type {\n",
       "        vertical-align: middle;\n",
       "    }\n",
       "\n",
       "    .dataframe tbody tr th {\n",
       "        vertical-align: top;\n",
       "    }\n",
       "\n",
       "    .dataframe thead th {\n",
       "        text-align: right;\n",
       "    }\n",
       "</style>\n",
       "<table border=\"1\" class=\"dataframe\">\n",
       "  <thead>\n",
       "    <tr style=\"text-align: right;\">\n",
       "      <th>2</th>\n",
       "      <th>Date</th>\n",
       "      <th>Franchise</th>\n",
       "      <th>City</th>\n",
       "      <th>Product</th>\n",
       "      <th>Sales</th>\n",
       "      <th>Profit</th>\n",
       "      <th>Target Profit</th>\n",
       "      <th>Target Sales</th>\n",
       "    </tr>\n",
       "  </thead>\n",
       "  <tbody>\n",
       "    <tr>\n",
       "      <th>0</th>\n",
       "      <td>1-Jan-21</td>\n",
       "      <td>M1</td>\n",
       "      <td>Mumbai</td>\n",
       "      <td>Amaretto</td>\n",
       "      <td>$219.00</td>\n",
       "      <td>$94.00</td>\n",
       "      <td>$100.00</td>\n",
       "      <td>$220.00</td>\n",
       "    </tr>\n",
       "    <tr>\n",
       "      <th>1</th>\n",
       "      <td>1-Feb-21</td>\n",
       "      <td>M1</td>\n",
       "      <td>Mumbai</td>\n",
       "      <td>Amaretto</td>\n",
       "      <td>$140.00</td>\n",
       "      <td>$34.00</td>\n",
       "      <td>$50.00</td>\n",
       "      <td>$140.00</td>\n",
       "    </tr>\n",
       "    <tr>\n",
       "      <th>2</th>\n",
       "      <td>1-Mar-21</td>\n",
       "      <td>M1</td>\n",
       "      <td>Mumbai</td>\n",
       "      <td>Amaretto</td>\n",
       "      <td>$145.00</td>\n",
       "      <td>-$2.00</td>\n",
       "      <td>$30.00</td>\n",
       "      <td>$180.00</td>\n",
       "    </tr>\n",
       "    <tr>\n",
       "      <th>3</th>\n",
       "      <td>1-Apr-21</td>\n",
       "      <td>M1</td>\n",
       "      <td>Mumbai</td>\n",
       "      <td>Amaretto</td>\n",
       "      <td>$45.00</td>\n",
       "      <td>$11.00</td>\n",
       "      <td>$20.00</td>\n",
       "      <td>$40.00</td>\n",
       "    </tr>\n",
       "    <tr>\n",
       "      <th>4</th>\n",
       "      <td>1-May-21</td>\n",
       "      <td>M1</td>\n",
       "      <td>Mumbai</td>\n",
       "      <td>Amaretto</td>\n",
       "      <td>$120.00</td>\n",
       "      <td>$13.00</td>\n",
       "      <td>$30.00</td>\n",
       "      <td>$120.00</td>\n",
       "    </tr>\n",
       "    <tr>\n",
       "      <th>...</th>\n",
       "      <td>...</td>\n",
       "      <td>...</td>\n",
       "      <td>...</td>\n",
       "      <td>...</td>\n",
       "      <td>...</td>\n",
       "      <td>...</td>\n",
       "      <td>...</td>\n",
       "      <td>...</td>\n",
       "    </tr>\n",
       "    <tr>\n",
       "      <th>4243</th>\n",
       "      <td>1-Aug-26</td>\n",
       "      <td>M1</td>\n",
       "      <td>Mumbai</td>\n",
       "      <td>Regular Espresso</td>\n",
       "      <td>$719.00</td>\n",
       "      <td>$565.00</td>\n",
       "      <td>$390.00</td>\n",
       "      <td>$660.00</td>\n",
       "    </tr>\n",
       "    <tr>\n",
       "      <th>4244</th>\n",
       "      <td>1-Sep-26</td>\n",
       "      <td>M1</td>\n",
       "      <td>Mumbai</td>\n",
       "      <td>Regular Espresso</td>\n",
       "      <td>$81.00</td>\n",
       "      <td>-$4.00</td>\n",
       "      <td>$10.00</td>\n",
       "      <td>$70.00</td>\n",
       "    </tr>\n",
       "    <tr>\n",
       "      <th>4245</th>\n",
       "      <td>1-Oct-26</td>\n",
       "      <td>M1</td>\n",
       "      <td>Mumbai</td>\n",
       "      <td>Regular Espresso</td>\n",
       "      <td>$326.00</td>\n",
       "      <td>$129.00</td>\n",
       "      <td>$80.00</td>\n",
       "      <td>$290.00</td>\n",
       "    </tr>\n",
       "    <tr>\n",
       "      <th>4246</th>\n",
       "      <td>1-Nov-26</td>\n",
       "      <td>M1</td>\n",
       "      <td>Mumbai</td>\n",
       "      <td>Regular Espresso</td>\n",
       "      <td>$700.00</td>\n",
       "      <td>$463.00</td>\n",
       "      <td>$320.00</td>\n",
       "      <td>$640.00</td>\n",
       "    </tr>\n",
       "    <tr>\n",
       "      <th>4247</th>\n",
       "      <td>1-Dec-26</td>\n",
       "      <td>M1</td>\n",
       "      <td>Mumbai</td>\n",
       "      <td>Regular Espresso</td>\n",
       "      <td>$48.00</td>\n",
       "      <td>-$24.00</td>\n",
       "      <td>$10.00</td>\n",
       "      <td>$40.00</td>\n",
       "    </tr>\n",
       "  </tbody>\n",
       "</table>\n",
       "<p>4248 rows × 8 columns</p>\n",
       "</div>"
      ],
      "text/plain": [
       "2         Date Franchise    City           Product    Sales   Profit  \\\n",
       "0     1-Jan-21        M1  Mumbai          Amaretto  $219.00   $94.00   \n",
       "1     1-Feb-21        M1  Mumbai          Amaretto  $140.00   $34.00   \n",
       "2     1-Mar-21        M1  Mumbai          Amaretto  $145.00   -$2.00   \n",
       "3     1-Apr-21        M1  Mumbai          Amaretto   $45.00   $11.00   \n",
       "4     1-May-21        M1  Mumbai          Amaretto  $120.00   $13.00   \n",
       "...        ...       ...     ...               ...      ...      ...   \n",
       "4243  1-Aug-26        M1  Mumbai  Regular Espresso  $719.00  $565.00   \n",
       "4244  1-Sep-26        M1  Mumbai  Regular Espresso   $81.00   -$4.00   \n",
       "4245  1-Oct-26        M1  Mumbai  Regular Espresso  $326.00  $129.00   \n",
       "4246  1-Nov-26        M1  Mumbai  Regular Espresso  $700.00  $463.00   \n",
       "4247  1-Dec-26        M1  Mumbai  Regular Espresso   $48.00  -$24.00   \n",
       "\n",
       "2    Target Profit Target Sales  \n",
       "0          $100.00      $220.00  \n",
       "1           $50.00      $140.00  \n",
       "2           $30.00      $180.00  \n",
       "3           $20.00       $40.00  \n",
       "4           $30.00      $120.00  \n",
       "...            ...          ...  \n",
       "4243       $390.00      $660.00  \n",
       "4244        $10.00       $70.00  \n",
       "4245        $80.00      $290.00  \n",
       "4246       $320.00      $640.00  \n",
       "4247        $10.00       $40.00  \n",
       "\n",
       "[4248 rows x 8 columns]"
      ]
     },
     "execution_count": 83,
     "metadata": {},
     "output_type": "execute_result"
    }
   ],
   "source": [
    "df"
   ]
  },
  {
   "cell_type": "code",
   "execution_count": null,
   "metadata": {},
   "outputs": [],
   "source": []
  },
  {
   "cell_type": "code",
   "execution_count": null,
   "metadata": {},
   "outputs": [],
   "source": []
  },
  {
   "cell_type": "code",
   "execution_count": null,
   "metadata": {},
   "outputs": [],
   "source": []
  },
  {
   "cell_type": "code",
   "execution_count": null,
   "metadata": {},
   "outputs": [],
   "source": []
  },
  {
   "cell_type": "code",
   "execution_count": null,
   "metadata": {},
   "outputs": [],
   "source": []
  },
  {
   "cell_type": "code",
   "execution_count": null,
   "metadata": {},
   "outputs": [],
   "source": []
  },
  {
   "cell_type": "markdown",
   "metadata": {
    "id": "oCaRpnewaQpk"
   },
   "source": [
    "### Drop a column or row from dataframe"
   ]
  },
  {
   "cell_type": "code",
   "execution_count": null,
   "metadata": {
    "id": "3_QOBOO9aQpl"
   },
   "outputs": [],
   "source": []
  },
  {
   "cell_type": "code",
   "execution_count": null,
   "metadata": {
    "id": "319H3bxraQpm"
   },
   "outputs": [],
   "source": []
  },
  {
   "cell_type": "markdown",
   "metadata": {
    "id": "Wyt3gvJkaQpm"
   },
   "source": [
    "### Renaming a Columns"
   ]
  },
  {
   "cell_type": "markdown",
   "metadata": {},
   "source": [
    "<br><br><br><br><br><br><br><br><br><br><br><br><br><br><br>"
   ]
  },
  {
   "cell_type": "markdown",
   "metadata": {
    "id": "SLFDWCNhaQpm"
   },
   "source": [
    "###### Rename Columns (column 5 - 8 are not accessible)"
   ]
  },
  {
   "cell_type": "code",
   "execution_count": null,
   "metadata": {
    "id": "2lFqRxSQaQpn"
   },
   "outputs": [],
   "source": [
    "headers = [\"ShopID\", \"Year/Month\", \"Product\", \"Product Type\", \"State\", \"Target Profit\", \"Target Sales\", \"Profit\", \"Sales\"]\n"
   ]
  },
  {
   "cell_type": "markdown",
   "metadata": {
    "id": "ULHNtEg1aQpn"
   },
   "source": [
    "#### Rename Single Column"
   ]
  },
  {
   "cell_type": "code",
   "execution_count": null,
   "metadata": {
    "id": "Q1u76SjxaQpn"
   },
   "outputs": [],
   "source": []
  },
  {
   "cell_type": "markdown",
   "metadata": {
    "id": "0j71BjYoaQpn"
   },
   "source": [
    "### Understanding Data in Dataframe\n",
    "\n",
    "- `df.shape` - gives the size of the dataframe in the format (row_count x column_count)\n",
    "- `df.dtypes` - returns a Series with the data type of each column\n",
    "- `df.info()` - prints information about a DataFrame including the index dtype and columns, non-null values and memory usage\n",
    "- `df.head()` - prints the first 5 rows of you dataset including column header and the content of each row\n",
    "- `df.tail()` - prints the last 5 rows of you dataset including column header and the content of each row"
   ]
  },
  {
   "cell_type": "code",
   "execution_count": null,
   "metadata": {
    "id": "3qcO_FpVaQpn"
   },
   "outputs": [],
   "source": [
    "df_coffee.shape"
   ]
  },
  {
   "cell_type": "code",
   "execution_count": null,
   "metadata": {
    "id": "Ld93P56caQpn"
   },
   "outputs": [],
   "source": [
    "df_coffee.dtypes"
   ]
  },
  {
   "cell_type": "code",
   "execution_count": null,
   "metadata": {
    "id": "xfycjqXWaQpo"
   },
   "outputs": [],
   "source": [
    "df_coffee.info()"
   ]
  },
  {
   "cell_type": "code",
   "execution_count": null,
   "metadata": {
    "id": "9C86SjRmaQpo"
   },
   "outputs": [],
   "source": [
    "df_coffee.head()"
   ]
  },
  {
   "cell_type": "code",
   "execution_count": null,
   "metadata": {
    "id": "NOwl83yVaQpo"
   },
   "outputs": [],
   "source": [
    "df_coffee.head(3)"
   ]
  },
  {
   "cell_type": "code",
   "execution_count": null,
   "metadata": {
    "id": "fYRCzZUPaQpo"
   },
   "outputs": [],
   "source": [
    "df_coffee.tail()"
   ]
  },
  {
   "cell_type": "code",
   "execution_count": null,
   "metadata": {
    "id": "ATgfSROEaQpo"
   },
   "outputs": [],
   "source": [
    "df_coffee.tail(3)"
   ]
  },
  {
   "cell_type": "markdown",
   "metadata": {
    "id": "5CFMm1uUaQpp"
   },
   "source": [
    "### Cleaning data\n",
    "\n",
    "`df.apply()`"
   ]
  },
  {
   "cell_type": "markdown",
   "metadata": {
    "id": "MSEkKKh-aQpp"
   },
   "source": [
    "###### Convertinf Franchise into str"
   ]
  },
  {
   "cell_type": "code",
   "execution_count": null,
   "metadata": {
    "id": "pyWzEmfOaQpq"
   },
   "outputs": [],
   "source": []
  },
  {
   "cell_type": "markdown",
   "metadata": {
    "id": "eNb7M4fEaQpq"
   },
   "source": [
    "###### Ex. Converting Sales and Profits columns to float types"
   ]
  },
  {
   "cell_type": "code",
   "execution_count": null,
   "metadata": {
    "id": "7xRefZ0maQpq"
   },
   "outputs": [],
   "source": []
  },
  {
   "cell_type": "markdown",
   "metadata": {
    "id": "_eTN-WE8aQpq"
   },
   "source": [
    "### Working with **null** values\n",
    "\n",
    "`df.isna()` - Detect missing values. Return a boolean same-sized object indicating if the values are NA.\n",
    "\n",
    "`df.fillna(value=None, inplace=False)` - Fill NA/NaN values using the specified method."
   ]
  },
  {
   "cell_type": "code",
   "execution_count": null,
   "metadata": {
    "id": "m-vBFbslaQpq"
   },
   "outputs": [],
   "source": []
  },
  {
   "cell_type": "markdown",
   "metadata": {
    "id": "f97Zl37RaQpq"
   },
   "source": [
    "###### Ex. Identify Sales made by 'Caffe Latte'"
   ]
  },
  {
   "cell_type": "code",
   "execution_count": null,
   "metadata": {
    "id": "Cj1ObY9laQpq"
   },
   "outputs": [],
   "source": []
  },
  {
   "cell_type": "markdown",
   "metadata": {
    "id": "DxivtiVmaQpr"
   },
   "source": [
    "### Removing Duplicate Data"
   ]
  },
  {
   "cell_type": "code",
   "execution_count": null,
   "metadata": {
    "id": "HC0RoOSPaQpr"
   },
   "outputs": [],
   "source": []
  },
  {
   "cell_type": "markdown",
   "metadata": {
    "id": "EgteLlmQaQpr"
   },
   "source": [
    "### Replacing values\n",
    "\n",
    "df.replace(old_value, new_value, inplace=True)"
   ]
  },
  {
   "cell_type": "code",
   "execution_count": null,
   "metadata": {
    "id": "3AtOmRVHaQpr"
   },
   "outputs": [],
   "source": []
  },
  {
   "cell_type": "markdown",
   "metadata": {
    "id": "5NZZ0mFhaQpr"
   },
   "source": [
    "### Adding a new Column by calculation"
   ]
  },
  {
   "cell_type": "markdown",
   "metadata": {
    "id": "HD0rBNHuaQps"
   },
   "source": [
    "###### Ex. Create columns showing `Sales` and `Profit` targets achieved"
   ]
  },
  {
   "cell_type": "code",
   "execution_count": null,
   "metadata": {
    "id": "q5yHUyFPaQps"
   },
   "outputs": [],
   "source": []
  },
  {
   "cell_type": "markdown",
   "metadata": {
    "id": "OgMsCXjIaQps"
   },
   "source": [
    "###### Ex. Count the number times Targets are achieved"
   ]
  },
  {
   "cell_type": "code",
   "execution_count": null,
   "metadata": {
    "id": "9KcuJ_fraQps"
   },
   "outputs": [],
   "source": []
  },
  {
   "cell_type": "markdown",
   "metadata": {
    "id": "cBMGbqmsaQpt"
   },
   "source": [
    "### Creating a bar chart to view Target Status"
   ]
  },
  {
   "cell_type": "markdown",
   "metadata": {
    "id": "z_qXwtBxaQpt"
   },
   "source": [
    "#### using matplpotlib"
   ]
  },
  {
   "cell_type": "code",
   "execution_count": null,
   "metadata": {
    "id": "soNzjwLqaQpt"
   },
   "outputs": [],
   "source": []
  },
  {
   "cell_type": "markdown",
   "metadata": {
    "id": "TKon3pLvaQpu"
   },
   "source": [
    "#### using pandas"
   ]
  },
  {
   "cell_type": "code",
   "execution_count": null,
   "metadata": {
    "id": "1WfD5XyIaQpu"
   },
   "outputs": [],
   "source": []
  },
  {
   "cell_type": "markdown",
   "metadata": {
    "id": "uSofSsYRaQpu"
   },
   "source": [
    "#### using seaborn"
   ]
  },
  {
   "cell_type": "code",
   "execution_count": null,
   "metadata": {
    "id": "fiSLVyE6aQpu"
   },
   "outputs": [],
   "source": []
  },
  {
   "cell_type": "markdown",
   "metadata": {
    "id": "6V5ctOdOaQpv"
   },
   "source": [
    "### Setting and Resetting Index"
   ]
  },
  {
   "cell_type": "markdown",
   "metadata": {
    "id": "U9BowMzJaQpw"
   },
   "source": [
    "#### Seting Index\n",
    "`df.set_index(keys, drop=True, inplace=False,)`- Set the DataFrame index (row labels) using one or more existing columns or arrays (of the correct length). The index can replace the existing index or expand on it."
   ]
  },
  {
   "cell_type": "code",
   "execution_count": null,
   "metadata": {
    "id": "eolia_2-aQpw"
   },
   "outputs": [],
   "source": []
  },
  {
   "cell_type": "markdown",
   "metadata": {
    "id": "OZCzdxB8aQpw"
   },
   "source": [
    "#### Resetting Index\n",
    "\n",
    "`df.reset_index(level=None, drop=False, inplace=False,)` - Reset the index of the DataFrame, and use the default one instead. If the DataFrame has a MultiIndex, this method can remove one or more levels."
   ]
  },
  {
   "cell_type": "code",
   "execution_count": null,
   "metadata": {
    "id": "FpXI8MT4aQpw"
   },
   "outputs": [],
   "source": []
  },
  {
   "cell_type": "markdown",
   "metadata": {
    "id": "NJEY-IiWaQpx"
   },
   "source": [
    "### Indexing and Slicing using loc and iloc"
   ]
  },
  {
   "cell_type": "markdown",
   "metadata": {
    "id": "BeWuc1vkaQpy"
   },
   "source": [
    "#### Using loc to retrive data\n",
    "\n",
    "- loc is label-based\n",
    "- specify the name of the rows and columns that we need to filter out"
   ]
  },
  {
   "cell_type": "markdown",
   "metadata": {
    "id": "QOqVPSk4aQpz"
   },
   "source": [
    "###### Ex. Extract data for franchise 203"
   ]
  },
  {
   "cell_type": "code",
   "execution_count": null,
   "metadata": {
    "id": "r_ocjku2aQp0"
   },
   "outputs": [],
   "source": []
  },
  {
   "cell_type": "markdown",
   "metadata": {
    "id": "p2oj6oleaQp0"
   },
   "source": [
    "###### Ex. Extract `City` column"
   ]
  },
  {
   "cell_type": "code",
   "execution_count": null,
   "metadata": {
    "id": "-1rDjjGvaQp3"
   },
   "outputs": [],
   "source": []
  },
  {
   "cell_type": "markdown",
   "metadata": {
    "id": "TwoQxDapaQp3"
   },
   "source": [
    "###### Ex. Extract `Sales` column for `Franchise - 203`"
   ]
  },
  {
   "cell_type": "code",
   "execution_count": null,
   "metadata": {
    "id": "YiWk3vZ1aQp3"
   },
   "outputs": [],
   "source": []
  },
  {
   "cell_type": "markdown",
   "metadata": {
    "id": "-znDlfY6aQp4"
   },
   "source": [
    "###### Ex. Extract `Sales` and `Profit` column for `Franchise - 203, 504`"
   ]
  },
  {
   "cell_type": "code",
   "execution_count": null,
   "metadata": {
    "id": "mY4ttEqVaQp4"
   },
   "outputs": [],
   "source": []
  },
  {
   "cell_type": "markdown",
   "metadata": {
    "id": "cnODIqNgaQp4"
   },
   "source": [
    "#### Using iloc to retrive data\n",
    "\n",
    "- iloc is integer index-based\n",
    "- specify rows and columns by their integer index."
   ]
  },
  {
   "cell_type": "markdown",
   "metadata": {
    "id": "SIJgZdRqaQp5"
   },
   "source": [
    "###### Ex. Extract row at index 2"
   ]
  },
  {
   "cell_type": "code",
   "execution_count": null,
   "metadata": {
    "id": "8TQGTUumaQp5"
   },
   "outputs": [],
   "source": []
  },
  {
   "cell_type": "markdown",
   "metadata": {
    "id": "kw_5pji2aQp5"
   },
   "source": [
    "###### Ex. Extract rows at index position 2,3,4"
   ]
  },
  {
   "cell_type": "code",
   "execution_count": null,
   "metadata": {
    "id": "QVyKK2JfaQp6"
   },
   "outputs": [],
   "source": []
  },
  {
   "cell_type": "markdown",
   "metadata": {
    "id": "gb9mRD3gaQp6"
   },
   "source": [
    "###### Ex. Extract column at index 0"
   ]
  },
  {
   "cell_type": "code",
   "execution_count": null,
   "metadata": {
    "id": "ouU8U3pPaQp6"
   },
   "outputs": [],
   "source": []
  },
  {
   "cell_type": "markdown",
   "metadata": {
    "id": "kGAsH7QmaQp6"
   },
   "source": [
    "###### Ex. Extract column from index 0 to 2"
   ]
  },
  {
   "cell_type": "code",
   "execution_count": null,
   "metadata": {
    "id": "yhVG0N1faQp6"
   },
   "outputs": [],
   "source": []
  },
  {
   "cell_type": "markdown",
   "metadata": {
    "id": "sHC-uVGuaQp7"
   },
   "source": [
    "###### Ex. Extra rows 0 to 2 and columns 0 to 2"
   ]
  },
  {
   "cell_type": "code",
   "execution_count": null,
   "metadata": {
    "id": "y6ARakhfaQp7"
   },
   "outputs": [],
   "source": []
  },
  {
   "cell_type": "markdown",
   "metadata": {
    "id": "czcZLDWwaQp7"
   },
   "source": [
    "### Working with dates"
   ]
  },
  {
   "cell_type": "code",
   "execution_count": null,
   "metadata": {
    "id": "KRMBDDqvaQp7"
   },
   "outputs": [],
   "source": []
  },
  {
   "cell_type": "markdown",
   "metadata": {
    "id": "j9maHWoUaQp7"
   },
   "source": [
    "#### Insert a column in between\n",
    "df.insert(`index`, `column_name`, `default_value`)"
   ]
  },
  {
   "cell_type": "markdown",
   "metadata": {
    "id": "dNRt8QUXaQp7"
   },
   "source": [
    "###### Create columns Year and Month - extract data using pd.DatetimeIndex"
   ]
  },
  {
   "cell_type": "code",
   "execution_count": null,
   "metadata": {
    "id": "vyc2GKmOaQp8"
   },
   "outputs": [],
   "source": []
  },
  {
   "cell_type": "markdown",
   "metadata": {
    "id": "mPIxAAueaQp-"
   },
   "source": [
    "###### Extract data for 2018"
   ]
  },
  {
   "cell_type": "code",
   "execution_count": null,
   "metadata": {},
   "outputs": [],
   "source": []
  },
  {
   "cell_type": "markdown",
   "metadata": {
    "id": "mPIxAAueaQp-"
   },
   "source": [
    "###### Extract data for Jan - 2018"
   ]
  },
  {
   "cell_type": "code",
   "execution_count": null,
   "metadata": {},
   "outputs": [],
   "source": []
  },
  {
   "cell_type": "markdown",
   "metadata": {
    "id": "mPIxAAueaQp-"
   },
   "source": [
    "###### Extract data for Jan - 2018 and 2019"
   ]
  },
  {
   "cell_type": "code",
   "execution_count": null,
   "metadata": {},
   "outputs": [],
   "source": []
  },
  {
   "cell_type": "markdown",
   "metadata": {
    "id": "mPIxAAueaQp-"
   },
   "source": [
    "###### Extract data starting from April - 2019"
   ]
  },
  {
   "cell_type": "code",
   "execution_count": null,
   "metadata": {},
   "outputs": [],
   "source": []
  },
  {
   "cell_type": "markdown",
   "metadata": {
    "id": "mPIxAAueaQp-"
   },
   "source": [
    "###### Extract data from Jan-2019 to Apr-2019"
   ]
  },
  {
   "cell_type": "code",
   "execution_count": null,
   "metadata": {},
   "outputs": [],
   "source": []
  },
  {
   "cell_type": "markdown",
   "metadata": {
    "id": "VmKAkqglaQp-"
   },
   "source": [
    "### Ranking and Sorting Dataframes"
   ]
  },
  {
   "cell_type": "markdown",
   "metadata": {
    "id": "8oM-uFACaQp-"
   },
   "source": [
    "###### Ex. Rank the products in descending order of `Sales`"
   ]
  },
  {
   "cell_type": "code",
   "execution_count": null,
   "metadata": {
    "id": "raFIqSnnaQp-"
   },
   "outputs": [],
   "source": []
  },
  {
   "cell_type": "markdown",
   "metadata": {
    "id": "VNuIqM6aaQp-"
   },
   "source": [
    "###### Ex. Sort the data in ascending order of `Rank`"
   ]
  },
  {
   "cell_type": "code",
   "execution_count": null,
   "metadata": {
    "id": "Towhj6x8aQp-"
   },
   "outputs": [],
   "source": []
  },
  {
   "cell_type": "markdown",
   "metadata": {
    "id": "fPvpjhHdaQp_"
   },
   "source": [
    "### Grouping Dataframes"
   ]
  },
  {
   "cell_type": "markdown",
   "metadata": {
    "id": "fV4dbr1faQp_"
   },
   "source": [
    "##### `df.groupby(by=None, as_index=True, sort=True, dropna=True)`"
   ]
  },
  {
   "cell_type": "markdown",
   "metadata": {
    "id": "S_rTrXHTaQp_"
   },
   "source": [
    "###### Ex. Find product wise total Sales - bar chart"
   ]
  },
  {
   "cell_type": "code",
   "execution_count": null,
   "metadata": {
    "id": "Xtve-lAkaQp_"
   },
   "outputs": [],
   "source": []
  },
  {
   "cell_type": "markdown",
   "metadata": {
    "id": "D5m6S_CKaQqA"
   },
   "source": [
    "#### use of `agg()`"
   ]
  },
  {
   "cell_type": "markdown",
   "metadata": {
    "id": "zu9Y75d1aQqA"
   },
   "source": [
    "###### Ex. Extract Monthly Sales and Profit"
   ]
  },
  {
   "cell_type": "code",
   "execution_count": null,
   "metadata": {
    "id": "fd3m_OjXaQqC"
   },
   "outputs": [],
   "source": []
  },
  {
   "cell_type": "markdown",
   "metadata": {
    "id": "zghj3tabaQqC"
   },
   "source": [
    "### Analysing Dataframes"
   ]
  },
  {
   "cell_type": "markdown",
   "metadata": {
    "id": "CDCkyN3haQqD"
   },
   "source": [
    "- univariate analysis - boxplot, histogram, value_counts(), countplot, describe()\n",
    "- bivariate analysis\n",
    "    - categorial X numerical - barchart, piechart\n",
    "    - 2 numerical - scatter plot\n",
    "    - 2 categorial - crosstab\n",
    "- multivariate - pivot table"
   ]
  },
  {
   "cell_type": "markdown",
   "metadata": {
    "id": "SjxYwGuEaQqD"
   },
   "source": [
    "### Univariate Analysis"
   ]
  },
  {
   "cell_type": "markdown",
   "metadata": {
    "id": "60twSvCQaQqD"
   },
   "source": [
    "#### Summary Statistics"
   ]
  },
  {
   "cell_type": "markdown",
   "metadata": {
    "id": "1fMci3jjaQqD"
   },
   "source": [
    "`df.describe()` **- Generates descriptive statistics. Descriptive statistics include those that summarize the central tendency, dispersion and shape of a dataset’s distribution, excluding NaN values. Analyzes both numeric and object series, as well as DataFrame column sets of mixed data types. The output will vary depending on what is provided.**"
   ]
  },
  {
   "cell_type": "code",
   "execution_count": null,
   "metadata": {
    "id": "qQSgFRktaQqE"
   },
   "outputs": [],
   "source": []
  },
  {
   "cell_type": "markdown",
   "metadata": {
    "id": "pRshZvV2aQqE"
   },
   "source": [
    "`df.value_counts(normalize = False)` **- returns a Series containing counts of unique rows in the DataFrame**"
   ]
  },
  {
   "cell_type": "code",
   "execution_count": null,
   "metadata": {
    "id": "9NQSSekiaQqG"
   },
   "outputs": [],
   "source": []
  },
  {
   "cell_type": "markdown",
   "metadata": {
    "id": "_YBX7kAoaQqH"
   },
   "source": [
    "#### Histogram"
   ]
  },
  {
   "cell_type": "code",
   "execution_count": null,
   "metadata": {
    "id": "amIozsymaQqH"
   },
   "outputs": [],
   "source": []
  },
  {
   "cell_type": "markdown",
   "metadata": {
    "id": "R39aUaScaQqI"
   },
   "source": [
    "#### Box and Whisker Plot"
   ]
  },
  {
   "cell_type": "markdown",
   "metadata": {
    "id": "R4UHNA0waQqI"
   },
   "source": [
    "<img src = \"images/boxplot.jpg\" width = 800 align = left>\n"
   ]
  },
  {
   "cell_type": "markdown",
   "metadata": {
    "id": "Ou2F5vXYaQqI"
   },
   "source": [
    "### Bivariate Analysis"
   ]
  },
  {
   "cell_type": "markdown",
   "metadata": {
    "id": "5YU7oCURaQqI"
   },
   "source": [
    "`pd.crosstab(index, columns, values=None, aggfunc=None normalize=False)` **- Computes a simple cross tabulation of two (or more) factors. By default computes a frequency table of the factors unless an array of values and an aggregation function are passed.**"
   ]
  },
  {
   "cell_type": "markdown",
   "metadata": {
    "id": "Ru-jZFq8aQqI"
   },
   "source": [
    "###### Ex. Number of franchise where a product is sold across each state"
   ]
  },
  {
   "cell_type": "code",
   "execution_count": null,
   "metadata": {
    "id": "RyKVOWGGaQqI"
   },
   "outputs": [],
   "source": []
  },
  {
   "cell_type": "markdown",
   "metadata": {
    "id": "h0bntQs5aQqJ"
   },
   "source": [
    "###### Ex. Product and the number of time Sales Target achieved"
   ]
  },
  {
   "cell_type": "code",
   "execution_count": null,
   "metadata": {
    "id": "VXnTAqQRaQqJ"
   },
   "outputs": [],
   "source": []
  },
  {
   "cell_type": "markdown",
   "metadata": {
    "id": "imnBVUE1aQqJ"
   },
   "source": [
    "`df.pivot_table(values=None, index=None, columns=None, aggfunc='mean')`  **- creates a spreadsheet-style pivot table as a DataFrame. The levels in the pivot table will be stored in MultiIndex objects (hierarchical indexes) on the index and columns of the result DataFrame.**"
   ]
  },
  {
   "cell_type": "code",
   "execution_count": null,
   "metadata": {
    "id": "XRZa_VhiaQqJ"
   },
   "outputs": [],
   "source": []
  },
  {
   "cell_type": "markdown",
   "metadata": {
    "id": "i8SOslJ-aQqJ"
   },
   "source": [
    "#### Barchart"
   ]
  },
  {
   "cell_type": "markdown",
   "metadata": {
    "id": "zzkAKP2baQqK"
   },
   "source": [
    "###### Display Sales across products"
   ]
  },
  {
   "cell_type": "code",
   "execution_count": null,
   "metadata": {
    "id": "_M3fgMuZaQqK"
   },
   "outputs": [],
   "source": []
  },
  {
   "cell_type": "markdown",
   "metadata": {
    "id": "AGIdLPrmaQqK"
   },
   "source": [
    "#### Piechart"
   ]
  },
  {
   "cell_type": "code",
   "execution_count": null,
   "metadata": {
    "id": "YCD4F2-PaQqK"
   },
   "outputs": [],
   "source": []
  },
  {
   "cell_type": "markdown",
   "metadata": {
    "id": "6f9JniuMaQqK"
   },
   "source": [
    "#### Scatter Plot"
   ]
  },
  {
   "cell_type": "code",
   "execution_count": null,
   "metadata": {
    "id": "_akHm29BaQqK"
   },
   "outputs": [],
   "source": []
  },
  {
   "cell_type": "markdown",
   "metadata": {
    "id": "oYnt89-haQqL"
   },
   "source": [
    "#### Line Chart"
   ]
  },
  {
   "cell_type": "markdown",
   "metadata": {
    "id": "G-AEGUqLaQqL"
   },
   "source": [
    "###### Ex. Plot line chart showing monthly sales"
   ]
  },
  {
   "cell_type": "markdown",
   "metadata": {
    "id": "ZspBfP9faQqL"
   },
   "source": [
    "#### using pandas"
   ]
  },
  {
   "cell_type": "code",
   "execution_count": null,
   "metadata": {
    "id": "Wv7YzqoSaQqL"
   },
   "outputs": [],
   "source": []
  },
  {
   "cell_type": "markdown",
   "metadata": {
    "id": "4IPk56aYaQqL"
   },
   "source": [
    "#### using seaborn"
   ]
  },
  {
   "cell_type": "code",
   "execution_count": null,
   "metadata": {
    "id": "OfujEAlUaQqL"
   },
   "outputs": [],
   "source": []
  }
 ],
 "metadata": {
  "colab": {
   "provenance": []
  },
  "kernelspec": {
   "display_name": "Python 3 (ipykernel)",
   "language": "python",
   "name": "python3"
  },
  "language_info": {
   "codemirror_mode": {
    "name": "ipython",
    "version": 3
   },
   "file_extension": ".py",
   "mimetype": "text/x-python",
   "name": "python",
   "nbconvert_exporter": "python",
   "pygments_lexer": "ipython3",
   "version": "3.12.4"
  }
 },
 "nbformat": 4,
 "nbformat_minor": 4
}
